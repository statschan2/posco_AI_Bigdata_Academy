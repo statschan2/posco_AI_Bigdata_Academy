{
 "cells": [
  {
   "cell_type": "markdown",
   "id": "fd58d891",
   "metadata": {},
   "source": [
    "# p.222 연습\n",
    "대출자들의 채무 상환과 관련된 데이터를 활용하여 상환 여부를 예측하기 위한 분류 모델링을 실시하고, 각 모델별 정확도를 오분류율 기준으로 평가하시오.\n",
    "* 목표변수 : BAD(범주형)\n",
    "* 데이터 비율 train : test = 0.7 : 0.3\n",
    "* random_state = 1234"
   ]
  },
  {
   "cell_type": "markdown",
   "id": "cbb50da1",
   "metadata": {},
   "source": [
    "# Step 0. 패키지 불러오기"
   ]
  },
  {
   "cell_type": "code",
   "execution_count": 1,
   "id": "6300b432",
   "metadata": {},
   "outputs": [],
   "source": [
    "# 데이터 구성\n",
    "import pandas as pd\n",
    "import numpy as np\n",
    "# 데이터 시각화\n",
    "import matplotlib\n",
    "import matplotlib.pyplot as plt\n",
    "import seaborn as sns\n",
    "# 한글, 음수 표시\n",
    "matplotlib.rc('font', family = 'Malgun Gothic')\n",
    "matplotlib.rc('axes', unicode_minus = False)\n",
    "# 데이터 분리\n",
    "from sklearn.model_selection import train_test_split\n",
    "# Scaler\n",
    "from sklearn.preprocessing import StandardScaler\n",
    "# DecisionTreeClassifier\n",
    "from sklearn.tree import DecisionTreeClassifier as DTC\n",
    "# RandomForestClassifier\n",
    "from sklearn.ensemble import RandomForestClassifier as RFC\n",
    "# GradientBoostingClassifier\n",
    "from sklearn.ensemble import GradientBoostingClassifier as GBC\n",
    "# MLPClassifier\n",
    "from sklearn.neural_network import MLPClassifier\n",
    "# GridSearchCV\n",
    "from sklearn.model_selection import GridSearchCV\n",
    "# 평가함수\n",
    "from sklearn.metrics import precision_score,recall_score,f1_score,roc_curve,auc\n",
    "# 경고 메시지\n",
    "import warnings\n",
    "warnings.filterwarnings('ignore')"
   ]
  },
  {
   "cell_type": "markdown",
   "id": "069921d6",
   "metadata": {},
   "source": [
    "# Step 1. 데이터 구성하기"
   ]
  },
  {
   "cell_type": "markdown",
   "id": "0fa4f650",
   "metadata": {},
   "source": [
    "### 데이터 불러오기"
   ]
  },
  {
   "cell_type": "code",
   "execution_count": 2,
   "id": "74620d87",
   "metadata": {},
   "outputs": [
    {
     "data": {
      "text/html": [
       "<div>\n",
       "<style scoped>\n",
       "    .dataframe tbody tr th:only-of-type {\n",
       "        vertical-align: middle;\n",
       "    }\n",
       "\n",
       "    .dataframe tbody tr th {\n",
       "        vertical-align: top;\n",
       "    }\n",
       "\n",
       "    .dataframe thead th {\n",
       "        text-align: right;\n",
       "    }\n",
       "</style>\n",
       "<table border=\"1\" class=\"dataframe\">\n",
       "  <thead>\n",
       "    <tr style=\"text-align: right;\">\n",
       "      <th></th>\n",
       "      <th>BAD</th>\n",
       "      <th>LOAN</th>\n",
       "      <th>MORTDUE</th>\n",
       "      <th>VALUE</th>\n",
       "      <th>REASON</th>\n",
       "      <th>JOB</th>\n",
       "      <th>YOJ</th>\n",
       "      <th>DEROG</th>\n",
       "      <th>DELINQ</th>\n",
       "      <th>CLAGE</th>\n",
       "      <th>NINQ</th>\n",
       "      <th>CLNO</th>\n",
       "      <th>DEBTINC</th>\n",
       "    </tr>\n",
       "  </thead>\n",
       "  <tbody>\n",
       "    <tr>\n",
       "      <th>0</th>\n",
       "      <td>1</td>\n",
       "      <td>1700</td>\n",
       "      <td>30548</td>\n",
       "      <td>40320.0</td>\n",
       "      <td>HomeImp</td>\n",
       "      <td>Other</td>\n",
       "      <td>9.0</td>\n",
       "      <td>0</td>\n",
       "      <td>0.0</td>\n",
       "      <td>101.466002</td>\n",
       "      <td>1.0</td>\n",
       "      <td>8</td>\n",
       "      <td>37.113614</td>\n",
       "    </tr>\n",
       "    <tr>\n",
       "      <th>1</th>\n",
       "      <td>1</td>\n",
       "      <td>1800</td>\n",
       "      <td>28502</td>\n",
       "      <td>43034.0</td>\n",
       "      <td>HomeImp</td>\n",
       "      <td>Other</td>\n",
       "      <td>11.0</td>\n",
       "      <td>0</td>\n",
       "      <td>0.0</td>\n",
       "      <td>88.766030</td>\n",
       "      <td>0.0</td>\n",
       "      <td>8</td>\n",
       "      <td>36.884894</td>\n",
       "    </tr>\n",
       "    <tr>\n",
       "      <th>2</th>\n",
       "      <td>0</td>\n",
       "      <td>2300</td>\n",
       "      <td>102370</td>\n",
       "      <td>120953.0</td>\n",
       "      <td>HomeImp</td>\n",
       "      <td>Office</td>\n",
       "      <td>2.0</td>\n",
       "      <td>0</td>\n",
       "      <td>0.0</td>\n",
       "      <td>90.992533</td>\n",
       "      <td>0.0</td>\n",
       "      <td>13</td>\n",
       "      <td>31.588503</td>\n",
       "    </tr>\n",
       "    <tr>\n",
       "      <th>3</th>\n",
       "      <td>1</td>\n",
       "      <td>2400</td>\n",
       "      <td>34863</td>\n",
       "      <td>47471.0</td>\n",
       "      <td>HomeImp</td>\n",
       "      <td>Mgr</td>\n",
       "      <td>12.0</td>\n",
       "      <td>0</td>\n",
       "      <td>0.0</td>\n",
       "      <td>70.491080</td>\n",
       "      <td>1.0</td>\n",
       "      <td>21</td>\n",
       "      <td>38.263601</td>\n",
       "    </tr>\n",
       "    <tr>\n",
       "      <th>4</th>\n",
       "      <td>0</td>\n",
       "      <td>2400</td>\n",
       "      <td>98449</td>\n",
       "      <td>117195.0</td>\n",
       "      <td>HomeImp</td>\n",
       "      <td>Office</td>\n",
       "      <td>4.0</td>\n",
       "      <td>0</td>\n",
       "      <td>0.0</td>\n",
       "      <td>93.811775</td>\n",
       "      <td>0.0</td>\n",
       "      <td>13</td>\n",
       "      <td>29.681827</td>\n",
       "    </tr>\n",
       "  </tbody>\n",
       "</table>\n",
       "</div>"
      ],
      "text/plain": [
       "   BAD  LOAN  MORTDUE     VALUE   REASON     JOB   YOJ  DEROG  DELINQ  \\\n",
       "0    1  1700    30548   40320.0  HomeImp   Other   9.0      0     0.0   \n",
       "1    1  1800    28502   43034.0  HomeImp   Other  11.0      0     0.0   \n",
       "2    0  2300   102370  120953.0  HomeImp  Office   2.0      0     0.0   \n",
       "3    1  2400    34863   47471.0  HomeImp     Mgr  12.0      0     0.0   \n",
       "4    0  2400    98449  117195.0  HomeImp  Office   4.0      0     0.0   \n",
       "\n",
       "        CLAGE  NINQ  CLNO    DEBTINC  \n",
       "0  101.466002   1.0     8  37.113614  \n",
       "1   88.766030   0.0     8  36.884894  \n",
       "2   90.992533   0.0    13  31.588503  \n",
       "3   70.491080   1.0    21  38.263601  \n",
       "4   93.811775   0.0    13  29.681827  "
      ]
     },
     "execution_count": 2,
     "metadata": {},
     "output_type": "execute_result"
    }
   ],
   "source": [
    "df_raw = pd.read_csv('D:/Study/PoscoAcademy/2_bigdata/raw_data/HMEQ.csv', encoding = 'euc-kr')\n",
    "df_raw.head()"
   ]
  },
  {
   "cell_type": "markdown",
   "id": "542ce3c6",
   "metadata": {},
   "source": [
    "### 결측치 처리"
   ]
  },
  {
   "cell_type": "code",
   "execution_count": 3,
   "id": "268bb2d5",
   "metadata": {},
   "outputs": [
    {
     "data": {
      "text/plain": [
       "BAD          0\n",
       "LOAN         0\n",
       "MORTDUE      0\n",
       "VALUE       14\n",
       "REASON       0\n",
       "JOB         81\n",
       "YOJ        205\n",
       "DEROG        0\n",
       "DELINQ      30\n",
       "CLAGE       37\n",
       "NINQ        56\n",
       "CLNO         0\n",
       "DEBTINC      0\n",
       "dtype: int64"
      ]
     },
     "execution_count": 3,
     "metadata": {},
     "output_type": "execute_result"
    }
   ],
   "source": [
    "# 결측치 확인\n",
    "df_raw.isna().sum()"
   ]
  },
  {
   "cell_type": "code",
   "execution_count": 4,
   "id": "72365ca3",
   "metadata": {},
   "outputs": [],
   "source": [
    "# JOB 변수 결측치 Other 대체\n",
    "df_raw['JOB'].fillna('Other', inplace = True)\n",
    "# 숫자형 변수 결측치 평균 대체\n",
    "df_raw.fillna(df_raw.mean(), inplace = True)"
   ]
  },
  {
   "cell_type": "markdown",
   "id": "832fd2a1",
   "metadata": {},
   "source": [
    "### 더미변수 생성"
   ]
  },
  {
   "cell_type": "code",
   "execution_count": 5,
   "id": "8ea9bbfa",
   "metadata": {},
   "outputs": [
    {
     "data": {
      "text/html": [
       "<div>\n",
       "<style scoped>\n",
       "    .dataframe tbody tr th:only-of-type {\n",
       "        vertical-align: middle;\n",
       "    }\n",
       "\n",
       "    .dataframe tbody tr th {\n",
       "        vertical-align: top;\n",
       "    }\n",
       "\n",
       "    .dataframe thead th {\n",
       "        text-align: right;\n",
       "    }\n",
       "</style>\n",
       "<table border=\"1\" class=\"dataframe\">\n",
       "  <thead>\n",
       "    <tr style=\"text-align: right;\">\n",
       "      <th></th>\n",
       "      <th>BAD</th>\n",
       "      <th>LOAN</th>\n",
       "      <th>MORTDUE</th>\n",
       "      <th>VALUE</th>\n",
       "      <th>YOJ</th>\n",
       "      <th>DEROG</th>\n",
       "      <th>DELINQ</th>\n",
       "      <th>CLAGE</th>\n",
       "      <th>NINQ</th>\n",
       "      <th>CLNO</th>\n",
       "      <th>DEBTINC</th>\n",
       "      <th>REASON_DebtCon</th>\n",
       "      <th>REASON_HomeImp</th>\n",
       "      <th>JOB_Mgr</th>\n",
       "      <th>JOB_Office</th>\n",
       "      <th>JOB_Other</th>\n",
       "      <th>JOB_ProfExe</th>\n",
       "      <th>JOB_Sales</th>\n",
       "      <th>JOB_Self</th>\n",
       "    </tr>\n",
       "  </thead>\n",
       "  <tbody>\n",
       "    <tr>\n",
       "      <th>0</th>\n",
       "      <td>1</td>\n",
       "      <td>1700</td>\n",
       "      <td>30548</td>\n",
       "      <td>40320.0</td>\n",
       "      <td>9.0</td>\n",
       "      <td>0</td>\n",
       "      <td>0.0</td>\n",
       "      <td>101.466002</td>\n",
       "      <td>1.0</td>\n",
       "      <td>8</td>\n",
       "      <td>37.113614</td>\n",
       "      <td>0</td>\n",
       "      <td>1</td>\n",
       "      <td>0</td>\n",
       "      <td>0</td>\n",
       "      <td>1</td>\n",
       "      <td>0</td>\n",
       "      <td>0</td>\n",
       "      <td>0</td>\n",
       "    </tr>\n",
       "    <tr>\n",
       "      <th>1</th>\n",
       "      <td>1</td>\n",
       "      <td>1800</td>\n",
       "      <td>28502</td>\n",
       "      <td>43034.0</td>\n",
       "      <td>11.0</td>\n",
       "      <td>0</td>\n",
       "      <td>0.0</td>\n",
       "      <td>88.766030</td>\n",
       "      <td>0.0</td>\n",
       "      <td>8</td>\n",
       "      <td>36.884894</td>\n",
       "      <td>0</td>\n",
       "      <td>1</td>\n",
       "      <td>0</td>\n",
       "      <td>0</td>\n",
       "      <td>1</td>\n",
       "      <td>0</td>\n",
       "      <td>0</td>\n",
       "      <td>0</td>\n",
       "    </tr>\n",
       "    <tr>\n",
       "      <th>2</th>\n",
       "      <td>0</td>\n",
       "      <td>2300</td>\n",
       "      <td>102370</td>\n",
       "      <td>120953.0</td>\n",
       "      <td>2.0</td>\n",
       "      <td>0</td>\n",
       "      <td>0.0</td>\n",
       "      <td>90.992533</td>\n",
       "      <td>0.0</td>\n",
       "      <td>13</td>\n",
       "      <td>31.588503</td>\n",
       "      <td>0</td>\n",
       "      <td>1</td>\n",
       "      <td>0</td>\n",
       "      <td>1</td>\n",
       "      <td>0</td>\n",
       "      <td>0</td>\n",
       "      <td>0</td>\n",
       "      <td>0</td>\n",
       "    </tr>\n",
       "    <tr>\n",
       "      <th>3</th>\n",
       "      <td>1</td>\n",
       "      <td>2400</td>\n",
       "      <td>34863</td>\n",
       "      <td>47471.0</td>\n",
       "      <td>12.0</td>\n",
       "      <td>0</td>\n",
       "      <td>0.0</td>\n",
       "      <td>70.491080</td>\n",
       "      <td>1.0</td>\n",
       "      <td>21</td>\n",
       "      <td>38.263601</td>\n",
       "      <td>0</td>\n",
       "      <td>1</td>\n",
       "      <td>1</td>\n",
       "      <td>0</td>\n",
       "      <td>0</td>\n",
       "      <td>0</td>\n",
       "      <td>0</td>\n",
       "      <td>0</td>\n",
       "    </tr>\n",
       "    <tr>\n",
       "      <th>4</th>\n",
       "      <td>0</td>\n",
       "      <td>2400</td>\n",
       "      <td>98449</td>\n",
       "      <td>117195.0</td>\n",
       "      <td>4.0</td>\n",
       "      <td>0</td>\n",
       "      <td>0.0</td>\n",
       "      <td>93.811775</td>\n",
       "      <td>0.0</td>\n",
       "      <td>13</td>\n",
       "      <td>29.681827</td>\n",
       "      <td>0</td>\n",
       "      <td>1</td>\n",
       "      <td>0</td>\n",
       "      <td>1</td>\n",
       "      <td>0</td>\n",
       "      <td>0</td>\n",
       "      <td>0</td>\n",
       "      <td>0</td>\n",
       "    </tr>\n",
       "  </tbody>\n",
       "</table>\n",
       "</div>"
      ],
      "text/plain": [
       "   BAD  LOAN  MORTDUE     VALUE   YOJ  DEROG  DELINQ       CLAGE  NINQ  CLNO  \\\n",
       "0    1  1700    30548   40320.0   9.0      0     0.0  101.466002   1.0     8   \n",
       "1    1  1800    28502   43034.0  11.0      0     0.0   88.766030   0.0     8   \n",
       "2    0  2300   102370  120953.0   2.0      0     0.0   90.992533   0.0    13   \n",
       "3    1  2400    34863   47471.0  12.0      0     0.0   70.491080   1.0    21   \n",
       "4    0  2400    98449  117195.0   4.0      0     0.0   93.811775   0.0    13   \n",
       "\n",
       "     DEBTINC  REASON_DebtCon  REASON_HomeImp  JOB_Mgr  JOB_Office  JOB_Other  \\\n",
       "0  37.113614               0               1        0           0          1   \n",
       "1  36.884894               0               1        0           0          1   \n",
       "2  31.588503               0               1        0           1          0   \n",
       "3  38.263601               0               1        1           0          0   \n",
       "4  29.681827               0               1        0           1          0   \n",
       "\n",
       "   JOB_ProfExe  JOB_Sales  JOB_Self  \n",
       "0            0          0         0  \n",
       "1            0          0         0  \n",
       "2            0          0         0  \n",
       "3            0          0         0  \n",
       "4            0          0         0  "
      ]
     },
     "execution_count": 5,
     "metadata": {},
     "output_type": "execute_result"
    }
   ],
   "source": [
    "df_raw_dummy = pd.get_dummies(df_raw)\n",
    "df_raw_dummy.head()"
   ]
  },
  {
   "cell_type": "markdown",
   "id": "fac389dc",
   "metadata": {},
   "source": [
    "### 데이터 분리"
   ]
  },
  {
   "cell_type": "code",
   "execution_count": 6,
   "id": "1f515856",
   "metadata": {},
   "outputs": [
    {
     "name": "stdout",
     "output_type": "stream",
     "text": [
      "train data X size : (2623, 18)\n",
      "train data Y size : (2623,)\n",
      "test data X size : (1125, 18)\n",
      "test data Y size : (1125,)\n"
     ]
    }
   ],
   "source": [
    "# 설명변수, 목표변수 데이터 구분\n",
    "df_raw_x = df_raw_dummy.drop('BAD', axis = 1, inplace = False)\n",
    "df_raw_y = df_raw_dummy['BAD']\n",
    "# 데이터 분리\n",
    "df_train_x, df_test_x, df_train_y, df_test_y = train_test_split(df_raw_x, df_raw_y, test_size = 0.3, random_state = 1234)\n",
    "print('train data X size :', df_train_x.shape)\n",
    "print('train data Y size :', df_train_y.shape)\n",
    "print('test data X size :', df_test_x.shape)\n",
    "print('test data Y size :', df_test_y.shape)"
   ]
  },
  {
   "cell_type": "markdown",
   "id": "0440b37d",
   "metadata": {},
   "source": [
    "# Step 2. 모델 생성 및 평가 저장"
   ]
  },
  {
   "cell_type": "markdown",
   "id": "2b3980ab",
   "metadata": {},
   "source": [
    "### 변수 생성"
   ]
  },
  {
   "cell_type": "code",
   "execution_count": 7,
   "id": "4596867a",
   "metadata": {},
   "outputs": [],
   "source": [
    "# index\n",
    "models = ['DecisionTree','RandomForest','GradientBoosting','NeuralNetwork']\n",
    "# 정확도\n",
    "train_accuracy = [];test_accuracy = []\n",
    "# 평가 리스트\n",
    "model_auc = [];model_precision = [];model_recall = [];model_f1_score = []"
   ]
  },
  {
   "cell_type": "markdown",
   "id": "975fc00f",
   "metadata": {},
   "source": [
    "### Decision tree"
   ]
  },
  {
   "cell_type": "code",
   "execution_count": 8,
   "id": "e88ecfaa",
   "metadata": {},
   "outputs": [
    {
     "data": {
      "image/png": "[encoded data removed]",
      "text/plain": [
       "<Figure size 432x288 with 1 Axes>"
      ]
     },
     "metadata": {
      "needs_background": "light"
     },
     "output_type": "display_data"
    }
   ],
   "source": [
    "# 모델 생성\n",
    "dt_model = DTC(random_state = 1234,\n",
    "               max_depth = 4,\n",
    "               min_samples_split = 20,\n",
    "               min_samples_leaf = 8)\n",
    "dt_model.fit(df_train_x,df_train_y)\n",
    "# 정확도\n",
    "train_accuracy.append(dt_model.score(df_train_x,df_train_y))\n",
    "test_accuracy.append(dt_model.score(df_test_x,df_test_y))\n",
    "# 예측값\n",
    "y_pred = dt_model.predict(df_test_x)\n",
    "# roc_curve\n",
    "fpr,tpr,thresholds = roc_curve(df_test_y,y_pred)\n",
    "roc_auc = auc(fpr,tpr)\n",
    "# auc\n",
    "model_auc.append(roc_auc)\n",
    "# precision, recall, f1_score\n",
    "model_precision.append(precision_score(df_test_y,y_pred))\n",
    "model_recall.append(recall_score(df_test_y,y_pred))\n",
    "model_f1_score.append(f1_score(df_test_y,y_pred))\n",
    "# roc_curve 그래프 생성\n",
    "plt.plot(fpr,tpr,label = 'AUC = %0.2f' % roc_auc)\n",
    "plt.legend(loc = 'lower right')\n",
    "plt.xlabel('FPR')\n",
    "plt.ylabel('TPR')\n",
    "plt.show()"
   ]
  },
  {
   "cell_type": "markdown",
   "id": "852bffac",
   "metadata": {},
   "source": [
    "### Random Forest"
   ]
  },
  {
   "cell_type": "code",
   "execution_count": 9,
   "id": "a5b3d686",
   "metadata": {},
   "outputs": [
    {
     "data": {
      "image/png": "[encoded data removed]",
      "text/plain": [
       "<Figure size 432x288 with 1 Axes>"
      ]
     },
     "metadata": {
      "needs_background": "light"
     },
     "output_type": "display_data"
    }
   ],
   "source": [
    "# 모델 생성\n",
    "rf_model = RFC(random_state = 1234,\n",
    "               n_estimators = 100,\n",
    "               max_depth = 4,\n",
    "               min_samples_leaf = 20)\n",
    "rf_model.fit(df_train_x,df_train_y)\n",
    "# 정확도\n",
    "train_accuracy.append(rf_model.score(df_train_x,df_train_y))\n",
    "test_accuracy.append(rf_model.score(df_test_x,df_test_y))\n",
    "# 예측값\n",
    "y_pred = rf_model.predict(df_test_x)\n",
    "# roc_curve\n",
    "fpr,tpr,thresholds = roc_curve(df_test_y,y_pred)\n",
    "roc_auc = auc(fpr,tpr)\n",
    "# auc\n",
    "model_auc.append(roc_auc)\n",
    "# precision, recall, f1_score\n",
    "model_precision.append(precision_score(df_test_y,y_pred))\n",
    "model_recall.append(recall_score(df_test_y,y_pred))\n",
    "model_f1_score.append(f1_score(df_test_y,y_pred))\n",
    "# roc_curve 그래프 생성\n",
    "plt.plot(fpr,tpr,label = 'AUC = %0.2f' % roc_auc)\n",
    "plt.legend(loc = 'lower right')\n",
    "plt.xlabel('FPR')\n",
    "plt.ylabel('TPR')\n",
    "plt.show()"
   ]
  },
  {
   "cell_type": "markdown",
   "id": "ac5674f6",
   "metadata": {},
   "source": [
    "### Gradient Boosting"
   ]
  },
  {
   "cell_type": "code",
   "execution_count": 10,
   "id": "6ede8dd1",
   "metadata": {},
   "outputs": [
    {
     "data": {
      "image/png": "[encoded data removed]",
      "text/plain": [
       "<Figure size 432x288 with 1 Axes>"
      ]
     },
     "metadata": {
      "needs_background": "light"
     },
     "output_type": "display_data"
    }
   ],
   "source": [
    "# 모델 생성\n",
    "gb_model = GBC(random_state = 1234,\n",
    "               learning_rate = 0.1,\n",
    "               n_estimators = 100,\n",
    "               max_depth = 4,\n",
    "               min_samples_leaf = 10)\n",
    "gb_model.fit(df_train_x,df_train_y)\n",
    "# 정확도\n",
    "train_accuracy.append(gb_model.score(df_train_x,df_train_y))\n",
    "test_accuracy.append(gb_model.score(df_test_x,df_test_y))\n",
    "# 예측값\n",
    "y_pred = gb_model.predict(df_test_x)\n",
    "# roc_curve\n",
    "fpr,tpr,thresholds = roc_curve(df_test_y,y_pred)\n",
    "roc_auc = auc(fpr,tpr)\n",
    "# auc\n",
    "model_auc.append(roc_auc)\n",
    "# precision, recall, f1_score\n",
    "model_precision.append(precision_score(df_test_y,y_pred))\n",
    "model_recall.append(recall_score(df_test_y,y_pred))\n",
    "model_f1_score.append(f1_score(df_test_y,y_pred))\n",
    "# roc_curve 그래프 생성\n",
    "plt.plot(fpr,tpr,label = 'AUC = %0.2f' % roc_auc)\n",
    "plt.legend(loc = 'lower right')\n",
    "plt.xlabel('FPR')\n",
    "plt.ylabel('TPR')\n",
    "plt.show()"
   ]
  },
  {
   "cell_type": "markdown",
   "id": "82d41663",
   "metadata": {},
   "source": [
    "### Neural Network"
   ]
  },
  {
   "cell_type": "code",
   "execution_count": 11,
   "id": "ac02ae87",
   "metadata": {},
   "outputs": [
    {
     "data": {
      "image/png": "[encoded data removed]",
      "text/plain": [
       "<Figure size 432x288 with 1 Axes>"
      ]
     },
     "metadata": {
      "needs_background": "light"
     },
     "output_type": "display_data"
    }
   ],
   "source": [
    "# 변수명 저장\n",
    "v_feature_name = df_train_x.columns\n",
    "# StandardScaler\n",
    "scaler = StandardScaler()\n",
    "df_scaled = scaler.fit_transform(df_raw_x)\n",
    "df_scaled = pd.DataFrame(df_scaled, columns = v_feature_name)\n",
    "df_scaled.head()\n",
    "# 데이터 분리\n",
    "df_scaled_train_x, df_scaled_test_x = train_test_split(df_scaled, test_size = 0.3, random_state = 1234)\n",
    "# 최종 모델\n",
    "nn_model = MLPClassifier(random_state = 1234,\n",
    "                         hidden_layer_sizes = (80,80),\n",
    "                         activation = 'relu',\n",
    "                         solver = 'adam',\n",
    "                         batch_size = 100)\n",
    "nn_model.fit(df_scaled_train_x, df_train_y)\n",
    "# 정확도\n",
    "train_accuracy.append(nn_model.score(df_scaled_train_x,df_train_y))\n",
    "test_accuracy.append(nn_model.score(df_scaled_test_x,df_test_y))\n",
    "# 예측값\n",
    "y_pred = nn_model.predict(df_scaled_test_x)\n",
    "# roc_curve\n",
    "fpr,tpr,thresholds = roc_curve(df_test_y,y_pred)\n",
    "roc_auc = auc(fpr,tpr)\n",
    "# auc\n",
    "model_auc.append(roc_auc)\n",
    "# precision, recall, f1_score\n",
    "model_precision.append(precision_score(df_test_y,y_pred))\n",
    "model_recall.append(recall_score(df_test_y,y_pred))\n",
    "model_f1_score.append(f1_score(df_test_y,y_pred))\n",
    "# roc_curve 그래프 생성\n",
    "plt.plot(fpr,tpr,label = 'AUC = %0.2f' % roc_auc)\n",
    "plt.legend(loc = 'lower right')\n",
    "plt.xlabel('FPR')\n",
    "plt.ylabel('TPR')\n",
    "plt.show()"
   ]
  },
  {
   "cell_type": "markdown",
   "id": "45125148",
   "metadata": {},
   "source": [
    "# Step 3. 시각화"
   ]
  },
  {
   "cell_type": "code",
   "execution_count": 13,
   "id": "53265efe",
   "metadata": {},
   "outputs": [
    {
     "data": {
      "text/html": [
       "<div>\n",
       "<style scoped>\n",
       "    .dataframe tbody tr th:only-of-type {\n",
       "        vertical-align: middle;\n",
       "    }\n",
       "\n",
       "    .dataframe tbody tr th {\n",
       "        vertical-align: top;\n",
       "    }\n",
       "\n",
       "    .dataframe thead th {\n",
       "        text-align: right;\n",
       "    }\n",
       "</style>\n",
       "<table border=\"1\" class=\"dataframe\">\n",
       "  <thead>\n",
       "    <tr style=\"text-align: right;\">\n",
       "      <th></th>\n",
       "      <th>TrainAccuracy</th>\n",
       "      <th>TestAccuracy</th>\n",
       "      <th>AUC</th>\n",
       "      <th>Precision</th>\n",
       "      <th>Recall</th>\n",
       "      <th>F1Score</th>\n",
       "    </tr>\n",
       "  </thead>\n",
       "  <tbody>\n",
       "    <tr>\n",
       "      <th>DecisionTree</th>\n",
       "      <td>0.9363</td>\n",
       "      <td>0.9280</td>\n",
       "      <td>0.6365</td>\n",
       "      <td>0.8286</td>\n",
       "      <td>0.2788</td>\n",
       "      <td>0.4173</td>\n",
       "    </tr>\n",
       "    <tr>\n",
       "      <th>RandomForest</th>\n",
       "      <td>0.9268</td>\n",
       "      <td>0.9253</td>\n",
       "      <td>0.5962</td>\n",
       "      <td>1.0000</td>\n",
       "      <td>0.1923</td>\n",
       "      <td>0.3226</td>\n",
       "    </tr>\n",
       "    <tr>\n",
       "      <th>GradientBoosting</th>\n",
       "      <td>0.9771</td>\n",
       "      <td>0.9458</td>\n",
       "      <td>0.7197</td>\n",
       "      <td>0.9388</td>\n",
       "      <td>0.4423</td>\n",
       "      <td>0.6013</td>\n",
       "    </tr>\n",
       "    <tr>\n",
       "      <th>NeuralNetwork</th>\n",
       "      <td>1.0000</td>\n",
       "      <td>0.9520</td>\n",
       "      <td>0.7533</td>\n",
       "      <td>0.9464</td>\n",
       "      <td>0.5096</td>\n",
       "      <td>0.6625</td>\n",
       "    </tr>\n",
       "  </tbody>\n",
       "</table>\n",
       "</div>"
      ],
      "text/plain": [
       "                  TrainAccuracy  TestAccuracy     AUC  Precision  Recall  \\\n",
       "DecisionTree             0.9363        0.9280  0.6365     0.8286  0.2788   \n",
       "RandomForest             0.9268        0.9253  0.5962     1.0000  0.1923   \n",
       "GradientBoosting         0.9771        0.9458  0.7197     0.9388  0.4423   \n",
       "NeuralNetwork            1.0000        0.9520  0.7533     0.9464  0.5096   \n",
       "\n",
       "                  F1Score  \n",
       "DecisionTree       0.4173  \n",
       "RandomForest       0.3226  \n",
       "GradientBoosting   0.6013  \n",
       "NeuralNetwork      0.6625  "
      ]
     },
     "execution_count": 13,
     "metadata": {},
     "output_type": "execute_result"
    }
   ],
   "source": [
    "# 모델별 평가 결과\n",
    "df_eval = pd.DataFrame(index = models)\n",
    "df_eval['TrainAccuracy'] = train_accuracy\n",
    "df_eval['TestAccuracy'] = test_accuracy\n",
    "df_eval['AUC'] = model_auc\n",
    "df_eval['Precision'] = model_precision\n",
    "df_eval['Recall'] = model_recall\n",
    "df_eval['F1Score'] = model_f1_score\n",
    "df_eval.round(4)"
   ]
  },
  {
   "cell_type": "code",
   "execution_count": 14,
   "id": "6a1197a4",
   "metadata": {},
   "outputs": [
    {
     "data": {
      "image/png": "[encoded data removed]",
      "text/plain": [
       "<Figure size 720x432 with 1 Axes>"
      ]
     },
     "metadata": {
      "needs_background": "light"
     },
     "output_type": "display_data"
    }
   ],
   "source": [
    "# 모델별 평가 지표 확인\n",
    "df_eval.plot.bar(rot = 0, figsize = (10,6))\n",
    "plt.legend(loc = 'lower right')\n",
    "plt.grid(axis = 'y')\n",
    "plt.show()"
   ]
  },
  {
   "cell_type": "markdown",
   "id": "88197547",
   "metadata": {},
   "source": [
    "* 인공 신경망 모델의 정확도 및 F1Score가 가장 높다.\n",
    "* F1Score : 인공 신경망 > 그래디언트 부스팅 > 의사결정나무 > 랜덤 포레스트"
   ]
  }
 ],
 "metadata": {
  "kernelspec": {
   "display_name": "Python 3 (ipykernel)",
   "language": "python",
   "name": "python3"
  },
  "language_info": {
   "codemirror_mode": {
    "name": "ipython",
    "version": 3
   },
   "file_extension": ".py",
   "mimetype": "text/x-python",
   "name": "python",
   "nbconvert_exporter": "python",
   "pygments_lexer": "ipython3",
   "version": "3.9.12"
  }
 },
 "nbformat": 4,
 "nbformat_minor": 5
}
