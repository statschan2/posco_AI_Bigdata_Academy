{
 "cells": [
  {
   "cell_type": "markdown",
   "id": "c00e664c",
   "metadata": {},
   "source": [
    "# p.105 연습\n",
    "대출자들의 채무 상환과 관련된 데이터를 활용하여 상환 여부를 예측하기 위한 그래디언트 부스팅 분석을 실시하고 결과를 해석하시오.\n",
    "* 목표변수 : BAD(범주형)\n",
    "* 데이터 비율 train : test = 0.7 : 0.3\n",
    "* random_state = 1234"
   ]
  },
  {
   "cell_type": "markdown",
   "id": "e52c45e9",
   "metadata": {},
   "source": [
    "# Step 0. 패키지 불러오기"
   ]
  },
  {
   "cell_type": "markdown",
   "id": "d412ba8b",
   "metadata": {},
   "source": [
    "### 나무 시각화 패키지 설치"
   ]
  },
  {
   "cell_type": "code",
   "execution_count": 1,
   "id": "387d49df",
   "metadata": {},
   "outputs": [],
   "source": [
    "# !pip install graphviz"
   ]
  },
  {
   "cell_type": "markdown",
   "id": "a209375a",
   "metadata": {},
   "source": [
    "### 경로 설정"
   ]
  },
  {
   "cell_type": "code",
   "execution_count": 2,
   "id": "ccb9575a",
   "metadata": {},
   "outputs": [],
   "source": [
    "# os 환경\n",
    "import os\n",
    "import sys\n",
    "# PATH 설정\n",
    "os.environ['PATH'] += os.pathsep + 'C:/Program Files (x86)/Graphviz/bin/'"
   ]
  },
  {
   "cell_type": "markdown",
   "id": "b549863d",
   "metadata": {},
   "source": [
    "### 패키지 불러오기"
   ]
  },
  {
   "cell_type": "code",
   "execution_count": 3,
   "id": "b380bafe",
   "metadata": {},
   "outputs": [],
   "source": [
    "# 데이터 구성\n",
    "import pandas as pd\n",
    "import numpy as np\n",
    "# 데이터 시각화\n",
    "import matplotlib\n",
    "import matplotlib.pyplot as plt\n",
    "import seaborn as sns\n",
    "# 한글, 음수 표시\n",
    "matplotlib.rc('font', family = 'Malgun Gothic')\n",
    "matplotlib.rc('axes', unicode_minus = False)\n",
    "# 나무 구조 시각화\n",
    "import pydot\n",
    "import graphviz\n",
    "from sklearn import tree\n",
    "from graphviz import Source\n",
    "# 나무 구조 생성 및 저장\n",
    "from sklearn.tree import export_graphviz\n",
    "# 데이터 분리\n",
    "from sklearn.model_selection import train_test_split\n",
    "# GradientBoostingClassifier\n",
    "from sklearn.ensemble import GradientBoostingClassifier as GBC\n",
    "# GridSearchCV\n",
    "from sklearn.model_selection import GridSearchCV\n",
    "# 평가함수\n",
    "from sklearn.metrics import accuracy_score, f1_score, confusion_matrix, classification_report\n",
    "# 경고 메시지\n",
    "import warnings\n",
    "warnings.filterwarnings('ignore')"
   ]
  },
  {
   "cell_type": "markdown",
   "id": "8547ef51",
   "metadata": {},
   "source": [
    "# Step 1. 데이터 구성하기"
   ]
  },
  {
   "cell_type": "markdown",
   "id": "a62a3132",
   "metadata": {},
   "source": [
    "### 데이터 불러오기"
   ]
  },
  {
   "cell_type": "code",
   "execution_count": 4,
   "id": "e83b5ccd",
   "metadata": {},
   "outputs": [
    {
     "data": {
      "text/html": [
       "<div>\n",
       "<style scoped>\n",
       "    .dataframe tbody tr th:only-of-type {\n",
       "        vertical-align: middle;\n",
       "    }\n",
       "\n",
       "    .dataframe tbody tr th {\n",
       "        vertical-align: top;\n",
       "    }\n",
       "\n",
       "    .dataframe thead th {\n",
       "        text-align: right;\n",
       "    }\n",
       "</style>\n",
       "<table border=\"1\" class=\"dataframe\">\n",
       "  <thead>\n",
       "    <tr style=\"text-align: right;\">\n",
       "      <th></th>\n",
       "      <th>BAD</th>\n",
       "      <th>LOAN</th>\n",
       "      <th>MORTDUE</th>\n",
       "      <th>VALUE</th>\n",
       "      <th>REASON</th>\n",
       "      <th>JOB</th>\n",
       "      <th>YOJ</th>\n",
       "      <th>DEROG</th>\n",
       "      <th>DELINQ</th>\n",
       "      <th>CLAGE</th>\n",
       "      <th>NINQ</th>\n",
       "      <th>CLNO</th>\n",
       "      <th>DEBTINC</th>\n",
       "    </tr>\n",
       "  </thead>\n",
       "  <tbody>\n",
       "    <tr>\n",
       "      <th>0</th>\n",
       "      <td>1</td>\n",
       "      <td>1700</td>\n",
       "      <td>30548</td>\n",
       "      <td>40320.0</td>\n",
       "      <td>HomeImp</td>\n",
       "      <td>Other</td>\n",
       "      <td>9.0</td>\n",
       "      <td>0</td>\n",
       "      <td>0.0</td>\n",
       "      <td>101.466002</td>\n",
       "      <td>1.0</td>\n",
       "      <td>8</td>\n",
       "      <td>37.113614</td>\n",
       "    </tr>\n",
       "    <tr>\n",
       "      <th>1</th>\n",
       "      <td>1</td>\n",
       "      <td>1800</td>\n",
       "      <td>28502</td>\n",
       "      <td>43034.0</td>\n",
       "      <td>HomeImp</td>\n",
       "      <td>Other</td>\n",
       "      <td>11.0</td>\n",
       "      <td>0</td>\n",
       "      <td>0.0</td>\n",
       "      <td>88.766030</td>\n",
       "      <td>0.0</td>\n",
       "      <td>8</td>\n",
       "      <td>36.884894</td>\n",
       "    </tr>\n",
       "    <tr>\n",
       "      <th>2</th>\n",
       "      <td>0</td>\n",
       "      <td>2300</td>\n",
       "      <td>102370</td>\n",
       "      <td>120953.0</td>\n",
       "      <td>HomeImp</td>\n",
       "      <td>Office</td>\n",
       "      <td>2.0</td>\n",
       "      <td>0</td>\n",
       "      <td>0.0</td>\n",
       "      <td>90.992533</td>\n",
       "      <td>0.0</td>\n",
       "      <td>13</td>\n",
       "      <td>31.588503</td>\n",
       "    </tr>\n",
       "    <tr>\n",
       "      <th>3</th>\n",
       "      <td>1</td>\n",
       "      <td>2400</td>\n",
       "      <td>34863</td>\n",
       "      <td>47471.0</td>\n",
       "      <td>HomeImp</td>\n",
       "      <td>Mgr</td>\n",
       "      <td>12.0</td>\n",
       "      <td>0</td>\n",
       "      <td>0.0</td>\n",
       "      <td>70.491080</td>\n",
       "      <td>1.0</td>\n",
       "      <td>21</td>\n",
       "      <td>38.263601</td>\n",
       "    </tr>\n",
       "    <tr>\n",
       "      <th>4</th>\n",
       "      <td>0</td>\n",
       "      <td>2400</td>\n",
       "      <td>98449</td>\n",
       "      <td>117195.0</td>\n",
       "      <td>HomeImp</td>\n",
       "      <td>Office</td>\n",
       "      <td>4.0</td>\n",
       "      <td>0</td>\n",
       "      <td>0.0</td>\n",
       "      <td>93.811775</td>\n",
       "      <td>0.0</td>\n",
       "      <td>13</td>\n",
       "      <td>29.681827</td>\n",
       "    </tr>\n",
       "  </tbody>\n",
       "</table>\n",
       "</div>"
      ],
      "text/plain": [
       "   BAD  LOAN  MORTDUE     VALUE   REASON     JOB   YOJ  DEROG  DELINQ  \\\n",
       "0    1  1700    30548   40320.0  HomeImp   Other   9.0      0     0.0   \n",
       "1    1  1800    28502   43034.0  HomeImp   Other  11.0      0     0.0   \n",
       "2    0  2300   102370  120953.0  HomeImp  Office   2.0      0     0.0   \n",
       "3    1  2400    34863   47471.0  HomeImp     Mgr  12.0      0     0.0   \n",
       "4    0  2400    98449  117195.0  HomeImp  Office   4.0      0     0.0   \n",
       "\n",
       "        CLAGE  NINQ  CLNO    DEBTINC  \n",
       "0  101.466002   1.0     8  37.113614  \n",
       "1   88.766030   0.0     8  36.884894  \n",
       "2   90.992533   0.0    13  31.588503  \n",
       "3   70.491080   1.0    21  38.263601  \n",
       "4   93.811775   0.0    13  29.681827  "
      ]
     },
     "execution_count": 4,
     "metadata": {},
     "output_type": "execute_result"
    }
   ],
   "source": [
    "df_raw = pd.read_csv('D:/Study/PoscoAcademy/2_bigdata/raw_data/HMEQ.csv')\n",
    "df_raw.head()"
   ]
  },
  {
   "cell_type": "markdown",
   "id": "e13e45d6",
   "metadata": {},
   "source": [
    "### 결측치 처리"
   ]
  },
  {
   "cell_type": "code",
   "execution_count": 5,
   "id": "8a4dc010",
   "metadata": {},
   "outputs": [
    {
     "data": {
      "text/plain": [
       "BAD          0\n",
       "LOAN         0\n",
       "MORTDUE      0\n",
       "VALUE       14\n",
       "REASON       0\n",
       "JOB         81\n",
       "YOJ        205\n",
       "DEROG        0\n",
       "DELINQ      30\n",
       "CLAGE       37\n",
       "NINQ        56\n",
       "CLNO         0\n",
       "DEBTINC      0\n",
       "dtype: int64"
      ]
     },
     "execution_count": 5,
     "metadata": {},
     "output_type": "execute_result"
    }
   ],
   "source": [
    "# 결측치 확인\n",
    "df_raw.isna().sum()"
   ]
  },
  {
   "cell_type": "code",
   "execution_count": 6,
   "id": "28aab774",
   "metadata": {},
   "outputs": [],
   "source": [
    "# JOB 변수 결측치 Other 대체\n",
    "df_raw['JOB'].fillna('Other', inplace = True)\n",
    "# 숫자형 변수 결측치 평균 대체\n",
    "df_raw.fillna(df_raw.mean(), inplace = True)"
   ]
  },
  {
   "cell_type": "markdown",
   "id": "acb57b24",
   "metadata": {},
   "source": [
    "### 더미변수 생성"
   ]
  },
  {
   "cell_type": "code",
   "execution_count": 7,
   "id": "28b1f6f3",
   "metadata": {},
   "outputs": [
    {
     "data": {
      "text/html": [
       "<div>\n",
       "<style scoped>\n",
       "    .dataframe tbody tr th:only-of-type {\n",
       "        vertical-align: middle;\n",
       "    }\n",
       "\n",
       "    .dataframe tbody tr th {\n",
       "        vertical-align: top;\n",
       "    }\n",
       "\n",
       "    .dataframe thead th {\n",
       "        text-align: right;\n",
       "    }\n",
       "</style>\n",
       "<table border=\"1\" class=\"dataframe\">\n",
       "  <thead>\n",
       "    <tr style=\"text-align: right;\">\n",
       "      <th></th>\n",
       "      <th>BAD</th>\n",
       "      <th>LOAN</th>\n",
       "      <th>MORTDUE</th>\n",
       "      <th>VALUE</th>\n",
       "      <th>YOJ</th>\n",
       "      <th>DEROG</th>\n",
       "      <th>DELINQ</th>\n",
       "      <th>CLAGE</th>\n",
       "      <th>NINQ</th>\n",
       "      <th>CLNO</th>\n",
       "      <th>DEBTINC</th>\n",
       "      <th>REASON_DebtCon</th>\n",
       "      <th>REASON_HomeImp</th>\n",
       "      <th>JOB_Mgr</th>\n",
       "      <th>JOB_Office</th>\n",
       "      <th>JOB_Other</th>\n",
       "      <th>JOB_ProfExe</th>\n",
       "      <th>JOB_Sales</th>\n",
       "      <th>JOB_Self</th>\n",
       "    </tr>\n",
       "  </thead>\n",
       "  <tbody>\n",
       "    <tr>\n",
       "      <th>0</th>\n",
       "      <td>1</td>\n",
       "      <td>1700</td>\n",
       "      <td>30548</td>\n",
       "      <td>40320.0</td>\n",
       "      <td>9.0</td>\n",
       "      <td>0</td>\n",
       "      <td>0.0</td>\n",
       "      <td>101.466002</td>\n",
       "      <td>1.0</td>\n",
       "      <td>8</td>\n",
       "      <td>37.113614</td>\n",
       "      <td>0</td>\n",
       "      <td>1</td>\n",
       "      <td>0</td>\n",
       "      <td>0</td>\n",
       "      <td>1</td>\n",
       "      <td>0</td>\n",
       "      <td>0</td>\n",
       "      <td>0</td>\n",
       "    </tr>\n",
       "    <tr>\n",
       "      <th>1</th>\n",
       "      <td>1</td>\n",
       "      <td>1800</td>\n",
       "      <td>28502</td>\n",
       "      <td>43034.0</td>\n",
       "      <td>11.0</td>\n",
       "      <td>0</td>\n",
       "      <td>0.0</td>\n",
       "      <td>88.766030</td>\n",
       "      <td>0.0</td>\n",
       "      <td>8</td>\n",
       "      <td>36.884894</td>\n",
       "      <td>0</td>\n",
       "      <td>1</td>\n",
       "      <td>0</td>\n",
       "      <td>0</td>\n",
       "      <td>1</td>\n",
       "      <td>0</td>\n",
       "      <td>0</td>\n",
       "      <td>0</td>\n",
       "    </tr>\n",
       "    <tr>\n",
       "      <th>2</th>\n",
       "      <td>0</td>\n",
       "      <td>2300</td>\n",
       "      <td>102370</td>\n",
       "      <td>120953.0</td>\n",
       "      <td>2.0</td>\n",
       "      <td>0</td>\n",
       "      <td>0.0</td>\n",
       "      <td>90.992533</td>\n",
       "      <td>0.0</td>\n",
       "      <td>13</td>\n",
       "      <td>31.588503</td>\n",
       "      <td>0</td>\n",
       "      <td>1</td>\n",
       "      <td>0</td>\n",
       "      <td>1</td>\n",
       "      <td>0</td>\n",
       "      <td>0</td>\n",
       "      <td>0</td>\n",
       "      <td>0</td>\n",
       "    </tr>\n",
       "    <tr>\n",
       "      <th>3</th>\n",
       "      <td>1</td>\n",
       "      <td>2400</td>\n",
       "      <td>34863</td>\n",
       "      <td>47471.0</td>\n",
       "      <td>12.0</td>\n",
       "      <td>0</td>\n",
       "      <td>0.0</td>\n",
       "      <td>70.491080</td>\n",
       "      <td>1.0</td>\n",
       "      <td>21</td>\n",
       "      <td>38.263601</td>\n",
       "      <td>0</td>\n",
       "      <td>1</td>\n",
       "      <td>1</td>\n",
       "      <td>0</td>\n",
       "      <td>0</td>\n",
       "      <td>0</td>\n",
       "      <td>0</td>\n",
       "      <td>0</td>\n",
       "    </tr>\n",
       "    <tr>\n",
       "      <th>4</th>\n",
       "      <td>0</td>\n",
       "      <td>2400</td>\n",
       "      <td>98449</td>\n",
       "      <td>117195.0</td>\n",
       "      <td>4.0</td>\n",
       "      <td>0</td>\n",
       "      <td>0.0</td>\n",
       "      <td>93.811775</td>\n",
       "      <td>0.0</td>\n",
       "      <td>13</td>\n",
       "      <td>29.681827</td>\n",
       "      <td>0</td>\n",
       "      <td>1</td>\n",
       "      <td>0</td>\n",
       "      <td>1</td>\n",
       "      <td>0</td>\n",
       "      <td>0</td>\n",
       "      <td>0</td>\n",
       "      <td>0</td>\n",
       "    </tr>\n",
       "  </tbody>\n",
       "</table>\n",
       "</div>"
      ],
      "text/plain": [
       "   BAD  LOAN  MORTDUE     VALUE   YOJ  DEROG  DELINQ       CLAGE  NINQ  CLNO  \\\n",
       "0    1  1700    30548   40320.0   9.0      0     0.0  101.466002   1.0     8   \n",
       "1    1  1800    28502   43034.0  11.0      0     0.0   88.766030   0.0     8   \n",
       "2    0  2300   102370  120953.0   2.0      0     0.0   90.992533   0.0    13   \n",
       "3    1  2400    34863   47471.0  12.0      0     0.0   70.491080   1.0    21   \n",
       "4    0  2400    98449  117195.0   4.0      0     0.0   93.811775   0.0    13   \n",
       "\n",
       "     DEBTINC  REASON_DebtCon  REASON_HomeImp  JOB_Mgr  JOB_Office  JOB_Other  \\\n",
       "0  37.113614               0               1        0           0          1   \n",
       "1  36.884894               0               1        0           0          1   \n",
       "2  31.588503               0               1        0           1          0   \n",
       "3  38.263601               0               1        1           0          0   \n",
       "4  29.681827               0               1        0           1          0   \n",
       "\n",
       "   JOB_ProfExe  JOB_Sales  JOB_Self  \n",
       "0            0          0         0  \n",
       "1            0          0         0  \n",
       "2            0          0         0  \n",
       "3            0          0         0  \n",
       "4            0          0         0  "
      ]
     },
     "execution_count": 7,
     "metadata": {},
     "output_type": "execute_result"
    }
   ],
   "source": [
    "df_raw_dummy = pd.get_dummies(df_raw)\n",
    "df_raw_dummy.head()"
   ]
  },
  {
   "cell_type": "markdown",
   "id": "559dd3e6",
   "metadata": {},
   "source": [
    "### 데이터 분리"
   ]
  },
  {
   "cell_type": "code",
   "execution_count": 8,
   "id": "cb849d84",
   "metadata": {},
   "outputs": [
    {
     "name": "stdout",
     "output_type": "stream",
     "text": [
      "train data X size : (2623, 18)\n",
      "train data Y size : (2623,)\n",
      "test data X size : (1125, 18)\n",
      "test data Y size : (1125,)\n"
     ]
    }
   ],
   "source": [
    "# 설명변수, 목표변수 데이터 구분\n",
    "df_raw_x = df_raw_dummy.drop('BAD', axis = 1, inplace = False)\n",
    "df_raw_y = df_raw_dummy['BAD']\n",
    "# 데이터 분할\n",
    "df_train_x, df_test_x, df_train_y, df_test_y = train_test_split(df_raw_x, df_raw_y, test_size = 0.3, random_state = 1234)\n",
    "print('train data X size :', df_train_x.shape)\n",
    "print('train data Y size :', df_train_y.shape)\n",
    "print('test data X size :', df_test_x.shape)\n",
    "print('test data Y size :', df_test_y.shape)"
   ]
  },
  {
   "cell_type": "markdown",
   "id": "ca96d21b",
   "metadata": {},
   "source": [
    "# Step 2. 그래디언트 부스팅 모델 생성"
   ]
  },
  {
   "cell_type": "markdown",
   "id": "4298449b",
   "metadata": {},
   "source": [
    "### 기본 옵션으로 모델 생성"
   ]
  },
  {
   "cell_type": "code",
   "execution_count": 9,
   "id": "1e9eb6b7",
   "metadata": {},
   "outputs": [
    {
     "name": "stdout",
     "output_type": "stream",
     "text": [
      "Score in train set : 0.9634\n",
      "Score in test set : 0.9413\n"
     ]
    }
   ],
   "source": [
    "# 기본 모델\n",
    "gbc_basic = GBC(random_state = 1234)\n",
    "gbc_basic.fit(df_train_x, df_train_y)\n",
    "# train/test 데이터 설명력\n",
    "print('Score in train set :', gbc_basic.score(df_train_x, df_train_y).round(4))\n",
    "print('Score in test set :', gbc_basic.score(df_test_x, df_test_y).round(4))"
   ]
  },
  {
   "cell_type": "markdown",
   "id": "5e85c16e",
   "metadata": {},
   "source": [
    "* 전체적으로 성능이 양호하고, 유사한 수준"
   ]
  },
  {
   "cell_type": "markdown",
   "id": "7b6933ae",
   "metadata": {},
   "source": [
    "### Hyper Parameter"
   ]
  },
  {
   "cell_type": "markdown",
   "id": "d7ab6366",
   "metadata": {},
   "source": [
    "##### learning_rate : 학습률"
   ]
  },
  {
   "cell_type": "code",
   "execution_count": 10,
   "id": "2ecd6e6f",
   "metadata": {},
   "outputs": [
    {
     "data": {
      "text/html": [
       "<div>\n",
       "<style scoped>\n",
       "    .dataframe tbody tr th:only-of-type {\n",
       "        vertical-align: middle;\n",
       "    }\n",
       "\n",
       "    .dataframe tbody tr th {\n",
       "        vertical-align: top;\n",
       "    }\n",
       "\n",
       "    .dataframe thead th {\n",
       "        text-align: right;\n",
       "    }\n",
       "</style>\n",
       "<table border=\"1\" class=\"dataframe\">\n",
       "  <thead>\n",
       "    <tr style=\"text-align: right;\">\n",
       "      <th></th>\n",
       "      <th>n_estimators</th>\n",
       "      <th>TrainAccuracy</th>\n",
       "      <th>TestAccuracy</th>\n",
       "    </tr>\n",
       "  </thead>\n",
       "  <tbody>\n",
       "    <tr>\n",
       "      <th>0</th>\n",
       "      <td>0.1</td>\n",
       "      <td>0.963</td>\n",
       "      <td>0.941</td>\n",
       "    </tr>\n",
       "    <tr>\n",
       "      <th>1</th>\n",
       "      <td>0.2</td>\n",
       "      <td>0.984</td>\n",
       "      <td>0.940</td>\n",
       "    </tr>\n",
       "    <tr>\n",
       "      <th>2</th>\n",
       "      <td>0.3</td>\n",
       "      <td>0.994</td>\n",
       "      <td>0.939</td>\n",
       "    </tr>\n",
       "    <tr>\n",
       "      <th>3</th>\n",
       "      <td>0.4</td>\n",
       "      <td>0.999</td>\n",
       "      <td>0.944</td>\n",
       "    </tr>\n",
       "    <tr>\n",
       "      <th>4</th>\n",
       "      <td>0.5</td>\n",
       "      <td>1.000</td>\n",
       "      <td>0.934</td>\n",
       "    </tr>\n",
       "    <tr>\n",
       "      <th>5</th>\n",
       "      <td>0.6</td>\n",
       "      <td>1.000</td>\n",
       "      <td>0.937</td>\n",
       "    </tr>\n",
       "    <tr>\n",
       "      <th>6</th>\n",
       "      <td>0.7</td>\n",
       "      <td>1.000</td>\n",
       "      <td>0.941</td>\n",
       "    </tr>\n",
       "    <tr>\n",
       "      <th>7</th>\n",
       "      <td>0.8</td>\n",
       "      <td>0.999</td>\n",
       "      <td>0.931</td>\n",
       "    </tr>\n",
       "    <tr>\n",
       "      <th>8</th>\n",
       "      <td>0.9</td>\n",
       "      <td>1.000</td>\n",
       "      <td>0.937</td>\n",
       "    </tr>\n",
       "  </tbody>\n",
       "</table>\n",
       "</div>"
      ],
      "text/plain": [
       "   n_estimators  TrainAccuracy  TestAccuracy\n",
       "0           0.1          0.963         0.941\n",
       "1           0.2          0.984         0.940\n",
       "2           0.3          0.994         0.939\n",
       "3           0.4          0.999         0.944\n",
       "4           0.5          1.000         0.934\n",
       "5           0.6          1.000         0.937\n",
       "6           0.7          1.000         0.941\n",
       "7           0.8          0.999         0.931\n",
       "8           0.9          1.000         0.937"
      ]
     },
     "execution_count": 10,
     "metadata": {},
     "output_type": "execute_result"
    }
   ],
   "source": [
    "# train/test 설명력 저장\n",
    "train_accuracy = []\n",
    "test_accuracy = []\n",
    "\n",
    "# learning_rate\n",
    "para_lr = [lr * 0.1 for lr in range(1,10)]\n",
    "\n",
    "for v_learning_rate in para_lr :\n",
    "    gbc = GBC(random_state = 1234,\n",
    "              learning_rate = v_learning_rate)\n",
    "    gbc.fit(df_train_x, df_train_y)\n",
    "    train_accuracy.append(gbc.score(df_train_x, df_train_y))\n",
    "    test_accuracy.append(gbc.score(df_test_x, df_test_y))\n",
    "    \n",
    "# 결과 저장\n",
    "df_accuracy_lr = pd.DataFrame()\n",
    "df_accuracy_lr['LearningRate'] = para_lr\n",
    "df_accuracy_lr['TrainAccuracy'] = train_accuracy\n",
    "df_accuracy_lr['TestAccuracy'] = test_accuracy\n",
    "\n",
    "# 모델 설명력 확인\n",
    "df_accuracy_lr.round(3)"
   ]
  },
  {
   "cell_type": "code",
   "execution_count": 11,
   "id": "8bed300f",
   "metadata": {},
   "outputs": [
    {
     "data": {
      "text/plain": [
       "<matplotlib.legend.Legend at 0x1770f577fa0>"
      ]
     },
     "execution_count": 11,
     "metadata": {},
     "output_type": "execute_result"
    },
    {
     "data": {
      "image/png": "[encoded data removed]",
      "text/plain": [
       "<Figure size 432x288 with 1 Axes>"
      ]
     },
     "metadata": {
      "needs_background": "light"
     },
     "output_type": "display_data"
    }
   ],
   "source": [
    "# 모델 설명력 그래프 확인\n",
    "plt.plot(para_lr, train_accuracy, linestyle = '-', label = 'TrainAccuracy')\n",
    "plt.plot(para_lr, test_accuracy, linestyle = '--', label = 'TestAccuracy')\n",
    "plt.legend()"
   ]
  },
  {
   "cell_type": "markdown",
   "id": "8868d701",
   "metadata": {},
   "source": [
    "* learning_rate 증가하면 설명력은 증가\n",
    "* 0.1 ~ 0.2 중 하나 선택"
   ]
  },
  {
   "cell_type": "markdown",
   "id": "6c20713d",
   "metadata": {},
   "source": [
    "##### n_estimators : 트리 수"
   ]
  },
  {
   "cell_type": "code",
   "execution_count": 12,
   "id": "d5aaf11d",
   "metadata": {},
   "outputs": [
    {
     "data": {
      "text/html": [
       "<div>\n",
       "<style scoped>\n",
       "    .dataframe tbody tr th:only-of-type {\n",
       "        vertical-align: middle;\n",
       "    }\n",
       "\n",
       "    .dataframe tbody tr th {\n",
       "        vertical-align: top;\n",
       "    }\n",
       "\n",
       "    .dataframe thead th {\n",
       "        text-align: right;\n",
       "    }\n",
       "</style>\n",
       "<table border=\"1\" class=\"dataframe\">\n",
       "  <thead>\n",
       "    <tr style=\"text-align: right;\">\n",
       "      <th></th>\n",
       "      <th>n_estimators</th>\n",
       "      <th>TrainAccuracy</th>\n",
       "      <th>TestAccuracy</th>\n",
       "    </tr>\n",
       "  </thead>\n",
       "  <tbody>\n",
       "    <tr>\n",
       "      <th>0</th>\n",
       "      <td>10</td>\n",
       "      <td>0.933</td>\n",
       "      <td>0.928</td>\n",
       "    </tr>\n",
       "    <tr>\n",
       "      <th>1</th>\n",
       "      <td>20</td>\n",
       "      <td>0.939</td>\n",
       "      <td>0.932</td>\n",
       "    </tr>\n",
       "    <tr>\n",
       "      <th>2</th>\n",
       "      <td>30</td>\n",
       "      <td>0.947</td>\n",
       "      <td>0.936</td>\n",
       "    </tr>\n",
       "    <tr>\n",
       "      <th>3</th>\n",
       "      <td>40</td>\n",
       "      <td>0.952</td>\n",
       "      <td>0.940</td>\n",
       "    </tr>\n",
       "    <tr>\n",
       "      <th>4</th>\n",
       "      <td>50</td>\n",
       "      <td>0.956</td>\n",
       "      <td>0.940</td>\n",
       "    </tr>\n",
       "    <tr>\n",
       "      <th>5</th>\n",
       "      <td>60</td>\n",
       "      <td>0.957</td>\n",
       "      <td>0.940</td>\n",
       "    </tr>\n",
       "    <tr>\n",
       "      <th>6</th>\n",
       "      <td>70</td>\n",
       "      <td>0.957</td>\n",
       "      <td>0.939</td>\n",
       "    </tr>\n",
       "    <tr>\n",
       "      <th>7</th>\n",
       "      <td>80</td>\n",
       "      <td>0.960</td>\n",
       "      <td>0.939</td>\n",
       "    </tr>\n",
       "    <tr>\n",
       "      <th>8</th>\n",
       "      <td>90</td>\n",
       "      <td>0.961</td>\n",
       "      <td>0.940</td>\n",
       "    </tr>\n",
       "    <tr>\n",
       "      <th>9</th>\n",
       "      <td>100</td>\n",
       "      <td>0.963</td>\n",
       "      <td>0.941</td>\n",
       "    </tr>\n",
       "    <tr>\n",
       "      <th>10</th>\n",
       "      <td>110</td>\n",
       "      <td>0.965</td>\n",
       "      <td>0.940</td>\n",
       "    </tr>\n",
       "    <tr>\n",
       "      <th>11</th>\n",
       "      <td>120</td>\n",
       "      <td>0.966</td>\n",
       "      <td>0.940</td>\n",
       "    </tr>\n",
       "    <tr>\n",
       "      <th>12</th>\n",
       "      <td>130</td>\n",
       "      <td>0.969</td>\n",
       "      <td>0.941</td>\n",
       "    </tr>\n",
       "    <tr>\n",
       "      <th>13</th>\n",
       "      <td>140</td>\n",
       "      <td>0.971</td>\n",
       "      <td>0.942</td>\n",
       "    </tr>\n",
       "    <tr>\n",
       "      <th>14</th>\n",
       "      <td>150</td>\n",
       "      <td>0.970</td>\n",
       "      <td>0.944</td>\n",
       "    </tr>\n",
       "  </tbody>\n",
       "</table>\n",
       "</div>"
      ],
      "text/plain": [
       "    n_estimators  TrainAccuracy  TestAccuracy\n",
       "0             10          0.933         0.928\n",
       "1             20          0.939         0.932\n",
       "2             30          0.947         0.936\n",
       "3             40          0.952         0.940\n",
       "4             50          0.956         0.940\n",
       "5             60          0.957         0.940\n",
       "6             70          0.957         0.939\n",
       "7             80          0.960         0.939\n",
       "8             90          0.961         0.940\n",
       "9            100          0.963         0.941\n",
       "10           110          0.965         0.940\n",
       "11           120          0.966         0.940\n",
       "12           130          0.969         0.941\n",
       "13           140          0.971         0.942\n",
       "14           150          0.970         0.944"
      ]
     },
     "execution_count": 12,
     "metadata": {},
     "output_type": "execute_result"
    }
   ],
   "source": [
    "# train/test 설명력 저장\n",
    "train_accuracy = []\n",
    "test_accuracy = []\n",
    "\n",
    "# n_estimators\n",
    "para_n_tree = [n_tree * 10 for n_tree in range(1,16)]\n",
    "\n",
    "for v_n_estimators in para_n_tree :\n",
    "    gbc = GBC(random_state = 1234,\n",
    "              learning_rate = 0.1,\n",
    "              n_estimators = v_n_estimators)\n",
    "    gbc.fit(df_train_x, df_train_y)\n",
    "    train_accuracy.append(gbc.score(df_train_x, df_train_y))\n",
    "    test_accuracy.append(gbc.score(df_test_x, df_test_y))\n",
    "    \n",
    "# 결과 저장\n",
    "df_accuracy_n = pd.DataFrame()\n",
    "df_accuracy_n['n_estimators'] = para_n_tree\n",
    "df_accuracy_n['TrainAccuracy'] = train_accuracy\n",
    "df_accuracy_n['TestAccuracy'] = test_accuracy\n",
    "\n",
    "# 모델 설명력 확인\n",
    "df_accuracy_n.round(3)"
   ]
  },
  {
   "cell_type": "code",
   "execution_count": 13,
   "id": "71c10f3a",
   "metadata": {},
   "outputs": [
    {
     "data": {
      "text/plain": [
       "<matplotlib.legend.Legend at 0x17710d03a90>"
      ]
     },
     "execution_count": 13,
     "metadata": {},
     "output_type": "execute_result"
    },
    {
     "data": {
      "image/png": "[encoded data removed]",
      "text/plain": [
       "<Figure size 432x288 with 1 Axes>"
      ]
     },
     "metadata": {
      "needs_background": "light"
     },
     "output_type": "display_data"
    }
   ],
   "source": [
    "# 모델 설명력 그래프 확인\n",
    "plt.plot(para_n_tree, train_accuracy, linestyle = '-', label = 'TrainAccuracy')\n",
    "plt.plot(para_n_tree, test_accuracy, linestyle = '--', label = 'TestAccuracy')\n",
    "plt.legend()"
   ]
  },
  {
   "cell_type": "markdown",
   "id": "0b5b4bbd",
   "metadata": {},
   "source": [
    "* n_estimators 증가하면 설명력은 증가\n",
    "* 60, 80, 100 중 하나 선택"
   ]
  },
  {
   "cell_type": "markdown",
   "id": "090114a0",
   "metadata": {},
   "source": [
    "##### max_depth : 최대 깊이 변경에 따른 모델"
   ]
  },
  {
   "cell_type": "code",
   "execution_count": 14,
   "id": "6fdeb849",
   "metadata": {},
   "outputs": [
    {
     "data": {
      "text/html": [
       "<div>\n",
       "<style scoped>\n",
       "    .dataframe tbody tr th:only-of-type {\n",
       "        vertical-align: middle;\n",
       "    }\n",
       "\n",
       "    .dataframe tbody tr th {\n",
       "        vertical-align: top;\n",
       "    }\n",
       "\n",
       "    .dataframe thead th {\n",
       "        text-align: right;\n",
       "    }\n",
       "</style>\n",
       "<table border=\"1\" class=\"dataframe\">\n",
       "  <thead>\n",
       "    <tr style=\"text-align: right;\">\n",
       "      <th></th>\n",
       "      <th>n_estimators</th>\n",
       "      <th>TrainAccuracy</th>\n",
       "      <th>TestAccuracy</th>\n",
       "    </tr>\n",
       "  </thead>\n",
       "  <tbody>\n",
       "    <tr>\n",
       "      <th>0</th>\n",
       "      <td>1</td>\n",
       "      <td>0.936</td>\n",
       "      <td>0.935</td>\n",
       "    </tr>\n",
       "    <tr>\n",
       "      <th>1</th>\n",
       "      <td>2</td>\n",
       "      <td>0.951</td>\n",
       "      <td>0.940</td>\n",
       "    </tr>\n",
       "    <tr>\n",
       "      <th>2</th>\n",
       "      <td>3</td>\n",
       "      <td>0.963</td>\n",
       "      <td>0.941</td>\n",
       "    </tr>\n",
       "    <tr>\n",
       "      <th>3</th>\n",
       "      <td>4</td>\n",
       "      <td>0.979</td>\n",
       "      <td>0.945</td>\n",
       "    </tr>\n",
       "    <tr>\n",
       "      <th>4</th>\n",
       "      <td>5</td>\n",
       "      <td>0.990</td>\n",
       "      <td>0.940</td>\n",
       "    </tr>\n",
       "    <tr>\n",
       "      <th>5</th>\n",
       "      <td>6</td>\n",
       "      <td>0.998</td>\n",
       "      <td>0.950</td>\n",
       "    </tr>\n",
       "    <tr>\n",
       "      <th>6</th>\n",
       "      <td>7</td>\n",
       "      <td>1.000</td>\n",
       "      <td>0.947</td>\n",
       "    </tr>\n",
       "    <tr>\n",
       "      <th>7</th>\n",
       "      <td>8</td>\n",
       "      <td>1.000</td>\n",
       "      <td>0.948</td>\n",
       "    </tr>\n",
       "    <tr>\n",
       "      <th>8</th>\n",
       "      <td>9</td>\n",
       "      <td>1.000</td>\n",
       "      <td>0.948</td>\n",
       "    </tr>\n",
       "    <tr>\n",
       "      <th>9</th>\n",
       "      <td>10</td>\n",
       "      <td>1.000</td>\n",
       "      <td>0.947</td>\n",
       "    </tr>\n",
       "  </tbody>\n",
       "</table>\n",
       "</div>"
      ],
      "text/plain": [
       "   n_estimators  TrainAccuracy  TestAccuracy\n",
       "0             1          0.936         0.935\n",
       "1             2          0.951         0.940\n",
       "2             3          0.963         0.941\n",
       "3             4          0.979         0.945\n",
       "4             5          0.990         0.940\n",
       "5             6          0.998         0.950\n",
       "6             7          1.000         0.947\n",
       "7             8          1.000         0.948\n",
       "8             9          1.000         0.948\n",
       "9            10          1.000         0.947"
      ]
     },
     "execution_count": 14,
     "metadata": {},
     "output_type": "execute_result"
    }
   ],
   "source": [
    "# train/test 설명력 저장\n",
    "train_accuracy = []\n",
    "test_accuracy = []\n",
    "\n",
    "# n_estimators\n",
    "para_depth = [depth for depth in range(1,11)]\n",
    "\n",
    "for v_max_depth in para_depth :\n",
    "    gbc = GBC(random_state = 1234,\n",
    "              learning_rate = 0.1,\n",
    "              n_estimators = 100,\n",
    "              max_depth = v_max_depth)\n",
    "    gbc.fit(df_train_x, df_train_y)\n",
    "    train_accuracy.append(gbc.score(df_train_x, df_train_y))\n",
    "    test_accuracy.append(gbc.score(df_test_x, df_test_y))\n",
    "    \n",
    "# 결과 저장\n",
    "df_accuracy_depth = pd.DataFrame()\n",
    "df_accuracy_depth['Depth'] = para_depth\n",
    "df_accuracy_depth['TrainAccuracy'] = train_accuracy\n",
    "df_accuracy_depth['TestAccuracy'] = test_accuracy\n",
    "\n",
    "# 모델 설명력 확인\n",
    "df_accuracy_depth.round(3)"
   ]
  },
  {
   "cell_type": "code",
   "execution_count": 15,
   "id": "653917fd",
   "metadata": {},
   "outputs": [
    {
     "data": {
      "text/plain": [
       "<matplotlib.legend.Legend at 0x17710d91070>"
      ]
     },
     "execution_count": 15,
     "metadata": {},
     "output_type": "execute_result"
    },
    {
     "data": {
      "image/png": "[encoded data removed]",
      "text/plain": [
       "<Figure size 432x288 with 1 Axes>"
      ]
     },
     "metadata": {
      "needs_background": "light"
     },
     "output_type": "display_data"
    }
   ],
   "source": [
    "# 모델 설명력 그래프 확인\n",
    "plt.plot(para_depth, train_accuracy, linestyle = '-', label = 'TrainAccuracy')\n",
    "plt.plot(para_depth, test_accuracy, linestyle = '--', label = 'TestAccuracy')\n",
    "plt.legend()"
   ]
  },
  {
   "cell_type": "markdown",
   "id": "1a4c840b",
   "metadata": {},
   "source": [
    "* max_depth 증가하면 설명력은 증가\n",
    "* 4, 6 중 하나 선택"
   ]
  },
  {
   "cell_type": "markdown",
   "id": "3d64fe2e",
   "metadata": {},
   "source": [
    "##### min_samples_split : 분리 노드의 최소 자료 수 변경에 따른 모델"
   ]
  },
  {
   "cell_type": "code",
   "execution_count": 16,
   "id": "a0f7f947",
   "metadata": {},
   "outputs": [
    {
     "data": {
      "text/html": [
       "<div>\n",
       "<style scoped>\n",
       "    .dataframe tbody tr th:only-of-type {\n",
       "        vertical-align: middle;\n",
       "    }\n",
       "\n",
       "    .dataframe tbody tr th {\n",
       "        vertical-align: top;\n",
       "    }\n",
       "\n",
       "    .dataframe thead th {\n",
       "        text-align: right;\n",
       "    }\n",
       "</style>\n",
       "<table border=\"1\" class=\"dataframe\">\n",
       "  <thead>\n",
       "    <tr style=\"text-align: right;\">\n",
       "      <th></th>\n",
       "      <th>MinSamplesSplit</th>\n",
       "      <th>TrainAccuracy</th>\n",
       "      <th>TestAccuracy</th>\n",
       "    </tr>\n",
       "  </thead>\n",
       "  <tbody>\n",
       "    <tr>\n",
       "      <th>0</th>\n",
       "      <td>10</td>\n",
       "      <td>0.977</td>\n",
       "      <td>0.945</td>\n",
       "    </tr>\n",
       "    <tr>\n",
       "      <th>1</th>\n",
       "      <td>20</td>\n",
       "      <td>0.976</td>\n",
       "      <td>0.942</td>\n",
       "    </tr>\n",
       "    <tr>\n",
       "      <th>2</th>\n",
       "      <td>30</td>\n",
       "      <td>0.974</td>\n",
       "      <td>0.942</td>\n",
       "    </tr>\n",
       "    <tr>\n",
       "      <th>3</th>\n",
       "      <td>40</td>\n",
       "      <td>0.973</td>\n",
       "      <td>0.937</td>\n",
       "    </tr>\n",
       "    <tr>\n",
       "      <th>4</th>\n",
       "      <td>50</td>\n",
       "      <td>0.969</td>\n",
       "      <td>0.941</td>\n",
       "    </tr>\n",
       "    <tr>\n",
       "      <th>5</th>\n",
       "      <td>60</td>\n",
       "      <td>0.973</td>\n",
       "      <td>0.941</td>\n",
       "    </tr>\n",
       "    <tr>\n",
       "      <th>6</th>\n",
       "      <td>70</td>\n",
       "      <td>0.969</td>\n",
       "      <td>0.943</td>\n",
       "    </tr>\n",
       "    <tr>\n",
       "      <th>7</th>\n",
       "      <td>80</td>\n",
       "      <td>0.968</td>\n",
       "      <td>0.943</td>\n",
       "    </tr>\n",
       "    <tr>\n",
       "      <th>8</th>\n",
       "      <td>90</td>\n",
       "      <td>0.966</td>\n",
       "      <td>0.941</td>\n",
       "    </tr>\n",
       "    <tr>\n",
       "      <th>9</th>\n",
       "      <td>100</td>\n",
       "      <td>0.963</td>\n",
       "      <td>0.940</td>\n",
       "    </tr>\n",
       "  </tbody>\n",
       "</table>\n",
       "</div>"
      ],
      "text/plain": [
       "   MinSamplesSplit  TrainAccuracy  TestAccuracy\n",
       "0               10          0.977         0.945\n",
       "1               20          0.976         0.942\n",
       "2               30          0.974         0.942\n",
       "3               40          0.973         0.937\n",
       "4               50          0.969         0.941\n",
       "5               60          0.973         0.941\n",
       "6               70          0.969         0.943\n",
       "7               80          0.968         0.943\n",
       "8               90          0.966         0.941\n",
       "9              100          0.963         0.940"
      ]
     },
     "execution_count": 16,
     "metadata": {},
     "output_type": "execute_result"
    }
   ],
   "source": [
    "# train/test 설명력 저장\n",
    "train_accuracy = []\n",
    "test_accuracy = []\n",
    "\n",
    "# min_samples_leaf\n",
    "para_split = [n_split * 10 for n_split in range(1,11)]\n",
    "\n",
    "for v_min_samples_split in para_split :\n",
    "    gbc = GBC(random_state = 1234,\n",
    "              learning_rate = 0.1,\n",
    "              n_estimators = 100,\n",
    "              max_depth = 4,\n",
    "              min_samples_split = v_min_samples_split)\n",
    "    gbc.fit(df_train_x, df_train_y)\n",
    "    train_accuracy.append(gbc.score(df_train_x, df_train_y))\n",
    "    test_accuracy.append(gbc.score(df_test_x, df_test_y))\n",
    "    \n",
    "# 결과 저장\n",
    "df_accuracy_split = pd.DataFrame()\n",
    "df_accuracy_split['MinSamplesSplit'] = para_split\n",
    "df_accuracy_split['TrainAccuracy'] = train_accuracy\n",
    "df_accuracy_split['TestAccuracy'] = test_accuracy\n",
    "\n",
    "# 모델 설명력 확인\n",
    "df_accuracy_split.round(3)"
   ]
  },
  {
   "cell_type": "code",
   "execution_count": 17,
   "id": "24c07d24",
   "metadata": {},
   "outputs": [
    {
     "data": {
      "text/plain": [
       "<matplotlib.legend.Legend at 0x17710e08100>"
      ]
     },
     "execution_count": 17,
     "metadata": {},
     "output_type": "execute_result"
    },
    {
     "data": {
      "image/png": "[encoded data removed]",
      "text/plain": [
       "<Figure size 432x288 with 1 Axes>"
      ]
     },
     "metadata": {
      "needs_background": "light"
     },
     "output_type": "display_data"
    }
   ],
   "source": [
    "# 모델 설명력 그래프 확인\n",
    "plt.plot(para_split, train_accuracy, linestyle = '-', label = 'TrainAccuracy')\n",
    "plt.plot(para_split, test_accuracy, linestyle = '--', label = 'TestAccuracy')\n",
    "plt.legend()"
   ]
  },
  {
   "cell_type": "markdown",
   "id": "1346d8ca",
   "metadata": {},
   "source": [
    "* min_samples_split 증가하면 설명력은 감소\n",
    "* 성능에 증감이 발생하고 있어 특정 값을 지정하지 않음"
   ]
  },
  {
   "cell_type": "markdown",
   "id": "0625645d",
   "metadata": {},
   "source": [
    "##### min_samples_leaf : 잎사귀 노드의 최소 자료 수 변경에 따른 모델"
   ]
  },
  {
   "cell_type": "code",
   "execution_count": 18,
   "id": "092d52ca",
   "metadata": {},
   "outputs": [
    {
     "data": {
      "text/html": [
       "<div>\n",
       "<style scoped>\n",
       "    .dataframe tbody tr th:only-of-type {\n",
       "        vertical-align: middle;\n",
       "    }\n",
       "\n",
       "    .dataframe tbody tr th {\n",
       "        vertical-align: top;\n",
       "    }\n",
       "\n",
       "    .dataframe thead th {\n",
       "        text-align: right;\n",
       "    }\n",
       "</style>\n",
       "<table border=\"1\" class=\"dataframe\">\n",
       "  <thead>\n",
       "    <tr style=\"text-align: right;\">\n",
       "      <th></th>\n",
       "      <th>MinSamplesLeaf</th>\n",
       "      <th>TrainAccuracy</th>\n",
       "      <th>TestAccuracy</th>\n",
       "    </tr>\n",
       "  </thead>\n",
       "  <tbody>\n",
       "    <tr>\n",
       "      <th>0</th>\n",
       "      <td>10</td>\n",
       "      <td>0.977</td>\n",
       "      <td>0.946</td>\n",
       "    </tr>\n",
       "    <tr>\n",
       "      <th>1</th>\n",
       "      <td>20</td>\n",
       "      <td>0.970</td>\n",
       "      <td>0.942</td>\n",
       "    </tr>\n",
       "    <tr>\n",
       "      <th>2</th>\n",
       "      <td>30</td>\n",
       "      <td>0.970</td>\n",
       "      <td>0.942</td>\n",
       "    </tr>\n",
       "    <tr>\n",
       "      <th>3</th>\n",
       "      <td>40</td>\n",
       "      <td>0.963</td>\n",
       "      <td>0.940</td>\n",
       "    </tr>\n",
       "    <tr>\n",
       "      <th>4</th>\n",
       "      <td>50</td>\n",
       "      <td>0.960</td>\n",
       "      <td>0.942</td>\n",
       "    </tr>\n",
       "    <tr>\n",
       "      <th>5</th>\n",
       "      <td>60</td>\n",
       "      <td>0.958</td>\n",
       "      <td>0.939</td>\n",
       "    </tr>\n",
       "    <tr>\n",
       "      <th>6</th>\n",
       "      <td>70</td>\n",
       "      <td>0.958</td>\n",
       "      <td>0.937</td>\n",
       "    </tr>\n",
       "    <tr>\n",
       "      <th>7</th>\n",
       "      <td>80</td>\n",
       "      <td>0.955</td>\n",
       "      <td>0.940</td>\n",
       "    </tr>\n",
       "    <tr>\n",
       "      <th>8</th>\n",
       "      <td>90</td>\n",
       "      <td>0.950</td>\n",
       "      <td>0.936</td>\n",
       "    </tr>\n",
       "    <tr>\n",
       "      <th>9</th>\n",
       "      <td>100</td>\n",
       "      <td>0.948</td>\n",
       "      <td>0.938</td>\n",
       "    </tr>\n",
       "  </tbody>\n",
       "</table>\n",
       "</div>"
      ],
      "text/plain": [
       "   MinSamplesLeaf  TrainAccuracy  TestAccuracy\n",
       "0              10          0.977         0.946\n",
       "1              20          0.970         0.942\n",
       "2              30          0.970         0.942\n",
       "3              40          0.963         0.940\n",
       "4              50          0.960         0.942\n",
       "5              60          0.958         0.939\n",
       "6              70          0.958         0.937\n",
       "7              80          0.955         0.940\n",
       "8              90          0.950         0.936\n",
       "9             100          0.948         0.938"
      ]
     },
     "execution_count": 18,
     "metadata": {},
     "output_type": "execute_result"
    }
   ],
   "source": [
    "# train/test 설명력 저장\n",
    "train_accuracy = []\n",
    "test_accuracy = []\n",
    "\n",
    "# min_samples_leaf\n",
    "para_leaf = [n_leaf * 10 for n_leaf in range(1,11)]\n",
    "\n",
    "for v_min_samples_leaf in para_leaf :\n",
    "    gbc = GBC(random_state = 1234,\n",
    "              learning_rate = 0.1,\n",
    "              n_estimators = 100,\n",
    "              max_depth = 4,\n",
    "              min_samples_leaf = v_min_samples_leaf)\n",
    "    gbc.fit(df_train_x, df_train_y)\n",
    "    train_accuracy.append(gbc.score(df_train_x, df_train_y))\n",
    "    test_accuracy.append(gbc.score(df_test_x, df_test_y))\n",
    "    \n",
    "# 결과 저장\n",
    "df_accuracy_leaf = pd.DataFrame()\n",
    "df_accuracy_leaf['MinSamplesLeaf'] = para_leaf\n",
    "df_accuracy_leaf['TrainAccuracy'] = train_accuracy\n",
    "df_accuracy_leaf['TestAccuracy'] = test_accuracy\n",
    "\n",
    "# 모델 설명력 확인\n",
    "df_accuracy_leaf.round(3)"
   ]
  },
  {
   "cell_type": "code",
   "execution_count": 19,
   "id": "24e54020",
   "metadata": {},
   "outputs": [
    {
     "data": {
      "text/plain": [
       "<matplotlib.legend.Legend at 0x17710e74ca0>"
      ]
     },
     "execution_count": 19,
     "metadata": {},
     "output_type": "execute_result"
    },
    {
     "data": {
      "image/png": "[encoded data removed]",
      "text/plain": [
       "<Figure size 432x288 with 1 Axes>"
      ]
     },
     "metadata": {
      "needs_background": "light"
     },
     "output_type": "display_data"
    }
   ],
   "source": [
    "# 모델 설명력 그래프 확인\n",
    "plt.plot(para_leaf, train_accuracy, linestyle = '-', label = 'TrainAccuracy')\n",
    "plt.plot(para_leaf, test_accuracy, linestyle = '--', label = 'TestAccuracy')\n",
    "plt.legend()"
   ]
  },
  {
   "cell_type": "markdown",
   "id": "06c436b5",
   "metadata": {},
   "source": [
    "* min_samples_leaf 증가하면 설명력은 감소\n",
    "* 10, 20 중 하나 선택"
   ]
  },
  {
   "cell_type": "markdown",
   "id": "5bc795a4",
   "metadata": {},
   "source": [
    "##### GridSearchCV"
   ]
  },
  {
   "cell_type": "code",
   "execution_count": 20,
   "id": "77d09ab1",
   "metadata": {},
   "outputs": [
    {
     "name": "stdout",
     "output_type": "stream",
     "text": [
      "best estimator model: \n",
      "GradientBoostingClassifier(learning_rate=0.6000000000000001, max_depth=10,\n",
      "                           min_samples_leaf=10, random_state=1234)\n",
      "\n",
      "best parameter: \n",
      "{'learning_rate': 0.6000000000000001, 'max_depth': 10, 'min_samples_leaf': 10}\n",
      "\n",
      "best score: \n",
      "0.9565\n"
     ]
    }
   ],
   "source": [
    "estimator = GBC(n_estimators = 100, random_state = 1234)\n",
    "# parameter\n",
    "para_grid = {'learning_rate' : para_lr,\n",
    "             'max_depth' : para_depth,\n",
    "             'min_samples_leaf' : para_leaf}\n",
    "# 설명력이 높은 최적 parameter 찾기\n",
    "grid_gbc = GridSearchCV(estimator,\n",
    "                        para_grid,\n",
    "                        scoring = 'accuracy',\n",
    "                        n_jobs = -1)\n",
    "grid_gbc.fit(df_train_x, df_train_y)\n",
    "# 결과 확인\n",
    "print('best estimator model: \\n{}'.format(grid_gbc.best_estimator_))\n",
    "print('\\nbest parameter: \\n{}'.format(grid_gbc.best_params_))\n",
    "print('\\nbest score: \\n{}'.format(grid_gbc.best_score_.round(4)))"
   ]
  },
  {
   "cell_type": "markdown",
   "id": "6635a786",
   "metadata": {},
   "source": [
    "# Step 3. 최종 모델 선정"
   ]
  },
  {
   "cell_type": "markdown",
   "id": "b3e8b3e2",
   "metadata": {},
   "source": [
    "### 최종 모델 생성"
   ]
  },
  {
   "cell_type": "code",
   "execution_count": 21,
   "id": "565df837",
   "metadata": {},
   "outputs": [
    {
     "name": "stdout",
     "output_type": "stream",
     "text": [
      "Score in train set : 0.9771\n",
      "Score in test set : 0.9458\n"
     ]
    }
   ],
   "source": [
    "# 최종 모델\n",
    "gbc_final = GBC(random_state = 1234,\n",
    "                learning_rate = 0.1,\n",
    "                n_estimators = 100,\n",
    "                max_depth = 4,\n",
    "                min_samples_leaf = 10)\n",
    "gbc_final.fit(df_train_x, df_train_y)\n",
    "# train/test 데이터 설명력\n",
    "print('Score in train set :', gbc_final.score(df_train_x, df_train_y).round(4))\n",
    "print('Score in test set :', gbc_final.score(df_test_x, df_test_y).round(4))"
   ]
  },
  {
   "cell_type": "markdown",
   "id": "4d5e5747",
   "metadata": {},
   "source": [
    "### 최종 모델 평가"
   ]
  },
  {
   "cell_type": "code",
   "execution_count": 22,
   "id": "5b7d5865",
   "metadata": {},
   "outputs": [
    {
     "name": "stdout",
     "output_type": "stream",
     "text": [
      "Accuracy : 0.946\n",
      "\n",
      "Confusion matrix :\n",
      "[[1018    3]\n",
      " [  58   46]]\n",
      "              precision    recall  f1-score   support\n",
      "\n",
      "           0      0.946     0.997     0.971      1021\n",
      "           1      0.939     0.442     0.601       104\n",
      "\n",
      "    accuracy                          0.946      1125\n",
      "   macro avg      0.942     0.720     0.786      1125\n",
      "weighted avg      0.945     0.946     0.937      1125\n",
      "\n"
     ]
    }
   ],
   "source": [
    "# 평가\n",
    "y_pred = gbc_final.predict(df_test_x)\n",
    "print('Accuracy : {0:.3f}\\n'.format(gbc_final.score(df_test_x,df_test_y)))\n",
    "print('Confusion matrix :\\n{}'.format(confusion_matrix(df_test_y, y_pred)))\n",
    "# 목표변수의 빈도 불균형 : f1 score로 모델 평가\n",
    "print(classification_report(df_test_y, y_pred, digits = 3))"
   ]
  },
  {
   "cell_type": "markdown",
   "id": "bd441d20",
   "metadata": {},
   "source": [
    "# Step 4. 결론 도출"
   ]
  },
  {
   "cell_type": "markdown",
   "id": "834c55a9",
   "metadata": {},
   "source": [
    "### 설명변수 중요도"
   ]
  },
  {
   "cell_type": "code",
   "execution_count": 23,
   "id": "56131be6",
   "metadata": {},
   "outputs": [
    {
     "data": {
      "text/html": [
       "<div>\n",
       "<style scoped>\n",
       "    .dataframe tbody tr th:only-of-type {\n",
       "        vertical-align: middle;\n",
       "    }\n",
       "\n",
       "    .dataframe tbody tr th {\n",
       "        vertical-align: top;\n",
       "    }\n",
       "\n",
       "    .dataframe thead th {\n",
       "        text-align: right;\n",
       "    }\n",
       "</style>\n",
       "<table border=\"1\" class=\"dataframe\">\n",
       "  <thead>\n",
       "    <tr style=\"text-align: right;\">\n",
       "      <th></th>\n",
       "      <th>Feature</th>\n",
       "      <th>Importance</th>\n",
       "    </tr>\n",
       "  </thead>\n",
       "  <tbody>\n",
       "    <tr>\n",
       "      <th>9</th>\n",
       "      <td>DEBTINC</td>\n",
       "      <td>0.327</td>\n",
       "    </tr>\n",
       "    <tr>\n",
       "      <th>6</th>\n",
       "      <td>CLAGE</td>\n",
       "      <td>0.120</td>\n",
       "    </tr>\n",
       "    <tr>\n",
       "      <th>2</th>\n",
       "      <td>VALUE</td>\n",
       "      <td>0.107</td>\n",
       "    </tr>\n",
       "    <tr>\n",
       "      <th>8</th>\n",
       "      <td>CLNO</td>\n",
       "      <td>0.105</td>\n",
       "    </tr>\n",
       "    <tr>\n",
       "      <th>5</th>\n",
       "      <td>DELINQ</td>\n",
       "      <td>0.100</td>\n",
       "    </tr>\n",
       "    <tr>\n",
       "      <th>0</th>\n",
       "      <td>LOAN</td>\n",
       "      <td>0.072</td>\n",
       "    </tr>\n",
       "    <tr>\n",
       "      <th>1</th>\n",
       "      <td>MORTDUE</td>\n",
       "      <td>0.041</td>\n",
       "    </tr>\n",
       "    <tr>\n",
       "      <th>7</th>\n",
       "      <td>NINQ</td>\n",
       "      <td>0.038</td>\n",
       "    </tr>\n",
       "    <tr>\n",
       "      <th>4</th>\n",
       "      <td>DEROG</td>\n",
       "      <td>0.034</td>\n",
       "    </tr>\n",
       "    <tr>\n",
       "      <th>3</th>\n",
       "      <td>YOJ</td>\n",
       "      <td>0.033</td>\n",
       "    </tr>\n",
       "    <tr>\n",
       "      <th>16</th>\n",
       "      <td>JOB_Sales</td>\n",
       "      <td>0.010</td>\n",
       "    </tr>\n",
       "    <tr>\n",
       "      <th>11</th>\n",
       "      <td>REASON_HomeImp</td>\n",
       "      <td>0.004</td>\n",
       "    </tr>\n",
       "    <tr>\n",
       "      <th>13</th>\n",
       "      <td>JOB_Office</td>\n",
       "      <td>0.002</td>\n",
       "    </tr>\n",
       "    <tr>\n",
       "      <th>15</th>\n",
       "      <td>JOB_ProfExe</td>\n",
       "      <td>0.002</td>\n",
       "    </tr>\n",
       "    <tr>\n",
       "      <th>14</th>\n",
       "      <td>JOB_Other</td>\n",
       "      <td>0.002</td>\n",
       "    </tr>\n",
       "    <tr>\n",
       "      <th>10</th>\n",
       "      <td>REASON_DebtCon</td>\n",
       "      <td>0.002</td>\n",
       "    </tr>\n",
       "    <tr>\n",
       "      <th>12</th>\n",
       "      <td>JOB_Mgr</td>\n",
       "      <td>0.001</td>\n",
       "    </tr>\n",
       "    <tr>\n",
       "      <th>17</th>\n",
       "      <td>JOB_Self</td>\n",
       "      <td>0.000</td>\n",
       "    </tr>\n",
       "  </tbody>\n",
       "</table>\n",
       "</div>"
      ],
      "text/plain": [
       "           Feature  Importance\n",
       "9          DEBTINC       0.327\n",
       "6            CLAGE       0.120\n",
       "2            VALUE       0.107\n",
       "8             CLNO       0.105\n",
       "5           DELINQ       0.100\n",
       "0             LOAN       0.072\n",
       "1          MORTDUE       0.041\n",
       "7             NINQ       0.038\n",
       "4            DEROG       0.034\n",
       "3              YOJ       0.033\n",
       "16       JOB_Sales       0.010\n",
       "11  REASON_HomeImp       0.004\n",
       "13      JOB_Office       0.002\n",
       "15     JOB_ProfExe       0.002\n",
       "14       JOB_Other       0.002\n",
       "10  REASON_DebtCon       0.002\n",
       "12         JOB_Mgr       0.001\n",
       "17        JOB_Self       0.000"
      ]
     },
     "execution_count": 23,
     "metadata": {},
     "output_type": "execute_result"
    }
   ],
   "source": [
    "# 변수명 저장\n",
    "v_feature_name = df_train_x.columns\n",
    "# 설명변수 중요도 확인 및 테이블 형태 저장\n",
    "df_importance = pd.DataFrame()\n",
    "df_importance['Feature'] = v_feature_name\n",
    "df_importance['Importance'] = gbc_final.feature_importances_\n",
    "# 중요도별 정렬\n",
    "df_importance.sort_values('Importance', ascending = False, inplace = True)\n",
    "df_importance.round(3)"
   ]
  },
  {
   "cell_type": "markdown",
   "id": "42522879",
   "metadata": {},
   "source": [
    "### 설명변수 중요도 그래프"
   ]
  },
  {
   "cell_type": "code",
   "execution_count": 24,
   "id": "00621b1f",
   "metadata": {},
   "outputs": [
    {
     "data": {
      "text/plain": [
       "Text(0, 0.5, '변수')"
      ]
     },
     "execution_count": 24,
     "metadata": {},
     "output_type": "execute_result"
    },
    {
     "data": {
      "image/png": "[encoded data removed]",
      "text/plain": [
       "<Figure size 432x288 with 1 Axes>"
      ]
     },
     "metadata": {
      "needs_background": "light"
     },
     "output_type": "display_data"
    }
   ],
   "source": [
    "df_importance.sort_values('Importance', ascending = True, inplace = True)\n",
    "coordinates = range(len(df_importance))\n",
    "plt.barh(y = coordinates, width = df_importance['Importance'])\n",
    "plt.yticks(coordinates, df_importance['Feature'])\n",
    "plt.xlabel('변수 중요도')\n",
    "plt.ylabel('변수')"
   ]
  },
  {
   "cell_type": "markdown",
   "id": "9e75d1c4",
   "metadata": {},
   "source": [
    "* DEBTINC, CLAGE, VALUE 순으로 영향이 크다고 볼 수 있다.\n",
    "* 계산된 변수 중요도 값이 낮거나 0이더라도 선택되는 데이터에 따라 중요도가 변경될 수 있다."
   ]
  }
 ],
 "metadata": {
  "kernelspec": {
   "display_name": "Python 3 (ipykernel)",
   "language": "python",
   "name": "python3"
  },
  "language_info": {
   "codemirror_mode": {
    "name": "ipython",
    "version": 3
   },
   "file_extension": ".py",
   "mimetype": "text/x-python",
   "name": "python",
   "nbconvert_exporter": "python",
   "pygments_lexer": "ipython3",
   "version": "3.9.12"
  }
 },
 "nbformat": 4,
 "nbformat_minor": 5
}
