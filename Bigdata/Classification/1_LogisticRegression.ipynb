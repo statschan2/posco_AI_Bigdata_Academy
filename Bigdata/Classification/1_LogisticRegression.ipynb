{
 "cells": [
  {
   "cell_type": "markdown",
   "id": "dbe5ea35",
   "metadata": {},
   "source": [
    "# p.20 연습\n",
    "대출자들의 채무 상환과 관련된 데이터를 활용하여 상환 여부를 예측하기 위한 로지스틱 회귀분석을 실시하고 결과를 해석하시오.\n",
    "* 목표변수 : BAD(범주형)\n",
    "* 데이터 비율 train : test = 0.7 : 0.3\n",
    "* random_state = 1234"
   ]
  },
  {
   "cell_type": "markdown",
   "id": "df807b66",
   "metadata": {},
   "source": [
    "# Step 0. 패키지 불러오기"
   ]
  },
  {
   "cell_type": "code",
   "execution_count": 1,
   "id": "f134b037",
   "metadata": {},
   "outputs": [],
   "source": [
    "# 데이터 구성\n",
    "import pandas as pd\n",
    "import numpy as np\n",
    "# 데이터 시각화\n",
    "import matplotlib\n",
    "import matplotlib.pyplot as plt\n",
    "import seaborn as sns\n",
    "# 한글, 음수 표시\n",
    "matplotlib.rc('font', family = 'Malgun Gothic')\n",
    "matplotlib.rc('axes', unicode_minus = False)\n",
    "# StandardScaler\n",
    "from sklearn.preprocessing import StandardScaler\n",
    "# 데이터 분리\n",
    "from sklearn.model_selection import train_test_split\n",
    "# LogisticRegression\n",
    "from statsmodels.api import Logit\n",
    "# 평가함수\n",
    "from sklearn.metrics import accuracy_score, f1_score, confusion_matrix, classification_report\n",
    "# 경고 메시지\n",
    "import warnings\n",
    "warnings.filterwarnings('ignore')"
   ]
  },
  {
   "cell_type": "markdown",
   "id": "0e371b72",
   "metadata": {},
   "source": [
    "# Step 1. 데이터 구성하기"
   ]
  },
  {
   "cell_type": "markdown",
   "id": "b721057b",
   "metadata": {},
   "source": [
    "### 데이터 불러오기"
   ]
  },
  {
   "cell_type": "code",
   "execution_count": 3,
   "id": "9d5eebcd",
   "metadata": {},
   "outputs": [
    {
     "data": {
      "text/html": [
       "<div>\n",
       "<style scoped>\n",
       "    .dataframe tbody tr th:only-of-type {\n",
       "        vertical-align: middle;\n",
       "    }\n",
       "\n",
       "    .dataframe tbody tr th {\n",
       "        vertical-align: top;\n",
       "    }\n",
       "\n",
       "    .dataframe thead th {\n",
       "        text-align: right;\n",
       "    }\n",
       "</style>\n",
       "<table border=\"1\" class=\"dataframe\">\n",
       "  <thead>\n",
       "    <tr style=\"text-align: right;\">\n",
       "      <th></th>\n",
       "      <th>BAD</th>\n",
       "      <th>LOAN</th>\n",
       "      <th>MORTDUE</th>\n",
       "      <th>VALUE</th>\n",
       "      <th>REASON</th>\n",
       "      <th>JOB</th>\n",
       "      <th>YOJ</th>\n",
       "      <th>DEROG</th>\n",
       "      <th>DELINQ</th>\n",
       "      <th>CLAGE</th>\n",
       "      <th>NINQ</th>\n",
       "      <th>CLNO</th>\n",
       "      <th>DEBTINC</th>\n",
       "    </tr>\n",
       "  </thead>\n",
       "  <tbody>\n",
       "    <tr>\n",
       "      <th>0</th>\n",
       "      <td>1</td>\n",
       "      <td>1700</td>\n",
       "      <td>30548</td>\n",
       "      <td>40320.0</td>\n",
       "      <td>HomeImp</td>\n",
       "      <td>Other</td>\n",
       "      <td>9.0</td>\n",
       "      <td>0</td>\n",
       "      <td>0.0</td>\n",
       "      <td>101.466002</td>\n",
       "      <td>1.0</td>\n",
       "      <td>8</td>\n",
       "      <td>37.113614</td>\n",
       "    </tr>\n",
       "    <tr>\n",
       "      <th>1</th>\n",
       "      <td>1</td>\n",
       "      <td>1800</td>\n",
       "      <td>28502</td>\n",
       "      <td>43034.0</td>\n",
       "      <td>HomeImp</td>\n",
       "      <td>Other</td>\n",
       "      <td>11.0</td>\n",
       "      <td>0</td>\n",
       "      <td>0.0</td>\n",
       "      <td>88.766030</td>\n",
       "      <td>0.0</td>\n",
       "      <td>8</td>\n",
       "      <td>36.884894</td>\n",
       "    </tr>\n",
       "    <tr>\n",
       "      <th>2</th>\n",
       "      <td>0</td>\n",
       "      <td>2300</td>\n",
       "      <td>102370</td>\n",
       "      <td>120953.0</td>\n",
       "      <td>HomeImp</td>\n",
       "      <td>Office</td>\n",
       "      <td>2.0</td>\n",
       "      <td>0</td>\n",
       "      <td>0.0</td>\n",
       "      <td>90.992533</td>\n",
       "      <td>0.0</td>\n",
       "      <td>13</td>\n",
       "      <td>31.588503</td>\n",
       "    </tr>\n",
       "    <tr>\n",
       "      <th>3</th>\n",
       "      <td>1</td>\n",
       "      <td>2400</td>\n",
       "      <td>34863</td>\n",
       "      <td>47471.0</td>\n",
       "      <td>HomeImp</td>\n",
       "      <td>Mgr</td>\n",
       "      <td>12.0</td>\n",
       "      <td>0</td>\n",
       "      <td>0.0</td>\n",
       "      <td>70.491080</td>\n",
       "      <td>1.0</td>\n",
       "      <td>21</td>\n",
       "      <td>38.263601</td>\n",
       "    </tr>\n",
       "    <tr>\n",
       "      <th>4</th>\n",
       "      <td>0</td>\n",
       "      <td>2400</td>\n",
       "      <td>98449</td>\n",
       "      <td>117195.0</td>\n",
       "      <td>HomeImp</td>\n",
       "      <td>Office</td>\n",
       "      <td>4.0</td>\n",
       "      <td>0</td>\n",
       "      <td>0.0</td>\n",
       "      <td>93.811775</td>\n",
       "      <td>0.0</td>\n",
       "      <td>13</td>\n",
       "      <td>29.681827</td>\n",
       "    </tr>\n",
       "  </tbody>\n",
       "</table>\n",
       "</div>"
      ],
      "text/plain": [
       "   BAD  LOAN  MORTDUE     VALUE   REASON     JOB   YOJ  DEROG  DELINQ  \\\n",
       "0    1  1700    30548   40320.0  HomeImp   Other   9.0      0     0.0   \n",
       "1    1  1800    28502   43034.0  HomeImp   Other  11.0      0     0.0   \n",
       "2    0  2300   102370  120953.0  HomeImp  Office   2.0      0     0.0   \n",
       "3    1  2400    34863   47471.0  HomeImp     Mgr  12.0      0     0.0   \n",
       "4    0  2400    98449  117195.0  HomeImp  Office   4.0      0     0.0   \n",
       "\n",
       "        CLAGE  NINQ  CLNO    DEBTINC  \n",
       "0  101.466002   1.0     8  37.113614  \n",
       "1   88.766030   0.0     8  36.884894  \n",
       "2   90.992533   0.0    13  31.588503  \n",
       "3   70.491080   1.0    21  38.263601  \n",
       "4   93.811775   0.0    13  29.681827  "
      ]
     },
     "execution_count": 3,
     "metadata": {},
     "output_type": "execute_result"
    }
   ],
   "source": [
    "df_raw = pd.read_csv('D:/Study/PoscoAcademy/2_bigdata/raw_data/HMEQ.csv')\n",
    "df_raw.head()"
   ]
  },
  {
   "cell_type": "markdown",
   "id": "2a623269",
   "metadata": {},
   "source": [
    "# Step 2. 데이터 전처리"
   ]
  },
  {
   "cell_type": "markdown",
   "id": "ec158542",
   "metadata": {},
   "source": [
    "### 결측치 처리"
   ]
  },
  {
   "cell_type": "code",
   "execution_count": 4,
   "id": "3079096d",
   "metadata": {},
   "outputs": [
    {
     "data": {
      "text/plain": [
       "BAD          0\n",
       "LOAN         0\n",
       "MORTDUE      0\n",
       "VALUE       14\n",
       "REASON       0\n",
       "JOB         81\n",
       "YOJ        205\n",
       "DEROG        0\n",
       "DELINQ      30\n",
       "CLAGE       37\n",
       "NINQ        56\n",
       "CLNO         0\n",
       "DEBTINC      0\n",
       "dtype: int64"
      ]
     },
     "execution_count": 4,
     "metadata": {},
     "output_type": "execute_result"
    }
   ],
   "source": [
    "# 결측치 확인\n",
    "df_raw.isna().sum()"
   ]
  },
  {
   "cell_type": "code",
   "execution_count": 5,
   "id": "00671292",
   "metadata": {},
   "outputs": [],
   "source": [
    "# JOB 변수 결측치 Other 대체\n",
    "df_raw['JOB'].fillna('Other', inplace = True)\n",
    "# 숫자형 변수 결측치 평균 대체\n",
    "df_raw.fillna(df_raw.mean(), inplace = True)"
   ]
  },
  {
   "cell_type": "markdown",
   "id": "9ca33c20",
   "metadata": {},
   "source": [
    "### 데이터 분리"
   ]
  },
  {
   "cell_type": "code",
   "execution_count": 6,
   "id": "f2492ec2",
   "metadata": {},
   "outputs": [
    {
     "name": "stdout",
     "output_type": "stream",
     "text": [
      "train data : (2623, 13)\n",
      "test data : (1125, 13)\n"
     ]
    }
   ],
   "source": [
    "df_train, df_test = train_test_split(df_raw, test_size = 0.3, random_state = 1234)\n",
    "print('train data :', df_train.shape)\n",
    "print('test data :', df_test.shape)"
   ]
  },
  {
   "cell_type": "markdown",
   "id": "9301bace",
   "metadata": {},
   "source": [
    "# Step 3. 모델 및 회귀계수 검토"
   ]
  },
  {
   "cell_type": "markdown",
   "id": "2d742721",
   "metadata": {},
   "source": [
    "### 로지스틱 회귀분석"
   ]
  },
  {
   "cell_type": "code",
   "execution_count": 8,
   "id": "0997c53b",
   "metadata": {},
   "outputs": [
    {
     "name": "stdout",
     "output_type": "stream",
     "text": [
      "Optimization terminated successfully.\n",
      "         Current function value: 0.237614\n",
      "         Iterations 8\n",
      "                           Logit Regression Results                           \n",
      "==============================================================================\n",
      "Dep. Variable:                    BAD   No. Observations:                 2623\n",
      "Model:                          Logit   Df Residuals:                     2606\n",
      "Method:                           MLE   Df Model:                           16\n",
      "Date:                Mon, 02 Jan 2023   Pseudo R-squ.:                  0.2257\n",
      "Time:                        16:23:54   Log-Likelihood:                -623.26\n",
      "converged:                       True   LL-Null:                       -804.91\n",
      "Covariance Type:            nonrobust   LLR p-value:                 1.743e-67\n",
      "========================================================================================\n",
      "                           coef    std err          z      P>|z|      [0.025      0.975]\n",
      "----------------------------------------------------------------------------------------\n",
      "Intercept               -5.0942      0.560     -9.100      0.000      -6.191      -3.997\n",
      "C(REASON)[T.HomeImp]    -0.0080      0.176     -0.045      0.964      -0.354       0.338\n",
      "C(JOB)[T.Office]        -0.8256      0.294     -2.807      0.005      -1.402      -0.249\n",
      "C(JOB)[T.Other]         -0.3304      0.227     -1.454      0.146      -0.776       0.115\n",
      "C(JOB)[T.ProfExe]       -0.4247      0.271     -1.566      0.117      -0.956       0.107\n",
      "C(JOB)[T.Sales]          1.1323      0.476      2.381      0.017       0.200       2.064\n",
      "C(JOB)[T.Self]          -0.0454      0.432     -0.105      0.916      -0.892       0.801\n",
      "LOAN                 -1.223e-05   8.08e-06     -1.514      0.130   -2.81e-05     3.6e-06\n",
      "MORTDUE               -2.14e-06   3.57e-06     -0.599      0.549   -9.15e-06    4.87e-06\n",
      "VALUE                 3.061e-06   3.04e-06      1.008      0.313   -2.89e-06    9.01e-06\n",
      "YOJ                     -0.0053      0.012     -0.461      0.645      -0.028       0.017\n",
      "DEROG                    0.6221      0.103      6.043      0.000       0.420       0.824\n",
      "DELINQ                   0.7456      0.077      9.648      0.000       0.594       0.897\n",
      "CLAGE                   -0.0050      0.001     -4.320      0.000      -0.007      -0.003\n",
      "NINQ                     0.0939      0.044      2.131      0.033       0.008       0.180\n",
      "CLNO                    -0.0230      0.009     -2.587      0.010      -0.040      -0.006\n",
      "DEBTINC                  0.1097      0.012      8.829      0.000       0.085       0.134\n",
      "========================================================================================\n"
     ]
    }
   ],
   "source": [
    "log_model = Logit.from_formula('''BAD ~ LOAN + MORTDUE + VALUE + C(REASON) + C(JOB) + YOJ + DEROG + DELINQ + CLAGE + NINQ + CLNO + DEBTINC''',\n",
    "                               df_train)\n",
    "log_result = log_model.fit()\n",
    "print(log_result.summary())"
   ]
  },
  {
   "cell_type": "markdown",
   "id": "2eff56ca",
   "metadata": {},
   "source": [
    "# Step 4. 예측 및 성능 평가"
   ]
  },
  {
   "cell_type": "markdown",
   "id": "75248019",
   "metadata": {},
   "source": [
    "### 예측"
   ]
  },
  {
   "cell_type": "code",
   "execution_count": 9,
   "id": "5b446294",
   "metadata": {},
   "outputs": [
    {
     "name": "stdout",
     "output_type": "stream",
     "text": [
      "Train 예측 결과\n",
      " 3164    0\n",
      "3314    1\n",
      "93      0\n",
      "1456    0\n",
      "3327    0\n",
      "dtype: int32 \n",
      "\n",
      "Confusion Matrix :\n",
      "[[2365   17]\n",
      " [ 190   51]] \n",
      "\n",
      "Test 예측 결과\n",
      " 1721    0\n",
      "822     0\n",
      "1686    0\n",
      "789     0\n",
      "165     0\n",
      "dtype: int32 \n",
      "\n",
      "Confusion Matrix :\n",
      "[[1017    4]\n",
      " [  81   23]] \n",
      "\n",
      "Test 예측 결과 - 임계값 변경\n",
      " 2459    0\n",
      "2293    0\n",
      "1433    0\n",
      "2314    0\n",
      "281     0\n",
      "dtype: int32 \n",
      "\n",
      "Confusion Matrix :\n",
      "[[1018    3]\n",
      " [  83   21]] \n",
      "\n"
     ]
    }
   ],
   "source": [
    "# train data 예측\n",
    "y_pred_train = log_result.predict(df_train)\n",
    "# 0과 1의 값을 가진 class로 변환\n",
    "y_pred_train_class = (y_pred_train > 0.5).astype(int)\n",
    "print('Train 예측 결과\\n', y_pred_train_class.head(),'\\n')\n",
    "print('Confusion Matrix :\\n{}'.format(confusion_matrix(df_train['BAD'], y_pred_train_class)),'\\n')\n",
    "# test data 예측\n",
    "y_pred_test = log_result.predict(df_test)\n",
    "# 0과 1의 값을 가진 class로 변환\n",
    "y_pred_test_class = (y_pred_test > 0.5).astype(int)\n",
    "print('Test 예측 결과\\n', y_pred_test_class.head(),'\\n')\n",
    "print('Confusion Matrix :\\n{}'.format(confusion_matrix(df_test['BAD'], y_pred_test_class)),'\\n')\n",
    "# test data 예측 - 임계값 변경\n",
    "y_pred_test_class = (y_pred_test > 0.6).astype(int)\n",
    "print('Test 예측 결과 - 임계값 변경\\n', y_pred_test_class[10:15].head(),'\\n')\n",
    "print('Confusion Matrix :\\n{}'.format(confusion_matrix(df_test['BAD'], y_pred_test_class)),'\\n')"
   ]
  },
  {
   "cell_type": "markdown",
   "id": "f80ca674",
   "metadata": {},
   "source": [
    "### 평가"
   ]
  },
  {
   "cell_type": "code",
   "execution_count": 10,
   "id": "332d2202",
   "metadata": {},
   "outputs": [
    {
     "name": "stdout",
     "output_type": "stream",
     "text": [
      "Train data 예측/분류 결과\n",
      "Accuracy : 0.921\n",
      " \n",
      "\n",
      "Confusion Matrix :\n",
      "[[2365   17]\n",
      " [ 190   51]] \n",
      "\n",
      "              precision    recall  f1-score   support\n",
      "\n",
      "           0      0.926     0.993     0.958      2382\n",
      "           1      0.750     0.212     0.330       241\n",
      "\n",
      "    accuracy                          0.921      2623\n",
      "   macro avg      0.838     0.602     0.644      2623\n",
      "weighted avg      0.909     0.921     0.900      2623\n",
      "\n",
      "Test data 예측/분류 결과\n",
      "Accuracy : 0.924\n",
      " \n",
      "\n",
      "Confusion Matrix :\n",
      "[[1018    3]\n",
      " [  83   21]] \n",
      "\n",
      "              precision    recall  f1-score   support\n",
      "\n",
      "           0      0.925     0.997     0.959      1021\n",
      "           1      0.875     0.202     0.328       104\n",
      "\n",
      "    accuracy                          0.924      1125\n",
      "   macro avg      0.900     0.599     0.644      1125\n",
      "weighted avg      0.920     0.924     0.901      1125\n",
      "\n"
     ]
    }
   ],
   "source": [
    "# 실제 train data 와 예측 결과 비교\n",
    "print('Train data 예측/분류 결과')\n",
    "print('Accuracy : {0:.3f}\\n'.format(accuracy_score(df_train['BAD'], y_pred_train_class)),'\\n')\n",
    "print('Confusion Matrix :\\n{}'.format(confusion_matrix(df_train['BAD'], y_pred_train_class)),'\\n')\n",
    "print(classification_report(df_train['BAD'], y_pred_train_class, digits = 3))\n",
    "# 실제 test data 와 예측 결과 비교\n",
    "print('Test data 예측/분류 결과')\n",
    "print('Accuracy : {0:.3f}\\n'.format(accuracy_score(df_test['BAD'], y_pred_test_class)),'\\n')\n",
    "print('Confusion Matrix :\\n{}'.format(confusion_matrix(df_test['BAD'], y_pred_test_class)),'\\n')\n",
    "print(classification_report(df_test['BAD'], y_pred_test_class, digits = 3))"
   ]
  },
  {
   "cell_type": "markdown",
   "id": "54599f2d",
   "metadata": {},
   "source": [
    "# Step 5. 결론"
   ]
  },
  {
   "cell_type": "markdown",
   "id": "0e076dce",
   "metadata": {},
   "source": [
    "### 설명변수 중요도"
   ]
  },
  {
   "cell_type": "code",
   "execution_count": 11,
   "id": "69882fed",
   "metadata": {},
   "outputs": [
    {
     "data": {
      "text/plain": [
       "<AxesSubplot:>"
      ]
     },
     "execution_count": 11,
     "metadata": {},
     "output_type": "execute_result"
    },
    {
     "data": {
      "image/png": "[encoded data removed]",
      "text/plain": [
       "<Figure size 432x288 with 1 Axes>"
      ]
     },
     "metadata": {
      "needs_background": "light"
     },
     "output_type": "display_data"
    }
   ],
   "source": [
    "df_logistic_coef = pd.DataFrame({'Coef' : log_result.params.values[1:]},\n",
    "                                index = log_model.exog_names[1:])\n",
    "df_logistic_coef.plot.barh(y = 'Coef')"
   ]
  },
  {
   "cell_type": "markdown",
   "id": "7cbf583e",
   "metadata": {},
   "source": [
    "* 직업이 sales 이거나, 연체된 신용 한도의 수(DELINQ)와 심각한 연체 수(DEROG)가 높을 경우 대출 채무 불이행(BAD)일 가능성이 높다.\n",
    "* 직업이 office 이면 대출채무 불이행(BAD)일 가능성이 낮다."
   ]
  },
  {
   "cell_type": "markdown",
   "id": "ae2eba09",
   "metadata": {},
   "source": [
    "### 표준화 회귀 계수"
   ]
  },
  {
   "cell_type": "code",
   "execution_count": 12,
   "id": "dd0d5ff9",
   "metadata": {},
   "outputs": [],
   "source": [
    "# select_dtypes : 특정 변수 타입을 선택/제외하여 데이터 추출\n",
    "df_char = df_raw.select_dtypes(include = 'object')\n",
    "df_numeric = df_raw.select_dtypes(exclude = 'object')\n",
    "# data scaling\n",
    "scaler = StandardScaler()\n",
    "np_numeric_scaled = scaler.fit_transform(df_numeric)\n",
    "df_numeric_scaled = pd.DataFrame(np_numeric_scaled, columns = df_numeric.columns)\n",
    "# char + numeric\n",
    "df_scaled = pd.concat([df_numeric_scaled, df_char], axis = 1)\n",
    "# BAD 값을 0과 1로 변환\n",
    "df_scaled['BAD'] = np.where(df_scaled['BAD'] > 0, 1, 0)\n",
    "# 데이터 분할\n",
    "df_scaled_train, df_scaled_test = train_test_split(df_scaled,\n",
    "                                                   test_size = 0.3,\n",
    "                                                   random_state = 1234)"
   ]
  },
  {
   "cell_type": "markdown",
   "id": "7d74b436",
   "metadata": {},
   "source": [
    "### 표준화 회귀 계수 모델"
   ]
  },
  {
   "cell_type": "code",
   "execution_count": 13,
   "id": "276ae66e",
   "metadata": {},
   "outputs": [
    {
     "name": "stdout",
     "output_type": "stream",
     "text": [
      "Optimization terminated successfully.\n",
      "         Current function value: 0.237614\n",
      "         Iterations 7\n",
      "                           Logit Regression Results                           \n",
      "==============================================================================\n",
      "Dep. Variable:                    BAD   No. Observations:                 2623\n",
      "Model:                          Logit   Df Residuals:                     2606\n",
      "Method:                           MLE   Df Model:                           16\n",
      "Date:                Mon, 02 Jan 2023   Pseudo R-squ.:                  0.2257\n",
      "Time:                        16:27:58   Log-Likelihood:                -623.26\n",
      "converged:                       True   LL-Null:                       -804.91\n",
      "Covariance Type:            nonrobust   LLR p-value:                 1.743e-67\n",
      "========================================================================================\n",
      "                           coef    std err          z      P>|z|      [0.025      0.975]\n",
      "----------------------------------------------------------------------------------------\n",
      "Intercept               -2.4815      0.205    -12.111      0.000      -2.883      -2.080\n",
      "C(REASON)[T.HomeImp]    -0.0080      0.176     -0.045      0.964      -0.354       0.338\n",
      "C(JOB)[T.Office]        -0.8256      0.294     -2.807      0.005      -1.402      -0.249\n",
      "C(JOB)[T.Other]         -0.3304      0.227     -1.454      0.146      -0.776       0.115\n",
      "C(JOB)[T.ProfExe]       -0.4247      0.271     -1.566      0.117      -0.956       0.107\n",
      "C(JOB)[T.Sales]          1.1323      0.476      2.381      0.017       0.200       2.064\n",
      "C(JOB)[T.Self]          -0.0454      0.432     -0.105      0.916      -0.892       0.801\n",
      "LOAN                    -0.1395      0.092     -1.514      0.130      -0.320       0.041\n",
      "MORTDUE                 -0.0960      0.160     -0.599      0.549      -0.410       0.218\n",
      "VALUE                    0.1661      0.165      1.008      0.313      -0.157       0.489\n",
      "YOJ                     -0.0397      0.086     -0.461      0.645      -0.208       0.129\n",
      "DEROG                    0.3749      0.062      6.043      0.000       0.253       0.496\n",
      "DELINQ                   0.5872      0.061      9.648      0.000       0.468       0.706\n",
      "CLAGE                   -0.4140      0.096     -4.320      0.000      -0.602      -0.226\n",
      "NINQ                     0.1449      0.068      2.131      0.033       0.012       0.278\n",
      "CLNO                    -0.2196      0.085     -2.587      0.010      -0.386      -0.053\n",
      "DEBTINC                  0.9186      0.104      8.829      0.000       0.715       1.123\n",
      "========================================================================================\n"
     ]
    }
   ],
   "source": [
    "scaled_log_model = Logit.from_formula('''BAD ~ LOAN + MORTDUE + VALUE + C(REASON) + C(JOB) + YOJ + DEROG + DELINQ + CLAGE + NINQ + CLNO + DEBTINC''',\n",
    "                                      df_scaled_train)\n",
    "scaled_log_result = scaled_log_model.fit()\n",
    "print(scaled_log_result.summary())"
   ]
  },
  {
   "cell_type": "markdown",
   "id": "12c6feae",
   "metadata": {},
   "source": [
    "### 표준화 회귀 계수 모델 설명변수 중요도"
   ]
  },
  {
   "cell_type": "code",
   "execution_count": 14,
   "id": "1c7bc125",
   "metadata": {},
   "outputs": [
    {
     "data": {
      "text/plain": [
       "<AxesSubplot:>"
      ]
     },
     "execution_count": 14,
     "metadata": {},
     "output_type": "execute_result"
    },
    {
     "data": {
      "image/png": "[encoded data removed]",
      "text/plain": [
       "<Figure size 432x288 with 1 Axes>"
      ]
     },
     "metadata": {
      "needs_background": "light"
     },
     "output_type": "display_data"
    }
   ],
   "source": [
    "df_log_scaled_coef = pd.DataFrame({'Coef' : scaled_log_result.params.values[1:]},\n",
    "                                  index = scaled_log_model.exog_names[1:])\n",
    "df_log_scaled_coef.plot.barh(y = 'Coef', legend = False)"
   ]
  },
  {
   "cell_type": "markdown",
   "id": "3fa5952a",
   "metadata": {},
   "source": [
    "* 직업이 Sales 이거나 부채비율(DEBTINC)과 연체 된 신용 한도의 수(DELINQ)가 높을 경우 대출 채무 불이행(BAD)일 가능성이 높다.\n",
    "* 특히 부채비율(DEBTINC)의 영향이 커진다.\n",
    "* 직업이 office인 경우 대출 채무 불이행(BAD)일 가능성이 낮다."
   ]
  }
 ],
 "metadata": {
  "kernelspec": {
   "display_name": "Python 3 (ipykernel)",
   "language": "python",
   "name": "python3"
  },
  "language_info": {
   "codemirror_mode": {
    "name": "ipython",
    "version": 3
   },
   "file_extension": ".py",
   "mimetype": "text/x-python",
   "name": "python",
   "nbconvert_exporter": "python",
   "pygments_lexer": "ipython3",
   "version": "3.9.12"
  }
 },
 "nbformat": 4,
 "nbformat_minor": 5
}
