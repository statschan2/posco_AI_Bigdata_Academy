{
 "cells": [
  {
   "cell_type": "markdown",
   "id": "597125c5",
   "metadata": {},
   "source": [
    "# p.75 연습\n",
    "감독자의 체질검사 데이터를 활용하여 체질 비만도를 예측하기 위한 규제화 회귀분석을 실시하고 결과를 해석하시오.\n",
    "* 목표변수 FAT(연속형)\n",
    "* 데이터 비율 train : test = 0.7 : 0.3\n",
    "* random_state = 1234"
   ]
  },
  {
   "cell_type": "markdown",
   "id": "bc82ac8d",
   "metadata": {},
   "source": [
    "# Step 0. 패키지 불러오기"
   ]
  },
  {
   "cell_type": "code",
   "execution_count": 1,
   "id": "c2aafa1f",
   "metadata": {},
   "outputs": [],
   "source": [
    "# 데이터 구성\n",
    "import pandas as pd\n",
    "import numpy as np\n",
    "# 데이터 시각화\n",
    "import matplotlib\n",
    "import matplotlib.pyplot as plt\n",
    "import seaborn as sns\n",
    "# 한글, 음수 표시\n",
    "matplotlib.rc('font', family = 'Malgun Gothic')\n",
    "matplotlib.rc('axes', unicode_minus = False)\n",
    "# Regression\n",
    "from statsmodels.formula.api import ols\n",
    "# qqplot, 상수항 추가\n",
    "from statsmodels.api import qqplot, add_constant\n",
    "# 선형모델 formula\n",
    "import statsmodels.formula.api as smf\n",
    "# 다중공선성\n",
    "from statsmodels.stats.outliers_influence import variance_inflation_factor\n",
    "# 데이터 분리\n",
    "from sklearn.model_selection import train_test_split\n",
    "# StandardScaler\n",
    "from sklearn.preprocessing import StandardScaler\n",
    "# LinearRegression\n",
    "from sklearn.linear_model import LinearRegression as LR\n",
    "# Ridge, Lasso, ElasticNet\n",
    "from sklearn.linear_model import Ridge, Lasso, ElasticNet\n",
    "# 평가함수\n",
    "from statsmodels.tools.eval_measures import rmse\n",
    "from sklearn.metrics import r2_score\n",
    "# 경고 메시지\n",
    "import warnings\n",
    "warnings.filterwarnings('ignore')"
   ]
  },
  {
   "cell_type": "markdown",
   "id": "f5961746",
   "metadata": {},
   "source": [
    "# Step 1. 데이터 구성하기"
   ]
  },
  {
   "cell_type": "markdown",
   "id": "9c25d9f3",
   "metadata": {},
   "source": [
    "### 데이터 불러오기"
   ]
  },
  {
   "cell_type": "code",
   "execution_count": 3,
   "id": "7b0713ce",
   "metadata": {},
   "outputs": [
    {
     "data": {
      "text/html": [
       "<div>\n",
       "<style scoped>\n",
       "    .dataframe tbody tr th:only-of-type {\n",
       "        vertical-align: middle;\n",
       "    }\n",
       "\n",
       "    .dataframe tbody tr th {\n",
       "        vertical-align: top;\n",
       "    }\n",
       "\n",
       "    .dataframe thead th {\n",
       "        text-align: right;\n",
       "    }\n",
       "</style>\n",
       "<table border=\"1\" class=\"dataframe\">\n",
       "  <thead>\n",
       "    <tr style=\"text-align: right;\">\n",
       "      <th></th>\n",
       "      <th>FAT</th>\n",
       "      <th>AGE</th>\n",
       "      <th>WEIGHT</th>\n",
       "      <th>HEIGHT</th>\n",
       "      <th>NECK</th>\n",
       "      <th>CHEST</th>\n",
       "      <th>ABDOMEN</th>\n",
       "      <th>HIP</th>\n",
       "      <th>THIGH</th>\n",
       "      <th>KNEE</th>\n",
       "      <th>ANKLE</th>\n",
       "      <th>BICEPS</th>\n",
       "      <th>FOREARM</th>\n",
       "      <th>WRIST</th>\n",
       "    </tr>\n",
       "  </thead>\n",
       "  <tbody>\n",
       "    <tr>\n",
       "      <th>0</th>\n",
       "      <td>35.2</td>\n",
       "      <td>46</td>\n",
       "      <td>363.15</td>\n",
       "      <td>72.25</td>\n",
       "      <td>51.2</td>\n",
       "      <td>136.2</td>\n",
       "      <td>148.1</td>\n",
       "      <td>147.7</td>\n",
       "      <td>87.3</td>\n",
       "      <td>49.1</td>\n",
       "      <td>29.6</td>\n",
       "      <td>45.0</td>\n",
       "      <td>29.0</td>\n",
       "      <td>21.4</td>\n",
       "    </tr>\n",
       "    <tr>\n",
       "      <th>1</th>\n",
       "      <td>11.8</td>\n",
       "      <td>27</td>\n",
       "      <td>168.00</td>\n",
       "      <td>71.25</td>\n",
       "      <td>38.1</td>\n",
       "      <td>93.0</td>\n",
       "      <td>79.1</td>\n",
       "      <td>94.5</td>\n",
       "      <td>57.3</td>\n",
       "      <td>36.2</td>\n",
       "      <td>24.5</td>\n",
       "      <td>29.0</td>\n",
       "      <td>30.0</td>\n",
       "      <td>18.8</td>\n",
       "    </tr>\n",
       "    <tr>\n",
       "      <th>2</th>\n",
       "      <td>22.2</td>\n",
       "      <td>69</td>\n",
       "      <td>177.75</td>\n",
       "      <td>68.50</td>\n",
       "      <td>38.7</td>\n",
       "      <td>102.0</td>\n",
       "      <td>95.0</td>\n",
       "      <td>98.3</td>\n",
       "      <td>55.0</td>\n",
       "      <td>38.3</td>\n",
       "      <td>21.8</td>\n",
       "      <td>30.8</td>\n",
       "      <td>25.7</td>\n",
       "      <td>18.8</td>\n",
       "    </tr>\n",
       "    <tr>\n",
       "      <th>3</th>\n",
       "      <td>10.6</td>\n",
       "      <td>57</td>\n",
       "      <td>147.75</td>\n",
       "      <td>65.75</td>\n",
       "      <td>35.2</td>\n",
       "      <td>99.6</td>\n",
       "      <td>86.4</td>\n",
       "      <td>90.1</td>\n",
       "      <td>53.0</td>\n",
       "      <td>35.0</td>\n",
       "      <td>21.3</td>\n",
       "      <td>31.7</td>\n",
       "      <td>27.3</td>\n",
       "      <td>16.9</td>\n",
       "    </tr>\n",
       "    <tr>\n",
       "      <th>4</th>\n",
       "      <td>47.5</td>\n",
       "      <td>51</td>\n",
       "      <td>219.00</td>\n",
       "      <td>64.00</td>\n",
       "      <td>41.2</td>\n",
       "      <td>119.8</td>\n",
       "      <td>122.1</td>\n",
       "      <td>112.8</td>\n",
       "      <td>62.5</td>\n",
       "      <td>36.9</td>\n",
       "      <td>23.6</td>\n",
       "      <td>34.7</td>\n",
       "      <td>29.1</td>\n",
       "      <td>18.4</td>\n",
       "    </tr>\n",
       "  </tbody>\n",
       "</table>\n",
       "</div>"
      ],
      "text/plain": [
       "    FAT  AGE  WEIGHT  HEIGHT  NECK  CHEST  ABDOMEN    HIP  THIGH  KNEE  ANKLE  \\\n",
       "0  35.2   46  363.15   72.25  51.2  136.2    148.1  147.7   87.3  49.1   29.6   \n",
       "1  11.8   27  168.00   71.25  38.1   93.0     79.1   94.5   57.3  36.2   24.5   \n",
       "2  22.2   69  177.75   68.50  38.7  102.0     95.0   98.3   55.0  38.3   21.8   \n",
       "3  10.6   57  147.75   65.75  35.2   99.6     86.4   90.1   53.0  35.0   21.3   \n",
       "4  47.5   51  219.00   64.00  41.2  119.8    122.1  112.8   62.5  36.9   23.6   \n",
       "\n",
       "   BICEPS  FOREARM  WRIST  \n",
       "0    45.0     29.0   21.4  \n",
       "1    29.0     30.0   18.8  \n",
       "2    30.8     25.7   18.8  \n",
       "3    31.7     27.3   16.9  \n",
       "4    34.7     29.1   18.4  "
      ]
     },
     "execution_count": 3,
     "metadata": {},
     "output_type": "execute_result"
    }
   ],
   "source": [
    "df_raw = pd.read_csv('../0_raw_data/체질검사.csv')\n",
    "df_raw.head()"
   ]
  },
  {
   "cell_type": "markdown",
   "id": "15746246",
   "metadata": {},
   "source": [
    "### 데이터 분리"
   ]
  },
  {
   "cell_type": "code",
   "execution_count": 4,
   "id": "6c00bf1e",
   "metadata": {},
   "outputs": [
    {
     "name": "stdout",
     "output_type": "stream",
     "text": [
      "train data X size : (176, 13)\n",
      "train data Y size : (176,)\n",
      "test data X size : (76, 13)\n",
      "test data Y size : (76,)\n"
     ]
    }
   ],
   "source": [
    "# 목표변수, 설명변수 데이터 지정\n",
    "df_raw_y = df_raw['FAT']\n",
    "df_raw_x = df_raw.drop('FAT', axis = 1, inplace = False)\n",
    "# train/test x/y 데이터 분리\n",
    "df_train_x, df_test_x, df_train_y, df_test_y = train_test_split(df_raw_x, df_raw_y, test_size = 0.3, random_state = 1234)\n",
    "print('train data X size :', df_train_x.shape)\n",
    "print('train data Y size :', df_train_y.shape)\n",
    "print('test data X size :', df_test_x.shape)\n",
    "print('test data Y size :', df_test_y.shape)"
   ]
  },
  {
   "cell_type": "markdown",
   "id": "0e12cafe",
   "metadata": {},
   "source": [
    "# Step 2. 규제화 모델 생성"
   ]
  },
  {
   "cell_type": "markdown",
   "id": "81f045dc",
   "metadata": {},
   "source": [
    "### Ridge"
   ]
  },
  {
   "cell_type": "code",
   "execution_count": 5,
   "id": "bb87a5cc",
   "metadata": {},
   "outputs": [
    {
     "name": "stdout",
     "output_type": "stream",
     "text": [
      "절편값 : -36.013578912688416\n"
     ]
    }
   ],
   "source": [
    "# 모델 생성\n",
    "ridge = Ridge(random_state = 1234, alpha = 1)\n",
    "ridge.fit(df_train_x, df_train_y)\n",
    "# 절편값 확인\n",
    "print('절편값 :',ridge.intercept_)"
   ]
  },
  {
   "cell_type": "code",
   "execution_count": 6,
   "id": "43f945d9",
   "metadata": {},
   "outputs": [
    {
     "data": {
      "text/html": [
       "<div>\n",
       "<style scoped>\n",
       "    .dataframe tbody tr th:only-of-type {\n",
       "        vertical-align: middle;\n",
       "    }\n",
       "\n",
       "    .dataframe tbody tr th {\n",
       "        vertical-align: top;\n",
       "    }\n",
       "\n",
       "    .dataframe thead th {\n",
       "        text-align: right;\n",
       "    }\n",
       "</style>\n",
       "<table border=\"1\" class=\"dataframe\">\n",
       "  <thead>\n",
       "    <tr style=\"text-align: right;\">\n",
       "      <th></th>\n",
       "      <th>Coef</th>\n",
       "    </tr>\n",
       "  </thead>\n",
       "  <tbody>\n",
       "    <tr>\n",
       "      <th>AGE</th>\n",
       "      <td>0.064806</td>\n",
       "    </tr>\n",
       "    <tr>\n",
       "      <th>WEIGHT</th>\n",
       "      <td>-0.128253</td>\n",
       "    </tr>\n",
       "    <tr>\n",
       "      <th>HEIGHT</th>\n",
       "      <td>-0.088214</td>\n",
       "    </tr>\n",
       "    <tr>\n",
       "      <th>NECK</th>\n",
       "      <td>-0.406260</td>\n",
       "    </tr>\n",
       "    <tr>\n",
       "      <th>CHEST</th>\n",
       "      <td>0.162899</td>\n",
       "    </tr>\n",
       "    <tr>\n",
       "      <th>ABDOMEN</th>\n",
       "      <td>0.854771</td>\n",
       "    </tr>\n",
       "    <tr>\n",
       "      <th>HIP</th>\n",
       "      <td>-0.143884</td>\n",
       "    </tr>\n",
       "    <tr>\n",
       "      <th>THIGH</th>\n",
       "      <td>0.263334</td>\n",
       "    </tr>\n",
       "    <tr>\n",
       "      <th>KNEE</th>\n",
       "      <td>-0.132273</td>\n",
       "    </tr>\n",
       "    <tr>\n",
       "      <th>ANKLE</th>\n",
       "      <td>0.240906</td>\n",
       "    </tr>\n",
       "    <tr>\n",
       "      <th>BICEPS</th>\n",
       "      <td>0.074837</td>\n",
       "    </tr>\n",
       "    <tr>\n",
       "      <th>FOREARM</th>\n",
       "      <td>0.560738</td>\n",
       "    </tr>\n",
       "    <tr>\n",
       "      <th>WRIST</th>\n",
       "      <td>-1.043492</td>\n",
       "    </tr>\n",
       "  </tbody>\n",
       "</table>\n",
       "</div>"
      ],
      "text/plain": [
       "             Coef\n",
       "AGE      0.064806\n",
       "WEIGHT  -0.128253\n",
       "HEIGHT  -0.088214\n",
       "NECK    -0.406260\n",
       "CHEST    0.162899\n",
       "ABDOMEN  0.854771\n",
       "HIP     -0.143884\n",
       "THIGH    0.263334\n",
       "KNEE    -0.132273\n",
       "ANKLE    0.240906\n",
       "BICEPS   0.074837\n",
       "FOREARM  0.560738\n",
       "WRIST   -1.043492"
      ]
     },
     "execution_count": 6,
     "metadata": {},
     "output_type": "execute_result"
    }
   ],
   "source": [
    "# 회귀계수 확인\n",
    "df_ridge_coef = pd.DataFrame({'Coef' : ridge.coef_}, index = df_train_x.columns)\n",
    "df_ridge_coef"
   ]
  },
  {
   "cell_type": "code",
   "execution_count": 7,
   "id": "b471f23d",
   "metadata": {},
   "outputs": [
    {
     "data": {
      "text/plain": [
       "<AxesSubplot:>"
      ]
     },
     "execution_count": 7,
     "metadata": {},
     "output_type": "execute_result"
    },
    {
     "data": {
      "image/png": "[encoded data removed]",
      "text/plain": [
       "<Figure size 432x288 with 1 Axes>"
      ]
     },
     "metadata": {
      "needs_background": "light"
     },
     "output_type": "display_data"
    }
   ],
   "source": [
    "# 회귀계수 그래프\n",
    "df_ridge_coef.plot.barh(y = 'Coef', legend = False)"
   ]
  },
  {
   "cell_type": "code",
   "execution_count": 11,
   "id": "0ff22653",
   "metadata": {},
   "outputs": [
    {
     "name": "stdout",
     "output_type": "stream",
     "text": [
      "train data의 결정계수 : 0.7688\n",
      "test data의 결정계수 : 0.6642\n"
     ]
    }
   ],
   "source": [
    "# 모델 성능\n",
    "train_pred = ridge.predict(df_train_x)\n",
    "test_pred = ridge.predict(df_test_x)\n",
    "print('train data의 결정계수 : {:.4f}'.format(r2_score(df_train_y, train_pred)))\n",
    "print('test data의 결정계수 : {:.4f}'.format(r2_score(df_test_y, test_pred)))"
   ]
  },
  {
   "cell_type": "markdown",
   "id": "75df9d21",
   "metadata": {},
   "source": [
    "### Lasso"
   ]
  },
  {
   "cell_type": "code",
   "execution_count": 12,
   "id": "510dc755",
   "metadata": {},
   "outputs": [
    {
     "name": "stdout",
     "output_type": "stream",
     "text": [
      "절편값 : -39.35090439476541\n"
     ]
    }
   ],
   "source": [
    "# 모델 생성\n",
    "lasso = Lasso(random_state = 1234, alpha = 1)\n",
    "lasso.fit(df_train_x, df_train_y)\n",
    "# 절편값 확인\n",
    "print('절편값 :',lasso.intercept_)"
   ]
  },
  {
   "cell_type": "code",
   "execution_count": 13,
   "id": "0edf9ce1",
   "metadata": {},
   "outputs": [
    {
     "data": {
      "text/html": [
       "<div>\n",
       "<style scoped>\n",
       "    .dataframe tbody tr th:only-of-type {\n",
       "        vertical-align: middle;\n",
       "    }\n",
       "\n",
       "    .dataframe tbody tr th {\n",
       "        vertical-align: top;\n",
       "    }\n",
       "\n",
       "    .dataframe thead th {\n",
       "        text-align: right;\n",
       "    }\n",
       "</style>\n",
       "<table border=\"1\" class=\"dataframe\">\n",
       "  <thead>\n",
       "    <tr style=\"text-align: right;\">\n",
       "      <th></th>\n",
       "      <th>Coef</th>\n",
       "    </tr>\n",
       "  </thead>\n",
       "  <tbody>\n",
       "    <tr>\n",
       "      <th>AGE</th>\n",
       "      <td>0.016229</td>\n",
       "    </tr>\n",
       "    <tr>\n",
       "      <th>WEIGHT</th>\n",
       "      <td>-0.123026</td>\n",
       "    </tr>\n",
       "    <tr>\n",
       "      <th>HEIGHT</th>\n",
       "      <td>-0.115243</td>\n",
       "    </tr>\n",
       "    <tr>\n",
       "      <th>NECK</th>\n",
       "      <td>-0.000000</td>\n",
       "    </tr>\n",
       "    <tr>\n",
       "      <th>CHEST</th>\n",
       "      <td>0.100403</td>\n",
       "    </tr>\n",
       "    <tr>\n",
       "      <th>ABDOMEN</th>\n",
       "      <td>0.833549</td>\n",
       "    </tr>\n",
       "    <tr>\n",
       "      <th>HIP</th>\n",
       "      <td>-0.000000</td>\n",
       "    </tr>\n",
       "    <tr>\n",
       "      <th>THIGH</th>\n",
       "      <td>0.000000</td>\n",
       "    </tr>\n",
       "    <tr>\n",
       "      <th>KNEE</th>\n",
       "      <td>-0.000000</td>\n",
       "    </tr>\n",
       "    <tr>\n",
       "      <th>ANKLE</th>\n",
       "      <td>0.000000</td>\n",
       "    </tr>\n",
       "    <tr>\n",
       "      <th>BICEPS</th>\n",
       "      <td>0.000000</td>\n",
       "    </tr>\n",
       "    <tr>\n",
       "      <th>FOREARM</th>\n",
       "      <td>0.012671</td>\n",
       "    </tr>\n",
       "    <tr>\n",
       "      <th>WRIST</th>\n",
       "      <td>-0.000000</td>\n",
       "    </tr>\n",
       "  </tbody>\n",
       "</table>\n",
       "</div>"
      ],
      "text/plain": [
       "             Coef\n",
       "AGE      0.016229\n",
       "WEIGHT  -0.123026\n",
       "HEIGHT  -0.115243\n",
       "NECK    -0.000000\n",
       "CHEST    0.100403\n",
       "ABDOMEN  0.833549\n",
       "HIP     -0.000000\n",
       "THIGH    0.000000\n",
       "KNEE    -0.000000\n",
       "ANKLE    0.000000\n",
       "BICEPS   0.000000\n",
       "FOREARM  0.012671\n",
       "WRIST   -0.000000"
      ]
     },
     "execution_count": 13,
     "metadata": {},
     "output_type": "execute_result"
    }
   ],
   "source": [
    "# 회귀계수 확인\n",
    "df_lasso_coef = pd.DataFrame({'Coef' : lasso.coef_}, index = df_train_x.columns)\n",
    "df_lasso_coef"
   ]
  },
  {
   "cell_type": "code",
   "execution_count": 14,
   "id": "9323160a",
   "metadata": {},
   "outputs": [
    {
     "data": {
      "text/plain": [
       "<AxesSubplot:>"
      ]
     },
     "execution_count": 14,
     "metadata": {},
     "output_type": "execute_result"
    },
    {
     "data": {
      "image/png": "[encoded data removed]",
      "text/plain": [
       "<Figure size 432x288 with 1 Axes>"
      ]
     },
     "metadata": {
      "needs_background": "light"
     },
     "output_type": "display_data"
    }
   ],
   "source": [
    "# 회귀계수 그래프\n",
    "df_lasso_coef.plot.barh(y = 'Coef', legend = False)"
   ]
  },
  {
   "cell_type": "code",
   "execution_count": 15,
   "id": "2660c952",
   "metadata": {},
   "outputs": [
    {
     "name": "stdout",
     "output_type": "stream",
     "text": [
      "train data의 결정계수 : 0.7449\n",
      "test data의 결정계수 : 0.6398\n"
     ]
    }
   ],
   "source": [
    "# 모델 성능\n",
    "train_pred = lasso.predict(df_train_x)\n",
    "test_pred = lasso.predict(df_test_x)\n",
    "print('train data의 결정계수 : {:.4f}'.format(r2_score(df_train_y, train_pred)))\n",
    "print('test data의 결정계수 : {:.4f}'.format(r2_score(df_test_y, test_pred)))"
   ]
  },
  {
   "cell_type": "markdown",
   "id": "0b9bd9ba",
   "metadata": {},
   "source": [
    "### ElasticNet"
   ]
  },
  {
   "cell_type": "code",
   "execution_count": 16,
   "id": "15154af8",
   "metadata": {},
   "outputs": [
    {
     "name": "stdout",
     "output_type": "stream",
     "text": [
      "-47.008754973997085\n"
     ]
    }
   ],
   "source": [
    "# 모델 생성\n",
    "elasticnet = ElasticNet(random_state = 1234, alpha = 1)\n",
    "elasticnet.fit(df_train_x, df_train_y)\n",
    "# 절편 확인\n",
    "print(elasticnet.intercept_)"
   ]
  },
  {
   "cell_type": "code",
   "execution_count": 17,
   "id": "47476eff",
   "metadata": {},
   "outputs": [
    {
     "data": {
      "text/html": [
       "<div>\n",
       "<style scoped>\n",
       "    .dataframe tbody tr th:only-of-type {\n",
       "        vertical-align: middle;\n",
       "    }\n",
       "\n",
       "    .dataframe tbody tr th {\n",
       "        vertical-align: top;\n",
       "    }\n",
       "\n",
       "    .dataframe thead th {\n",
       "        text-align: right;\n",
       "    }\n",
       "</style>\n",
       "<table border=\"1\" class=\"dataframe\">\n",
       "  <thead>\n",
       "    <tr style=\"text-align: right;\">\n",
       "      <th></th>\n",
       "      <th>Coef</th>\n",
       "    </tr>\n",
       "  </thead>\n",
       "  <tbody>\n",
       "    <tr>\n",
       "      <th>AGE</th>\n",
       "      <td>0.030322</td>\n",
       "    </tr>\n",
       "    <tr>\n",
       "      <th>WEIGHT</th>\n",
       "      <td>-0.146414</td>\n",
       "    </tr>\n",
       "    <tr>\n",
       "      <th>HEIGHT</th>\n",
       "      <td>-0.114964</td>\n",
       "    </tr>\n",
       "    <tr>\n",
       "      <th>NECK</th>\n",
       "      <td>-0.114761</td>\n",
       "    </tr>\n",
       "    <tr>\n",
       "      <th>CHEST</th>\n",
       "      <td>0.162783</td>\n",
       "    </tr>\n",
       "    <tr>\n",
       "      <th>ABDOMEN</th>\n",
       "      <td>0.808041</td>\n",
       "    </tr>\n",
       "    <tr>\n",
       "      <th>HIP</th>\n",
       "      <td>-0.000000</td>\n",
       "    </tr>\n",
       "    <tr>\n",
       "      <th>THIGH</th>\n",
       "      <td>0.107365</td>\n",
       "    </tr>\n",
       "    <tr>\n",
       "      <th>KNEE</th>\n",
       "      <td>-0.000000</td>\n",
       "    </tr>\n",
       "    <tr>\n",
       "      <th>ANKLE</th>\n",
       "      <td>0.000000</td>\n",
       "    </tr>\n",
       "    <tr>\n",
       "      <th>BICEPS</th>\n",
       "      <td>0.000000</td>\n",
       "    </tr>\n",
       "    <tr>\n",
       "      <th>FOREARM</th>\n",
       "      <td>0.196909</td>\n",
       "    </tr>\n",
       "    <tr>\n",
       "      <th>WRIST</th>\n",
       "      <td>-0.000000</td>\n",
       "    </tr>\n",
       "  </tbody>\n",
       "</table>\n",
       "</div>"
      ],
      "text/plain": [
       "             Coef\n",
       "AGE      0.030322\n",
       "WEIGHT  -0.146414\n",
       "HEIGHT  -0.114964\n",
       "NECK    -0.114761\n",
       "CHEST    0.162783\n",
       "ABDOMEN  0.808041\n",
       "HIP     -0.000000\n",
       "THIGH    0.107365\n",
       "KNEE    -0.000000\n",
       "ANKLE    0.000000\n",
       "BICEPS   0.000000\n",
       "FOREARM  0.196909\n",
       "WRIST   -0.000000"
      ]
     },
     "execution_count": 17,
     "metadata": {},
     "output_type": "execute_result"
    }
   ],
   "source": [
    "# 회귀계수 확인\n",
    "df_elasticnet_coef = pd.DataFrame({'Coef' : elasticnet.coef_}, index = df_train_x.columns)\n",
    "df_elasticnet_coef"
   ]
  },
  {
   "cell_type": "code",
   "execution_count": 18,
   "id": "7954889e",
   "metadata": {},
   "outputs": [
    {
     "data": {
      "text/plain": [
       "<AxesSubplot:>"
      ]
     },
     "execution_count": 18,
     "metadata": {},
     "output_type": "execute_result"
    },
    {
     "data": {
      "image/png": "[encoded data removed]",
      "text/plain": [
       "<Figure size 432x288 with 1 Axes>"
      ]
     },
     "metadata": {
      "needs_background": "light"
     },
     "output_type": "display_data"
    }
   ],
   "source": [
    "# 회귀계수 그래프\n",
    "df_elasticnet_coef.plot.barh(y = 'Coef', legend = False)"
   ]
  },
  {
   "cell_type": "code",
   "execution_count": 19,
   "id": "a5dc4212",
   "metadata": {},
   "outputs": [
    {
     "name": "stdout",
     "output_type": "stream",
     "text": [
      "train data의 결정계수 : 0.7549\n",
      "test data의 결정계수 : 0.6367\n"
     ]
    }
   ],
   "source": [
    "# 모델 성능\n",
    "train_pred = elasticnet.predict(df_train_x)\n",
    "test_pred = elasticnet.predict(df_test_x)\n",
    "print('train data의 결정계수 : {:.4f}'.format(r2_score(df_train_y, train_pred)))\n",
    "print('test data의 결정계수 : {:.4f}'.format(r2_score(df_test_y, test_pred)))"
   ]
  }
 ],
 "metadata": {
  "kernelspec": {
   "display_name": "Python 3 (ipykernel)",
   "language": "python",
   "name": "python3"
  },
  "language_info": {
   "codemirror_mode": {
    "name": "ipython",
    "version": 3
   },
   "file_extension": ".py",
   "mimetype": "text/x-python",
   "name": "python",
   "nbconvert_exporter": "python",
   "pygments_lexer": "ipython3",
   "version": "3.9.12"
  }
 },
 "nbformat": 4,
 "nbformat_minor": 5
}
