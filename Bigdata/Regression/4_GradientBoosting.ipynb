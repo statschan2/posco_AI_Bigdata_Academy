{
 "cells": [
  {
   "cell_type": "markdown",
   "id": "7b7382f0",
   "metadata": {},
   "source": [
    "# p.162 연습\n",
    "감독자의 체질검사 데이터를 활용하여 체질 비만도를 예측하기 위한 그래디언트 부스팅 분석을 실시하고 결과를 해석하시오.\n",
    "* 목표변수 : FAT(연속형)\n",
    "* 데이터 비율 train : test = 0.7 : 0.3\n",
    "* random_state = 1234"
   ]
  },
  {
   "cell_type": "markdown",
   "id": "5f354dcf",
   "metadata": {},
   "source": [
    "# Step 0. 패키지 불러오기"
   ]
  },
  {
   "cell_type": "markdown",
   "id": "d3a6a40d",
   "metadata": {},
   "source": [
    "### 나무 시각화 패키지 설치"
   ]
  },
  {
   "cell_type": "code",
   "execution_count": 1,
   "id": "fc7712fb",
   "metadata": {},
   "outputs": [],
   "source": [
    "# !pip install graphviz"
   ]
  },
  {
   "cell_type": "markdown",
   "id": "7919356a",
   "metadata": {},
   "source": [
    "### 경로 설정"
   ]
  },
  {
   "cell_type": "code",
   "execution_count": 2,
   "id": "e6af42c8",
   "metadata": {},
   "outputs": [],
   "source": [
    "# os 환경\n",
    "import os\n",
    "import sys\n",
    "\n",
    "# PATH 설정\n",
    "os.environ['PATH'] += os.pathsep + 'C:/Program Files (x86)/Graphviz/bin/'"
   ]
  },
  {
   "cell_type": "markdown",
   "id": "fb6c3c6b",
   "metadata": {},
   "source": [
    "### 패키지 불러오기"
   ]
  },
  {
   "cell_type": "code",
   "execution_count": 3,
   "id": "4e0e5dbb",
   "metadata": {},
   "outputs": [],
   "source": [
    "# 데이터 구성\n",
    "import pandas as pd\n",
    "import numpy as np\n",
    "# 데이터 시각화\n",
    "import matplotlib\n",
    "import matplotlib.pyplot as plt\n",
    "import seaborn as sns\n",
    "# 한글, 음수 표시\n",
    "matplotlib.rc('font', family = 'Malgun Gothic')\n",
    "matplotlib.rc('axes', unicode_minus = False)\n",
    "# 나무 구조 시각화\n",
    "import pydot\n",
    "import graphviz\n",
    "from sklearn import tree\n",
    "from graphviz import Source\n",
    "# 나무 구조 생성 및 저장\n",
    "from sklearn.tree import export_graphviz\n",
    "# 데이터 분리\n",
    "from sklearn.model_selection import train_test_split\n",
    "# GradientBoostingRegressor\n",
    "from sklearn.ensemble import GradientBoostingRegressor as GBR\n",
    "# GridSearchCV\n",
    "from sklearn.model_selection import GridSearchCV\n",
    "# 경고 메시지\n",
    "import warnings\n",
    "warnings.filterwarnings('ignore')"
   ]
  },
  {
   "cell_type": "markdown",
   "id": "c96d49c8",
   "metadata": {},
   "source": [
    "# Step 1. 데이터 구성하기"
   ]
  },
  {
   "cell_type": "markdown",
   "id": "06b25dc4",
   "metadata": {},
   "source": [
    "### 데이터 불러오기"
   ]
  },
  {
   "cell_type": "code",
   "execution_count": 4,
   "id": "82561c93",
   "metadata": {},
   "outputs": [
    {
     "data": {
      "text/html": [
       "<div>\n",
       "<style scoped>\n",
       "    .dataframe tbody tr th:only-of-type {\n",
       "        vertical-align: middle;\n",
       "    }\n",
       "\n",
       "    .dataframe tbody tr th {\n",
       "        vertical-align: top;\n",
       "    }\n",
       "\n",
       "    .dataframe thead th {\n",
       "        text-align: right;\n",
       "    }\n",
       "</style>\n",
       "<table border=\"1\" class=\"dataframe\">\n",
       "  <thead>\n",
       "    <tr style=\"text-align: right;\">\n",
       "      <th></th>\n",
       "      <th>FAT</th>\n",
       "      <th>AGE</th>\n",
       "      <th>WEIGHT</th>\n",
       "      <th>HEIGHT</th>\n",
       "      <th>NECK</th>\n",
       "      <th>CHEST</th>\n",
       "      <th>ABDOMEN</th>\n",
       "      <th>HIP</th>\n",
       "      <th>THIGH</th>\n",
       "      <th>KNEE</th>\n",
       "      <th>ANKLE</th>\n",
       "      <th>BICEPS</th>\n",
       "      <th>FOREARM</th>\n",
       "      <th>WRIST</th>\n",
       "    </tr>\n",
       "  </thead>\n",
       "  <tbody>\n",
       "    <tr>\n",
       "      <th>0</th>\n",
       "      <td>35.2</td>\n",
       "      <td>46</td>\n",
       "      <td>363.15</td>\n",
       "      <td>72.25</td>\n",
       "      <td>51.2</td>\n",
       "      <td>136.2</td>\n",
       "      <td>148.1</td>\n",
       "      <td>147.7</td>\n",
       "      <td>87.3</td>\n",
       "      <td>49.1</td>\n",
       "      <td>29.6</td>\n",
       "      <td>45.0</td>\n",
       "      <td>29.0</td>\n",
       "      <td>21.4</td>\n",
       "    </tr>\n",
       "    <tr>\n",
       "      <th>1</th>\n",
       "      <td>11.8</td>\n",
       "      <td>27</td>\n",
       "      <td>168.00</td>\n",
       "      <td>71.25</td>\n",
       "      <td>38.1</td>\n",
       "      <td>93.0</td>\n",
       "      <td>79.1</td>\n",
       "      <td>94.5</td>\n",
       "      <td>57.3</td>\n",
       "      <td>36.2</td>\n",
       "      <td>24.5</td>\n",
       "      <td>29.0</td>\n",
       "      <td>30.0</td>\n",
       "      <td>18.8</td>\n",
       "    </tr>\n",
       "    <tr>\n",
       "      <th>2</th>\n",
       "      <td>22.2</td>\n",
       "      <td>69</td>\n",
       "      <td>177.75</td>\n",
       "      <td>68.50</td>\n",
       "      <td>38.7</td>\n",
       "      <td>102.0</td>\n",
       "      <td>95.0</td>\n",
       "      <td>98.3</td>\n",
       "      <td>55.0</td>\n",
       "      <td>38.3</td>\n",
       "      <td>21.8</td>\n",
       "      <td>30.8</td>\n",
       "      <td>25.7</td>\n",
       "      <td>18.8</td>\n",
       "    </tr>\n",
       "  </tbody>\n",
       "</table>\n",
       "</div>"
      ],
      "text/plain": [
       "    FAT  AGE  WEIGHT  HEIGHT  NECK  CHEST  ABDOMEN    HIP  THIGH  KNEE  ANKLE  \\\n",
       "0  35.2   46  363.15   72.25  51.2  136.2    148.1  147.7   87.3  49.1   29.6   \n",
       "1  11.8   27  168.00   71.25  38.1   93.0     79.1   94.5   57.3  36.2   24.5   \n",
       "2  22.2   69  177.75   68.50  38.7  102.0     95.0   98.3   55.0  38.3   21.8   \n",
       "\n",
       "   BICEPS  FOREARM  WRIST  \n",
       "0    45.0     29.0   21.4  \n",
       "1    29.0     30.0   18.8  \n",
       "2    30.8     25.7   18.8  "
      ]
     },
     "execution_count": 4,
     "metadata": {},
     "output_type": "execute_result"
    }
   ],
   "source": [
    "df_raw = pd.read_csv('D:/Study/posco/2_bigdata/raw_data/체질검사.csv')\n",
    "df_raw.head(3)"
   ]
  },
  {
   "cell_type": "markdown",
   "id": "4e481b8a",
   "metadata": {},
   "source": [
    "### 데이터 분리"
   ]
  },
  {
   "cell_type": "code",
   "execution_count": 5,
   "id": "97ff16ba",
   "metadata": {},
   "outputs": [
    {
     "name": "stdout",
     "output_type": "stream",
     "text": [
      "train data X size : (176, 13)\n",
      "train data Y size : (176,)\n",
      "test data X size : (76, 13)\n",
      "test data Y size : (76,)\n"
     ]
    }
   ],
   "source": [
    "# 목표변수, 설명변수 데이터 지정\n",
    "df_raw_y = df_raw['FAT']\n",
    "df_raw_x = df_raw.drop('FAT', axis = 1, inplace = False)\n",
    "# train/test x/y 데이터 분리\n",
    "df_train_x, df_test_x, df_train_y, df_test_y = train_test_split(df_raw_x, df_raw_y, test_size = 0.3, random_state = 1234)\n",
    "print('train data X size :', df_train_x.shape)\n",
    "print('train data Y size :', df_train_y.shape)\n",
    "print('test data X size :', df_test_x.shape)\n",
    "print('test data Y size :', df_test_y.shape)"
   ]
  },
  {
   "cell_type": "markdown",
   "id": "c322d4ec",
   "metadata": {},
   "source": [
    "# Step 3. 그래디언트 부스팅 모델 생성"
   ]
  },
  {
   "cell_type": "markdown",
   "id": "2e048932",
   "metadata": {},
   "source": [
    "### 기본 옵션으로 모델 생성"
   ]
  },
  {
   "cell_type": "code",
   "execution_count": 6,
   "id": "46162302",
   "metadata": {},
   "outputs": [
    {
     "name": "stdout",
     "output_type": "stream",
     "text": [
      "Score in train set : 0.9806\n",
      "Score in test set : 0.5812\n"
     ]
    }
   ],
   "source": [
    "# 기본 모델\n",
    "gbr_basic = GBR(random_state = 1234)\n",
    "gbr_basic.fit(df_train_x, df_train_y)\n",
    "# train/test 데이터 설명력\n",
    "print('Score in train set :', gbr_basic.score(df_train_x, df_train_y).round(4))\n",
    "print('Score in test set :', gbr_basic.score(df_test_x, df_test_y).round(4))"
   ]
  },
  {
   "cell_type": "markdown",
   "id": "867baf98",
   "metadata": {},
   "source": [
    "* train data에 과대적합"
   ]
  },
  {
   "cell_type": "markdown",
   "id": "d01acc2f",
   "metadata": {},
   "source": [
    "### Hyper Parameter"
   ]
  },
  {
   "cell_type": "markdown",
   "id": "5e464dbe",
   "metadata": {},
   "source": [
    "##### n_estimators : 트리 수"
   ]
  },
  {
   "cell_type": "code",
   "execution_count": 7,
   "id": "c15c1a73",
   "metadata": {},
   "outputs": [
    {
     "data": {
      "text/html": [
       "<div>\n",
       "<style scoped>\n",
       "    .dataframe tbody tr th:only-of-type {\n",
       "        vertical-align: middle;\n",
       "    }\n",
       "\n",
       "    .dataframe tbody tr th {\n",
       "        vertical-align: top;\n",
       "    }\n",
       "\n",
       "    .dataframe thead th {\n",
       "        text-align: right;\n",
       "    }\n",
       "</style>\n",
       "<table border=\"1\" class=\"dataframe\">\n",
       "  <thead>\n",
       "    <tr style=\"text-align: right;\">\n",
       "      <th></th>\n",
       "      <th>n_esimators</th>\n",
       "      <th>TrainScore</th>\n",
       "      <th>TestScore</th>\n",
       "    </tr>\n",
       "  </thead>\n",
       "  <tbody>\n",
       "    <tr>\n",
       "      <th>0</th>\n",
       "      <td>10</td>\n",
       "      <td>0.7115</td>\n",
       "      <td>0.5124</td>\n",
       "    </tr>\n",
       "    <tr>\n",
       "      <th>1</th>\n",
       "      <td>20</td>\n",
       "      <td>0.8502</td>\n",
       "      <td>0.5892</td>\n",
       "    </tr>\n",
       "    <tr>\n",
       "      <th>2</th>\n",
       "      <td>30</td>\n",
       "      <td>0.8967</td>\n",
       "      <td>0.6000</td>\n",
       "    </tr>\n",
       "    <tr>\n",
       "      <th>3</th>\n",
       "      <td>40</td>\n",
       "      <td>0.9215</td>\n",
       "      <td>0.5991</td>\n",
       "    </tr>\n",
       "    <tr>\n",
       "      <th>4</th>\n",
       "      <td>50</td>\n",
       "      <td>0.9416</td>\n",
       "      <td>0.5867</td>\n",
       "    </tr>\n",
       "    <tr>\n",
       "      <th>5</th>\n",
       "      <td>60</td>\n",
       "      <td>0.9545</td>\n",
       "      <td>0.5859</td>\n",
       "    </tr>\n",
       "    <tr>\n",
       "      <th>6</th>\n",
       "      <td>70</td>\n",
       "      <td>0.9635</td>\n",
       "      <td>0.5869</td>\n",
       "    </tr>\n",
       "    <tr>\n",
       "      <th>7</th>\n",
       "      <td>80</td>\n",
       "      <td>0.9702</td>\n",
       "      <td>0.5809</td>\n",
       "    </tr>\n",
       "    <tr>\n",
       "      <th>8</th>\n",
       "      <td>90</td>\n",
       "      <td>0.9757</td>\n",
       "      <td>0.5821</td>\n",
       "    </tr>\n",
       "    <tr>\n",
       "      <th>9</th>\n",
       "      <td>100</td>\n",
       "      <td>0.9806</td>\n",
       "      <td>0.5812</td>\n",
       "    </tr>\n",
       "  </tbody>\n",
       "</table>\n",
       "</div>"
      ],
      "text/plain": [
       "   n_esimators  TrainScore  TestScore\n",
       "0           10      0.7115     0.5124\n",
       "1           20      0.8502     0.5892\n",
       "2           30      0.8967     0.6000\n",
       "3           40      0.9215     0.5991\n",
       "4           50      0.9416     0.5867\n",
       "5           60      0.9545     0.5859\n",
       "6           70      0.9635     0.5869\n",
       "7           80      0.9702     0.5809\n",
       "8           90      0.9757     0.5821\n",
       "9          100      0.9806     0.5812"
      ]
     },
     "execution_count": 7,
     "metadata": {},
     "output_type": "execute_result"
    }
   ],
   "source": [
    "# train/test 설명력 저장\n",
    "train_score = []\n",
    "test_score = []\n",
    "\n",
    "# n_estimators\n",
    "para_n = [n_n * 10 for n_n in range(1,11)]\n",
    "\n",
    "for v_n_estimators in para_n :\n",
    "    gbr = GBR(random_state = 1234,\n",
    "              n_estimators = v_n_estimators)\n",
    "    gbr.fit(df_train_x, df_train_y)\n",
    "    train_score.append(gbr.score(df_train_x, df_train_y))\n",
    "    test_score.append(gbr.score(df_test_x, df_test_y))\n",
    "    \n",
    "# 결과 저장\n",
    "df_score_n = pd.DataFrame()\n",
    "df_score_n['n_esimators'] = para_n\n",
    "df_score_n['TrainScore'] = train_score\n",
    "df_score_n['TestScore'] = test_score\n",
    "\n",
    "# 모델 설명력 확인\n",
    "df_score_n.round(4)"
   ]
  },
  {
   "cell_type": "code",
   "execution_count": 8,
   "id": "db674984",
   "metadata": {},
   "outputs": [
    {
     "data": {
      "image/png": "[encoded data removed]",
      "text/plain": [
       "<Figure size 432x288 with 1 Axes>"
      ]
     },
     "metadata": {
      "needs_background": "light"
     },
     "output_type": "display_data"
    }
   ],
   "source": [
    "# 모델 설명력 그래프 확인\n",
    "plt.plot(para_n, train_score, linestyle = '-', label = 'TrainScore')\n",
    "plt.plot(para_n, test_score, linestyle = '--', label = 'TestScore')\n",
    "plt.legend();plt.show()"
   ]
  },
  {
   "cell_type": "markdown",
   "id": "552368ec",
   "metadata": {},
   "source": [
    "* n_estimators 증가하면 설명력은 증가\n",
    "* 30, 40 중 하나 선택"
   ]
  },
  {
   "cell_type": "markdown",
   "id": "07544e42",
   "metadata": {},
   "source": [
    "##### min_samples_leaf : 잎사귀 노드의 최소 자료 수"
   ]
  },
  {
   "cell_type": "code",
   "execution_count": 9,
   "id": "3dda2658",
   "metadata": {},
   "outputs": [
    {
     "data": {
      "text/html": [
       "<div>\n",
       "<style scoped>\n",
       "    .dataframe tbody tr th:only-of-type {\n",
       "        vertical-align: middle;\n",
       "    }\n",
       "\n",
       "    .dataframe tbody tr th {\n",
       "        vertical-align: top;\n",
       "    }\n",
       "\n",
       "    .dataframe thead th {\n",
       "        text-align: right;\n",
       "    }\n",
       "</style>\n",
       "<table border=\"1\" class=\"dataframe\">\n",
       "  <thead>\n",
       "    <tr style=\"text-align: right;\">\n",
       "      <th></th>\n",
       "      <th>MinSamplesLeaf</th>\n",
       "      <th>TrainScore</th>\n",
       "      <th>TestScore</th>\n",
       "    </tr>\n",
       "  </thead>\n",
       "  <tbody>\n",
       "    <tr>\n",
       "      <th>0</th>\n",
       "      <td>1</td>\n",
       "      <td>0.8967</td>\n",
       "      <td>0.6000</td>\n",
       "    </tr>\n",
       "    <tr>\n",
       "      <th>1</th>\n",
       "      <td>2</td>\n",
       "      <td>0.8991</td>\n",
       "      <td>0.5986</td>\n",
       "    </tr>\n",
       "    <tr>\n",
       "      <th>2</th>\n",
       "      <td>3</td>\n",
       "      <td>0.8961</td>\n",
       "      <td>0.5939</td>\n",
       "    </tr>\n",
       "    <tr>\n",
       "      <th>3</th>\n",
       "      <td>4</td>\n",
       "      <td>0.8927</td>\n",
       "      <td>0.5859</td>\n",
       "    </tr>\n",
       "    <tr>\n",
       "      <th>4</th>\n",
       "      <td>5</td>\n",
       "      <td>0.8899</td>\n",
       "      <td>0.6041</td>\n",
       "    </tr>\n",
       "    <tr>\n",
       "      <th>5</th>\n",
       "      <td>6</td>\n",
       "      <td>0.8880</td>\n",
       "      <td>0.5957</td>\n",
       "    </tr>\n",
       "    <tr>\n",
       "      <th>6</th>\n",
       "      <td>7</td>\n",
       "      <td>0.8839</td>\n",
       "      <td>0.5896</td>\n",
       "    </tr>\n",
       "    <tr>\n",
       "      <th>7</th>\n",
       "      <td>8</td>\n",
       "      <td>0.8739</td>\n",
       "      <td>0.6105</td>\n",
       "    </tr>\n",
       "    <tr>\n",
       "      <th>8</th>\n",
       "      <td>9</td>\n",
       "      <td>0.8786</td>\n",
       "      <td>0.5978</td>\n",
       "    </tr>\n",
       "    <tr>\n",
       "      <th>9</th>\n",
       "      <td>10</td>\n",
       "      <td>0.8727</td>\n",
       "      <td>0.5872</td>\n",
       "    </tr>\n",
       "    <tr>\n",
       "      <th>10</th>\n",
       "      <td>11</td>\n",
       "      <td>0.8697</td>\n",
       "      <td>0.6196</td>\n",
       "    </tr>\n",
       "    <tr>\n",
       "      <th>11</th>\n",
       "      <td>12</td>\n",
       "      <td>0.8650</td>\n",
       "      <td>0.5972</td>\n",
       "    </tr>\n",
       "    <tr>\n",
       "      <th>12</th>\n",
       "      <td>13</td>\n",
       "      <td>0.8623</td>\n",
       "      <td>0.6058</td>\n",
       "    </tr>\n",
       "    <tr>\n",
       "      <th>13</th>\n",
       "      <td>14</td>\n",
       "      <td>0.8522</td>\n",
       "      <td>0.5997</td>\n",
       "    </tr>\n",
       "    <tr>\n",
       "      <th>14</th>\n",
       "      <td>15</td>\n",
       "      <td>0.8472</td>\n",
       "      <td>0.6046</td>\n",
       "    </tr>\n",
       "    <tr>\n",
       "      <th>15</th>\n",
       "      <td>16</td>\n",
       "      <td>0.8455</td>\n",
       "      <td>0.5998</td>\n",
       "    </tr>\n",
       "    <tr>\n",
       "      <th>16</th>\n",
       "      <td>17</td>\n",
       "      <td>0.8414</td>\n",
       "      <td>0.5889</td>\n",
       "    </tr>\n",
       "    <tr>\n",
       "      <th>17</th>\n",
       "      <td>18</td>\n",
       "      <td>0.8376</td>\n",
       "      <td>0.5877</td>\n",
       "    </tr>\n",
       "    <tr>\n",
       "      <th>18</th>\n",
       "      <td>19</td>\n",
       "      <td>0.8405</td>\n",
       "      <td>0.5893</td>\n",
       "    </tr>\n",
       "    <tr>\n",
       "      <th>19</th>\n",
       "      <td>20</td>\n",
       "      <td>0.8314</td>\n",
       "      <td>0.5946</td>\n",
       "    </tr>\n",
       "  </tbody>\n",
       "</table>\n",
       "</div>"
      ],
      "text/plain": [
       "    MinSamplesLeaf  TrainScore  TestScore\n",
       "0                1      0.8967     0.6000\n",
       "1                2      0.8991     0.5986\n",
       "2                3      0.8961     0.5939\n",
       "3                4      0.8927     0.5859\n",
       "4                5      0.8899     0.6041\n",
       "5                6      0.8880     0.5957\n",
       "6                7      0.8839     0.5896\n",
       "7                8      0.8739     0.6105\n",
       "8                9      0.8786     0.5978\n",
       "9               10      0.8727     0.5872\n",
       "10              11      0.8697     0.6196\n",
       "11              12      0.8650     0.5972\n",
       "12              13      0.8623     0.6058\n",
       "13              14      0.8522     0.5997\n",
       "14              15      0.8472     0.6046\n",
       "15              16      0.8455     0.5998\n",
       "16              17      0.8414     0.5889\n",
       "17              18      0.8376     0.5877\n",
       "18              19      0.8405     0.5893\n",
       "19              20      0.8314     0.5946"
      ]
     },
     "execution_count": 9,
     "metadata": {},
     "output_type": "execute_result"
    }
   ],
   "source": [
    "# train/test 설명력 저장\n",
    "train_score = []\n",
    "test_score = []\n",
    "\n",
    "# min_samples_leaf\n",
    "para_leaf = [n_leaf * 1 for n_leaf in range(1,21)]\n",
    "\n",
    "for v_min_samples_leaf in para_leaf :\n",
    "    gbr = GBR(random_state = 1234,\n",
    "              n_estimators = 30,\n",
    "              min_samples_leaf = v_min_samples_leaf)\n",
    "    gbr.fit(df_train_x, df_train_y)\n",
    "    train_score.append(gbr.score(df_train_x, df_train_y))\n",
    "    test_score.append(gbr.score(df_test_x, df_test_y))\n",
    "    \n",
    "# 결과 저장\n",
    "df_score_leaf = pd.DataFrame()\n",
    "df_score_leaf['MinSamplesLeaf'] = para_leaf\n",
    "df_score_leaf['TrainScore'] = train_score\n",
    "df_score_leaf['TestScore'] = test_score\n",
    "\n",
    "# 모델 설명력 확인\n",
    "df_score_leaf.round(4)"
   ]
  },
  {
   "cell_type": "code",
   "execution_count": 10,
   "id": "17fe0d93",
   "metadata": {},
   "outputs": [
    {
     "data": {
      "image/png": "[encoded data removed]",
      "text/plain": [
       "<Figure size 432x288 with 1 Axes>"
      ]
     },
     "metadata": {
      "needs_background": "light"
     },
     "output_type": "display_data"
    }
   ],
   "source": [
    "# 모델 설명력 그래프 확인\n",
    "plt.plot(para_leaf, train_score, linestyle = '-', label = 'TrainScore')\n",
    "plt.plot(para_leaf, test_score, linestyle = '--', label = 'TestScore')\n",
    "plt.legend();plt.show()"
   ]
  },
  {
   "cell_type": "markdown",
   "id": "e1535caa",
   "metadata": {},
   "source": [
    "* min_samples_leaf 증가하면 설명력은 감소\n",
    "* 8, 11 중 하나 선택"
   ]
  },
  {
   "cell_type": "markdown",
   "id": "afd603ad",
   "metadata": {},
   "source": [
    "##### min_samples_split : 분리 노드의 최소 자료 수"
   ]
  },
  {
   "cell_type": "code",
   "execution_count": 11,
   "id": "0db84d4a",
   "metadata": {},
   "outputs": [
    {
     "data": {
      "text/html": [
       "<div>\n",
       "<style scoped>\n",
       "    .dataframe tbody tr th:only-of-type {\n",
       "        vertical-align: middle;\n",
       "    }\n",
       "\n",
       "    .dataframe tbody tr th {\n",
       "        vertical-align: top;\n",
       "    }\n",
       "\n",
       "    .dataframe thead th {\n",
       "        text-align: right;\n",
       "    }\n",
       "</style>\n",
       "<table border=\"1\" class=\"dataframe\">\n",
       "  <thead>\n",
       "    <tr style=\"text-align: right;\">\n",
       "      <th></th>\n",
       "      <th>MinSamplesLeaf</th>\n",
       "      <th>TrainScore</th>\n",
       "      <th>TestScore</th>\n",
       "    </tr>\n",
       "  </thead>\n",
       "  <tbody>\n",
       "    <tr>\n",
       "      <th>0</th>\n",
       "      <td>2</td>\n",
       "      <td>0.8697</td>\n",
       "      <td>0.6196</td>\n",
       "    </tr>\n",
       "    <tr>\n",
       "      <th>1</th>\n",
       "      <td>4</td>\n",
       "      <td>0.8697</td>\n",
       "      <td>0.6196</td>\n",
       "    </tr>\n",
       "    <tr>\n",
       "      <th>2</th>\n",
       "      <td>6</td>\n",
       "      <td>0.8697</td>\n",
       "      <td>0.6196</td>\n",
       "    </tr>\n",
       "    <tr>\n",
       "      <th>3</th>\n",
       "      <td>8</td>\n",
       "      <td>0.8697</td>\n",
       "      <td>0.6196</td>\n",
       "    </tr>\n",
       "    <tr>\n",
       "      <th>4</th>\n",
       "      <td>10</td>\n",
       "      <td>0.8697</td>\n",
       "      <td>0.6196</td>\n",
       "    </tr>\n",
       "    <tr>\n",
       "      <th>5</th>\n",
       "      <td>12</td>\n",
       "      <td>0.8697</td>\n",
       "      <td>0.6196</td>\n",
       "    </tr>\n",
       "    <tr>\n",
       "      <th>6</th>\n",
       "      <td>14</td>\n",
       "      <td>0.8697</td>\n",
       "      <td>0.6196</td>\n",
       "    </tr>\n",
       "    <tr>\n",
       "      <th>7</th>\n",
       "      <td>16</td>\n",
       "      <td>0.8697</td>\n",
       "      <td>0.6196</td>\n",
       "    </tr>\n",
       "    <tr>\n",
       "      <th>8</th>\n",
       "      <td>18</td>\n",
       "      <td>0.8697</td>\n",
       "      <td>0.6196</td>\n",
       "    </tr>\n",
       "    <tr>\n",
       "      <th>9</th>\n",
       "      <td>20</td>\n",
       "      <td>0.8697</td>\n",
       "      <td>0.6196</td>\n",
       "    </tr>\n",
       "    <tr>\n",
       "      <th>10</th>\n",
       "      <td>22</td>\n",
       "      <td>0.8697</td>\n",
       "      <td>0.6196</td>\n",
       "    </tr>\n",
       "    <tr>\n",
       "      <th>11</th>\n",
       "      <td>24</td>\n",
       "      <td>0.8682</td>\n",
       "      <td>0.6142</td>\n",
       "    </tr>\n",
       "    <tr>\n",
       "      <th>12</th>\n",
       "      <td>26</td>\n",
       "      <td>0.8681</td>\n",
       "      <td>0.6169</td>\n",
       "    </tr>\n",
       "    <tr>\n",
       "      <th>13</th>\n",
       "      <td>28</td>\n",
       "      <td>0.8626</td>\n",
       "      <td>0.6174</td>\n",
       "    </tr>\n",
       "    <tr>\n",
       "      <th>14</th>\n",
       "      <td>30</td>\n",
       "      <td>0.8600</td>\n",
       "      <td>0.6170</td>\n",
       "    </tr>\n",
       "    <tr>\n",
       "      <th>15</th>\n",
       "      <td>32</td>\n",
       "      <td>0.8622</td>\n",
       "      <td>0.6115</td>\n",
       "    </tr>\n",
       "    <tr>\n",
       "      <th>16</th>\n",
       "      <td>34</td>\n",
       "      <td>0.8547</td>\n",
       "      <td>0.6158</td>\n",
       "    </tr>\n",
       "    <tr>\n",
       "      <th>17</th>\n",
       "      <td>36</td>\n",
       "      <td>0.8529</td>\n",
       "      <td>0.6078</td>\n",
       "    </tr>\n",
       "    <tr>\n",
       "      <th>18</th>\n",
       "      <td>38</td>\n",
       "      <td>0.8542</td>\n",
       "      <td>0.6102</td>\n",
       "    </tr>\n",
       "    <tr>\n",
       "      <th>19</th>\n",
       "      <td>40</td>\n",
       "      <td>0.8537</td>\n",
       "      <td>0.6172</td>\n",
       "    </tr>\n",
       "  </tbody>\n",
       "</table>\n",
       "</div>"
      ],
      "text/plain": [
       "    MinSamplesLeaf  TrainScore  TestScore\n",
       "0                2      0.8697     0.6196\n",
       "1                4      0.8697     0.6196\n",
       "2                6      0.8697     0.6196\n",
       "3                8      0.8697     0.6196\n",
       "4               10      0.8697     0.6196\n",
       "5               12      0.8697     0.6196\n",
       "6               14      0.8697     0.6196\n",
       "7               16      0.8697     0.6196\n",
       "8               18      0.8697     0.6196\n",
       "9               20      0.8697     0.6196\n",
       "10              22      0.8697     0.6196\n",
       "11              24      0.8682     0.6142\n",
       "12              26      0.8681     0.6169\n",
       "13              28      0.8626     0.6174\n",
       "14              30      0.8600     0.6170\n",
       "15              32      0.8622     0.6115\n",
       "16              34      0.8547     0.6158\n",
       "17              36      0.8529     0.6078\n",
       "18              38      0.8542     0.6102\n",
       "19              40      0.8537     0.6172"
      ]
     },
     "execution_count": 11,
     "metadata": {},
     "output_type": "execute_result"
    }
   ],
   "source": [
    "# train/test 설명력 저장\n",
    "train_score = []\n",
    "test_score = []\n",
    "\n",
    "# min_samples_split\n",
    "para_split = [n_split * 2 for n_split in range(1,21)]\n",
    "\n",
    "for v_min_samples_split in para_split :\n",
    "    gbr = GBR(random_state = 1234,\n",
    "              n_estimators = 30,\n",
    "              min_samples_leaf = 11,\n",
    "              min_samples_split = v_min_samples_split)\n",
    "    gbr.fit(df_train_x, df_train_y)\n",
    "    train_score.append(gbr.score(df_train_x, df_train_y))\n",
    "    test_score.append(gbr.score(df_test_x, df_test_y))\n",
    "    \n",
    "# 결과 저장\n",
    "df_score_split = pd.DataFrame()\n",
    "df_score_split['MinSamplesLeaf'] = para_split\n",
    "df_score_split['TrainScore'] = train_score\n",
    "df_score_split['TestScore'] = test_score\n",
    "\n",
    "# 모델 설명력 확인\n",
    "df_score_split.round(4)"
   ]
  },
  {
   "cell_type": "code",
   "execution_count": 12,
   "id": "a8113368",
   "metadata": {},
   "outputs": [
    {
     "data": {
      "image/png": "[encoded data removed]",
      "text/plain": [
       "<Figure size 432x288 with 1 Axes>"
      ]
     },
     "metadata": {
      "needs_background": "light"
     },
     "output_type": "display_data"
    }
   ],
   "source": [
    "# 모델 설명력 그래프 확인\n",
    "plt.plot(para_split, train_score, linestyle = '-', label = 'TrainScore')\n",
    "plt.plot(para_split, test_score, linestyle = '--', label = 'TestScore')\n",
    "plt.legend();plt.show()"
   ]
  },
  {
   "cell_type": "markdown",
   "id": "36d4d3cb",
   "metadata": {},
   "source": [
    "* min_samples_split 증가하면 설명력은 감소\n",
    "* 22 선택"
   ]
  },
  {
   "cell_type": "markdown",
   "id": "dc7e6802",
   "metadata": {},
   "source": [
    "##### max_depth : 최대 깊이"
   ]
  },
  {
   "cell_type": "code",
   "execution_count": 13,
   "id": "ad563ca7",
   "metadata": {},
   "outputs": [
    {
     "data": {
      "text/html": [
       "<div>\n",
       "<style scoped>\n",
       "    .dataframe tbody tr th:only-of-type {\n",
       "        vertical-align: middle;\n",
       "    }\n",
       "\n",
       "    .dataframe tbody tr th {\n",
       "        vertical-align: top;\n",
       "    }\n",
       "\n",
       "    .dataframe thead th {\n",
       "        text-align: right;\n",
       "    }\n",
       "</style>\n",
       "<table border=\"1\" class=\"dataframe\">\n",
       "  <thead>\n",
       "    <tr style=\"text-align: right;\">\n",
       "      <th></th>\n",
       "      <th>MaxDepth</th>\n",
       "      <th>TrainScore</th>\n",
       "      <th>TestScore</th>\n",
       "    </tr>\n",
       "  </thead>\n",
       "  <tbody>\n",
       "    <tr>\n",
       "      <th>0</th>\n",
       "      <td>1</td>\n",
       "      <td>0.7032</td>\n",
       "      <td>0.5916</td>\n",
       "    </tr>\n",
       "    <tr>\n",
       "      <th>1</th>\n",
       "      <td>2</td>\n",
       "      <td>0.8001</td>\n",
       "      <td>0.6001</td>\n",
       "    </tr>\n",
       "    <tr>\n",
       "      <th>2</th>\n",
       "      <td>3</td>\n",
       "      <td>0.8697</td>\n",
       "      <td>0.6196</td>\n",
       "    </tr>\n",
       "    <tr>\n",
       "      <th>3</th>\n",
       "      <td>4</td>\n",
       "      <td>0.8997</td>\n",
       "      <td>0.6288</td>\n",
       "    </tr>\n",
       "    <tr>\n",
       "      <th>4</th>\n",
       "      <td>5</td>\n",
       "      <td>0.9126</td>\n",
       "      <td>0.6127</td>\n",
       "    </tr>\n",
       "    <tr>\n",
       "      <th>5</th>\n",
       "      <td>6</td>\n",
       "      <td>0.9170</td>\n",
       "      <td>0.6145</td>\n",
       "    </tr>\n",
       "    <tr>\n",
       "      <th>6</th>\n",
       "      <td>7</td>\n",
       "      <td>0.9197</td>\n",
       "      <td>0.6127</td>\n",
       "    </tr>\n",
       "    <tr>\n",
       "      <th>7</th>\n",
       "      <td>8</td>\n",
       "      <td>0.9203</td>\n",
       "      <td>0.6147</td>\n",
       "    </tr>\n",
       "    <tr>\n",
       "      <th>8</th>\n",
       "      <td>9</td>\n",
       "      <td>0.9211</td>\n",
       "      <td>0.6089</td>\n",
       "    </tr>\n",
       "    <tr>\n",
       "      <th>9</th>\n",
       "      <td>10</td>\n",
       "      <td>0.9219</td>\n",
       "      <td>0.6155</td>\n",
       "    </tr>\n",
       "  </tbody>\n",
       "</table>\n",
       "</div>"
      ],
      "text/plain": [
       "   MaxDepth  TrainScore  TestScore\n",
       "0         1      0.7032     0.5916\n",
       "1         2      0.8001     0.6001\n",
       "2         3      0.8697     0.6196\n",
       "3         4      0.8997     0.6288\n",
       "4         5      0.9126     0.6127\n",
       "5         6      0.9170     0.6145\n",
       "6         7      0.9197     0.6127\n",
       "7         8      0.9203     0.6147\n",
       "8         9      0.9211     0.6089\n",
       "9        10      0.9219     0.6155"
      ]
     },
     "execution_count": 13,
     "metadata": {},
     "output_type": "execute_result"
    }
   ],
   "source": [
    "# train/test 설명력 저장\n",
    "train_score = []\n",
    "test_score = []\n",
    "\n",
    "# max_depth\n",
    "para_depth = [depth for depth in range(1,11)]\n",
    "\n",
    "for v_max_depth in para_depth :\n",
    "    gbr = GBR(random_state = 1234,\n",
    "              n_estimators = 30,\n",
    "              min_samples_leaf = 11,\n",
    "              min_samples_split = 22,\n",
    "              max_depth = v_max_depth)\n",
    "    gbr.fit(df_train_x, df_train_y)\n",
    "    train_score.append(gbr.score(df_train_x, df_train_y))\n",
    "    test_score.append(gbr.score(df_test_x, df_test_y))\n",
    "    \n",
    "# 결과 저장\n",
    "df_score_depth = pd.DataFrame()\n",
    "df_score_depth['MaxDepth'] = para_depth\n",
    "df_score_depth['TrainScore'] = train_score\n",
    "df_score_depth['TestScore'] = test_score\n",
    "\n",
    "# 모델 설명력 확인\n",
    "df_score_depth.round(4)"
   ]
  },
  {
   "cell_type": "code",
   "execution_count": 14,
   "id": "dd895ec9",
   "metadata": {},
   "outputs": [
    {
     "data": {
      "image/png": "[encoded data removed]",
      "text/plain": [
       "<Figure size 432x288 with 1 Axes>"
      ]
     },
     "metadata": {
      "needs_background": "light"
     },
     "output_type": "display_data"
    }
   ],
   "source": [
    "# 모델 설명력 그래프 확인\n",
    "plt.plot(para_depth, train_score, linestyle = '-', label = 'TrainScore')\n",
    "plt.plot(para_depth, test_score, linestyle = '--', label = 'TestScore')\n",
    "plt.legend();plt.show()"
   ]
  },
  {
   "cell_type": "markdown",
   "id": "43682b7b",
   "metadata": {},
   "source": [
    "* max_depth 증가하면 설명력은 증가\n",
    "* 4 선택"
   ]
  },
  {
   "cell_type": "markdown",
   "id": "b4392c26",
   "metadata": {},
   "source": [
    "##### learning_rate : 학습률"
   ]
  },
  {
   "cell_type": "code",
   "execution_count": 15,
   "id": "57cc43ad",
   "metadata": {},
   "outputs": [
    {
     "data": {
      "text/html": [
       "<div>\n",
       "<style scoped>\n",
       "    .dataframe tbody tr th:only-of-type {\n",
       "        vertical-align: middle;\n",
       "    }\n",
       "\n",
       "    .dataframe tbody tr th {\n",
       "        vertical-align: top;\n",
       "    }\n",
       "\n",
       "    .dataframe thead th {\n",
       "        text-align: right;\n",
       "    }\n",
       "</style>\n",
       "<table border=\"1\" class=\"dataframe\">\n",
       "  <thead>\n",
       "    <tr style=\"text-align: right;\">\n",
       "      <th></th>\n",
       "      <th>LearningRate</th>\n",
       "      <th>TrainScore</th>\n",
       "      <th>TestScore</th>\n",
       "    </tr>\n",
       "  </thead>\n",
       "  <tbody>\n",
       "    <tr>\n",
       "      <th>0</th>\n",
       "      <td>0.1</td>\n",
       "      <td>0.8997</td>\n",
       "      <td>0.6288</td>\n",
       "    </tr>\n",
       "    <tr>\n",
       "      <th>1</th>\n",
       "      <td>0.2</td>\n",
       "      <td>0.9405</td>\n",
       "      <td>0.5881</td>\n",
       "    </tr>\n",
       "    <tr>\n",
       "      <th>2</th>\n",
       "      <td>0.3</td>\n",
       "      <td>0.9665</td>\n",
       "      <td>0.5656</td>\n",
       "    </tr>\n",
       "    <tr>\n",
       "      <th>3</th>\n",
       "      <td>0.4</td>\n",
       "      <td>0.9809</td>\n",
       "      <td>0.5389</td>\n",
       "    </tr>\n",
       "    <tr>\n",
       "      <th>4</th>\n",
       "      <td>0.5</td>\n",
       "      <td>0.9839</td>\n",
       "      <td>0.5331</td>\n",
       "    </tr>\n",
       "    <tr>\n",
       "      <th>5</th>\n",
       "      <td>0.6</td>\n",
       "      <td>0.9899</td>\n",
       "      <td>0.5269</td>\n",
       "    </tr>\n",
       "    <tr>\n",
       "      <th>6</th>\n",
       "      <td>0.7</td>\n",
       "      <td>0.9927</td>\n",
       "      <td>0.4782</td>\n",
       "    </tr>\n",
       "    <tr>\n",
       "      <th>7</th>\n",
       "      <td>0.8</td>\n",
       "      <td>0.9937</td>\n",
       "      <td>0.4374</td>\n",
       "    </tr>\n",
       "    <tr>\n",
       "      <th>8</th>\n",
       "      <td>0.9</td>\n",
       "      <td>0.9967</td>\n",
       "      <td>0.4643</td>\n",
       "    </tr>\n",
       "  </tbody>\n",
       "</table>\n",
       "</div>"
      ],
      "text/plain": [
       "   LearningRate  TrainScore  TestScore\n",
       "0           0.1      0.8997     0.6288\n",
       "1           0.2      0.9405     0.5881\n",
       "2           0.3      0.9665     0.5656\n",
       "3           0.4      0.9809     0.5389\n",
       "4           0.5      0.9839     0.5331\n",
       "5           0.6      0.9899     0.5269\n",
       "6           0.7      0.9927     0.4782\n",
       "7           0.8      0.9937     0.4374\n",
       "8           0.9      0.9967     0.4643"
      ]
     },
     "execution_count": 15,
     "metadata": {},
     "output_type": "execute_result"
    }
   ],
   "source": [
    "# train/test 설명력 저장\n",
    "train_score = []\n",
    "test_score = []\n",
    "\n",
    "# learning_rate\n",
    "para_lr = [lr * 0.1 for lr in range(1,10)]\n",
    "\n",
    "for v_learning_rate in para_lr :\n",
    "    gbr = GBR(random_state = 1234,\n",
    "              n_estimators = 30,\n",
    "              min_samples_leaf = 11,\n",
    "              min_samples_split = 22,\n",
    "              max_depth = 4,\n",
    "              learning_rate = v_learning_rate)\n",
    "    gbr.fit(df_train_x, df_train_y)\n",
    "    train_score.append(gbr.score(df_train_x, df_train_y))\n",
    "    test_score.append(gbr.score(df_test_x, df_test_y))\n",
    "    \n",
    "# 결과 저장\n",
    "df_score_lr = pd.DataFrame()\n",
    "df_score_lr['LearningRate'] = para_lr\n",
    "df_score_lr['TrainScore'] = train_score\n",
    "df_score_lr['TestScore'] = test_score\n",
    "\n",
    "# 모델 설명력 확인\n",
    "df_score_lr.round(4)"
   ]
  },
  {
   "cell_type": "code",
   "execution_count": 16,
   "id": "e89e69cd",
   "metadata": {},
   "outputs": [
    {
     "data": {
      "image/png": "[encoded data removed]",
      "text/plain": [
       "<Figure size 432x288 with 1 Axes>"
      ]
     },
     "metadata": {
      "needs_background": "light"
     },
     "output_type": "display_data"
    }
   ],
   "source": [
    "# 모델 설명력 그래프 확인\n",
    "plt.plot(para_lr, train_score, linestyle = '-', label = 'TrainScore')\n",
    "plt.plot(para_lr, test_score, linestyle = '--', label = 'TestScore')\n",
    "plt.legend();plt.show()"
   ]
  },
  {
   "cell_type": "markdown",
   "id": "7a8ac466",
   "metadata": {},
   "source": [
    "* learning_rate 증가하면 설명력은 증가\n",
    "* 0.1, 0.2 중 하나 선택"
   ]
  },
  {
   "cell_type": "markdown",
   "id": "6aa1fbc3",
   "metadata": {},
   "source": [
    "##### GridSearchCV"
   ]
  },
  {
   "cell_type": "code",
   "execution_count": 17,
   "id": "ae8a040f",
   "metadata": {},
   "outputs": [],
   "source": [
    "estimator = GBR(random_state = 1234)\n",
    "# parameter\n",
    "para_grid = {'criterion' : ['mse','friedman_mse','mae'],\n",
    "             'max_features' : ['auto','sqrt','log2'],\n",
    "             'min_samples_leaf' : para_leaf,\n",
    "             'min_samples_split' : para_split,\n",
    "             'max_depth' : para_depth,\n",
    "             'learning_rate' : para_lr}\n",
    "# 설명력이 높은 최적 parameter 찾기\n",
    "grid_gbr = GridSearchCV(estimator,\n",
    "                        para_grid,\n",
    "                        scoring = 'r2',\n",
    "                        n_jobs = -1)\n",
    "grid_gbr.fit(df_train_x, df_train_y)\n",
    "# 결과 확인\n",
    "print('best estimator model: \\n{}'.format(grid_gbr.best_estimator_))\n",
    "print('\\nbest parameter: \\n{}'.format(grid_gbr.best_params_))\n",
    "print('\\nbest score: \\n{}'.format(grid_gbr.best_score_.round(4)))"
   ]
  },
  {
   "cell_type": "markdown",
   "id": "4b55e3a1",
   "metadata": {},
   "source": [
    "# Step 3. 최종 모델 생성"
   ]
  },
  {
   "cell_type": "markdown",
   "id": "a5702c6a",
   "metadata": {},
   "source": [
    "### 최종 모델 생성"
   ]
  },
  {
   "cell_type": "code",
   "execution_count": 18,
   "id": "bb5e3fe0",
   "metadata": {},
   "outputs": [
    {
     "name": "stdout",
     "output_type": "stream",
     "text": [
      "Score in train set : 0.8997\n",
      "Score in test set : 0.6288\n"
     ]
    }
   ],
   "source": [
    "# 최종 모델\n",
    "gbr_final = GBR(random_state = 1234,\n",
    "                n_estimators = 30,\n",
    "                min_samples_leaf = 11,\n",
    "                min_samples_split = 22,\n",
    "                max_depth = 4,\n",
    "                learning_rate = 0.1)\n",
    "gbr_final.fit(df_train_x, df_train_y)\n",
    "# train/test 데이터 설명력\n",
    "print('Score in train set :', gbr_final.score(df_train_x, df_train_y).round(4))\n",
    "print('Score in test set :', gbr_final.score(df_test_x, df_test_y).round(4))"
   ]
  },
  {
   "cell_type": "markdown",
   "id": "9d288930",
   "metadata": {},
   "source": [
    "# Step 4. 결론 도출"
   ]
  },
  {
   "cell_type": "markdown",
   "id": "fe2a2ddd",
   "metadata": {},
   "source": [
    "### 설명변수 중요도"
   ]
  },
  {
   "cell_type": "code",
   "execution_count": 19,
   "id": "bf0a79b0",
   "metadata": {},
   "outputs": [
    {
     "data": {
      "text/html": [
       "<div>\n",
       "<style scoped>\n",
       "    .dataframe tbody tr th:only-of-type {\n",
       "        vertical-align: middle;\n",
       "    }\n",
       "\n",
       "    .dataframe tbody tr th {\n",
       "        vertical-align: top;\n",
       "    }\n",
       "\n",
       "    .dataframe thead th {\n",
       "        text-align: right;\n",
       "    }\n",
       "</style>\n",
       "<table border=\"1\" class=\"dataframe\">\n",
       "  <thead>\n",
       "    <tr style=\"text-align: right;\">\n",
       "      <th></th>\n",
       "      <th>Feature</th>\n",
       "      <th>Importance</th>\n",
       "    </tr>\n",
       "  </thead>\n",
       "  <tbody>\n",
       "    <tr>\n",
       "      <th>5</th>\n",
       "      <td>ABDOMEN</td>\n",
       "      <td>0.775</td>\n",
       "    </tr>\n",
       "    <tr>\n",
       "      <th>2</th>\n",
       "      <td>HEIGHT</td>\n",
       "      <td>0.038</td>\n",
       "    </tr>\n",
       "    <tr>\n",
       "      <th>12</th>\n",
       "      <td>WRIST</td>\n",
       "      <td>0.025</td>\n",
       "    </tr>\n",
       "    <tr>\n",
       "      <th>3</th>\n",
       "      <td>NECK</td>\n",
       "      <td>0.023</td>\n",
       "    </tr>\n",
       "    <tr>\n",
       "      <th>6</th>\n",
       "      <td>HIP</td>\n",
       "      <td>0.021</td>\n",
       "    </tr>\n",
       "    <tr>\n",
       "      <th>4</th>\n",
       "      <td>CHEST</td>\n",
       "      <td>0.021</td>\n",
       "    </tr>\n",
       "    <tr>\n",
       "      <th>0</th>\n",
       "      <td>AGE</td>\n",
       "      <td>0.021</td>\n",
       "    </tr>\n",
       "    <tr>\n",
       "      <th>7</th>\n",
       "      <td>THIGH</td>\n",
       "      <td>0.020</td>\n",
       "    </tr>\n",
       "    <tr>\n",
       "      <th>8</th>\n",
       "      <td>KNEE</td>\n",
       "      <td>0.017</td>\n",
       "    </tr>\n",
       "    <tr>\n",
       "      <th>10</th>\n",
       "      <td>BICEPS</td>\n",
       "      <td>0.014</td>\n",
       "    </tr>\n",
       "    <tr>\n",
       "      <th>1</th>\n",
       "      <td>WEIGHT</td>\n",
       "      <td>0.012</td>\n",
       "    </tr>\n",
       "    <tr>\n",
       "      <th>9</th>\n",
       "      <td>ANKLE</td>\n",
       "      <td>0.007</td>\n",
       "    </tr>\n",
       "    <tr>\n",
       "      <th>11</th>\n",
       "      <td>FOREARM</td>\n",
       "      <td>0.005</td>\n",
       "    </tr>\n",
       "  </tbody>\n",
       "</table>\n",
       "</div>"
      ],
      "text/plain": [
       "    Feature  Importance\n",
       "5   ABDOMEN       0.775\n",
       "2    HEIGHT       0.038\n",
       "12    WRIST       0.025\n",
       "3      NECK       0.023\n",
       "6       HIP       0.021\n",
       "4     CHEST       0.021\n",
       "0       AGE       0.021\n",
       "7     THIGH       0.020\n",
       "8      KNEE       0.017\n",
       "10   BICEPS       0.014\n",
       "1    WEIGHT       0.012\n",
       "9     ANKLE       0.007\n",
       "11  FOREARM       0.005"
      ]
     },
     "execution_count": 19,
     "metadata": {},
     "output_type": "execute_result"
    }
   ],
   "source": [
    "# 변수명 저장\n",
    "v_feature_name = df_train_x.columns\n",
    "# 설명변수 중요도 확인 및 테이블 형태 저장\n",
    "df_importance = pd.DataFrame()\n",
    "df_importance['Feature'] = v_feature_name\n",
    "df_importance['Importance'] = gbr_final.feature_importances_\n",
    "# 중요도별 정렬\n",
    "df_importance.sort_values('Importance', ascending = False, inplace = True)\n",
    "df_importance.round(3)"
   ]
  },
  {
   "cell_type": "markdown",
   "id": "1f9e261e",
   "metadata": {},
   "source": [
    "### 설명변수 중요도 그래프"
   ]
  },
  {
   "cell_type": "code",
   "execution_count": 20,
   "id": "02935a68",
   "metadata": {},
   "outputs": [
    {
     "data": {
      "text/plain": [
       "Text(0, 0.5, '변수')"
      ]
     },
     "execution_count": 20,
     "metadata": {},
     "output_type": "execute_result"
    },
    {
     "data": {
      "image/png": "[encoded data removed]",
      "text/plain": [
       "<Figure size 432x288 with 1 Axes>"
      ]
     },
     "metadata": {
      "needs_background": "light"
     },
     "output_type": "display_data"
    }
   ],
   "source": [
    "df_importance.sort_values('Importance', ascending = True, inplace = True)\n",
    "coordinates = range(len(df_importance))\n",
    "plt.barh(y = coordinates, width = df_importance['Importance'])\n",
    "plt.yticks(coordinates, df_importance['Feature'])\n",
    "plt.xlabel('변수 중요도')\n",
    "plt.ylabel('변수')"
   ]
  },
  {
   "cell_type": "markdown",
   "id": "9fc48318",
   "metadata": {},
   "source": [
    "* ABDOMEN, HEIGHT, WRIST 순으로 영향이 크다고 볼 수 있다."
   ]
  }
 ],
 "metadata": {
  "kernelspec": {
   "display_name": "Python 3 (ipykernel)",
   "language": "python",
   "name": "python3"
  },
  "language_info": {
   "codemirror_mode": {
    "name": "ipython",
    "version": 3
   },
   "file_extension": ".py",
   "mimetype": "text/x-python",
   "name": "python",
   "nbconvert_exporter": "python",
   "pygments_lexer": "ipython3",
   "version": "3.9.12"
  }
 },
 "nbformat": 4,
 "nbformat_minor": 5
}
