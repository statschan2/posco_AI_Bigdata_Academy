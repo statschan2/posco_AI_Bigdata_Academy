{
 "cells": [
  {
   "cell_type": "markdown",
   "id": "d0cbffbb",
   "metadata": {},
   "source": [
    "# p.212 연습\n",
    "감독자의 직무능력평가 데이터를 활용하여 차원축소 및 주성분 탐색을 위해 PCA 분석을 실시하고 결과를 해석하시오.\n",
    "* 목표변수 : EVAL(연속형)"
   ]
  },
  {
   "cell_type": "markdown",
   "id": "4d3e84fb",
   "metadata": {},
   "source": [
    "# Step 0. 패키지 불러오기"
   ]
  },
  {
   "cell_type": "code",
   "execution_count": 27,
   "id": "9023f7c8",
   "metadata": {},
   "outputs": [],
   "source": [
    "# 데이터 구성\n",
    "import pandas as pd\n",
    "import numpy as np\n",
    "# 데이터 시각화\n",
    "import matplotlib\n",
    "import matplotlib.pyplot as plt\n",
    "import seaborn as sns\n",
    "# 한글, 음수 표시\n",
    "matplotlib.rc('font', family = 'Malgun Gothic')\n",
    "matplotlib.rc('axes', unicode_minus = False)\n",
    "# Scaler\n",
    "from sklearn.preprocessing import StandardScaler\n",
    "# PCA\n",
    "from sklearn.decomposition import PCA\n",
    "# Regression\n",
    "import statsmodels.api as sm\n",
    "import statsmodels.formula.api as smf\n",
    "# 경고 메시지\n",
    "import warnings\n",
    "warnings.filterwarnings('ignore')"
   ]
  },
  {
   "cell_type": "markdown",
   "id": "c1d2de0b",
   "metadata": {},
   "source": [
    "# Step 1. 데이터 구성하기"
   ]
  },
  {
   "cell_type": "markdown",
   "id": "6492d7d2",
   "metadata": {},
   "source": [
    "### 데이터 불러오기"
   ]
  },
  {
   "cell_type": "code",
   "execution_count": 2,
   "id": "1c79f939",
   "metadata": {},
   "outputs": [
    {
     "data": {
      "text/html": [
       "<div>\n",
       "<style scoped>\n",
       "    .dataframe tbody tr th:only-of-type {\n",
       "        vertical-align: middle;\n",
       "    }\n",
       "\n",
       "    .dataframe tbody tr th {\n",
       "        vertical-align: top;\n",
       "    }\n",
       "\n",
       "    .dataframe thead th {\n",
       "        text-align: right;\n",
       "    }\n",
       "</style>\n",
       "<table border=\"1\" class=\"dataframe\">\n",
       "  <thead>\n",
       "    <tr style=\"text-align: right;\">\n",
       "      <th></th>\n",
       "      <th>EVAL</th>\n",
       "      <th>DISSATIS</th>\n",
       "      <th>PRIVILEGE</th>\n",
       "      <th>CHANCE</th>\n",
       "      <th>ADVANCE</th>\n",
       "      <th>CRITISM</th>\n",
       "      <th>PROMOTION</th>\n",
       "    </tr>\n",
       "  </thead>\n",
       "  <tbody>\n",
       "    <tr>\n",
       "      <th>0</th>\n",
       "      <td>43</td>\n",
       "      <td>51</td>\n",
       "      <td>30</td>\n",
       "      <td>39</td>\n",
       "      <td>61</td>\n",
       "      <td>92</td>\n",
       "      <td>45</td>\n",
       "    </tr>\n",
       "    <tr>\n",
       "      <th>1</th>\n",
       "      <td>63</td>\n",
       "      <td>64</td>\n",
       "      <td>51</td>\n",
       "      <td>54</td>\n",
       "      <td>63</td>\n",
       "      <td>73</td>\n",
       "      <td>47</td>\n",
       "    </tr>\n",
       "    <tr>\n",
       "      <th>2</th>\n",
       "      <td>71</td>\n",
       "      <td>70</td>\n",
       "      <td>68</td>\n",
       "      <td>69</td>\n",
       "      <td>76</td>\n",
       "      <td>86</td>\n",
       "      <td>48</td>\n",
       "    </tr>\n",
       "    <tr>\n",
       "      <th>3</th>\n",
       "      <td>61</td>\n",
       "      <td>63</td>\n",
       "      <td>45</td>\n",
       "      <td>47</td>\n",
       "      <td>54</td>\n",
       "      <td>84</td>\n",
       "      <td>35</td>\n",
       "    </tr>\n",
       "    <tr>\n",
       "      <th>4</th>\n",
       "      <td>81</td>\n",
       "      <td>78</td>\n",
       "      <td>56</td>\n",
       "      <td>66</td>\n",
       "      <td>71</td>\n",
       "      <td>83</td>\n",
       "      <td>47</td>\n",
       "    </tr>\n",
       "  </tbody>\n",
       "</table>\n",
       "</div>"
      ],
      "text/plain": [
       "   EVAL  DISSATIS  PRIVILEGE  CHANCE  ADVANCE  CRITISM  PROMOTION\n",
       "0    43        51         30      39       61       92         45\n",
       "1    63        64         51      54       63       73         47\n",
       "2    71        70         68      69       76       86         48\n",
       "3    61        63         45      47       54       84         35\n",
       "4    81        78         56      66       71       83         47"
      ]
     },
     "execution_count": 2,
     "metadata": {},
     "output_type": "execute_result"
    }
   ],
   "source": [
    "df_raw = pd.read_csv('D:/Study/PoscoAcademy/2_bigdata/raw_data/직무능력평가.csv')\n",
    "df_raw.head()"
   ]
  },
  {
   "cell_type": "markdown",
   "id": "2f4528ae",
   "metadata": {},
   "source": [
    "### 데이터 분리"
   ]
  },
  {
   "cell_type": "code",
   "execution_count": 3,
   "id": "0cceea72",
   "metadata": {},
   "outputs": [],
   "source": [
    "df_raw_x = df_raw.drop('EVAL', axis = 1)\n",
    "df_raw_y = df_raw['EVAL']"
   ]
  },
  {
   "cell_type": "markdown",
   "id": "23658cff",
   "metadata": {},
   "source": [
    "# Step 2. 선형관계 확인 : 산점도, 상관계수"
   ]
  },
  {
   "cell_type": "markdown",
   "id": "fba6c715",
   "metadata": {},
   "source": [
    "### 산점도 행렬"
   ]
  },
  {
   "cell_type": "code",
   "execution_count": 4,
   "id": "0e6af87a",
   "metadata": {},
   "outputs": [
    {
     "data": {
      "text/plain": [
       "<seaborn.axisgrid.PairGrid at 0x2250046fca0>"
      ]
     },
     "execution_count": 4,
     "metadata": {},
     "output_type": "execute_result"
    },
    {
     "data": {
      "image/png": "[encoded data removed]",
      "text/plain": [
       "<Figure size 1080x1080 with 42 Axes>"
      ]
     },
     "metadata": {
      "needs_background": "light"
     },
     "output_type": "display_data"
    }
   ],
   "source": [
    "sns.pairplot(df_raw_x)"
   ]
  },
  {
   "cell_type": "markdown",
   "id": "68d5ea27",
   "metadata": {},
   "source": [
    "### 상관계수"
   ]
  },
  {
   "cell_type": "code",
   "execution_count": 6,
   "id": "e5ee0495",
   "metadata": {},
   "outputs": [
    {
     "data": {
      "text/html": [
       "<div>\n",
       "<style scoped>\n",
       "    .dataframe tbody tr th:only-of-type {\n",
       "        vertical-align: middle;\n",
       "    }\n",
       "\n",
       "    .dataframe tbody tr th {\n",
       "        vertical-align: top;\n",
       "    }\n",
       "\n",
       "    .dataframe thead th {\n",
       "        text-align: right;\n",
       "    }\n",
       "</style>\n",
       "<table border=\"1\" class=\"dataframe\">\n",
       "  <thead>\n",
       "    <tr style=\"text-align: right;\">\n",
       "      <th></th>\n",
       "      <th>DISSATIS</th>\n",
       "      <th>PRIVILEGE</th>\n",
       "      <th>CHANCE</th>\n",
       "      <th>ADVANCE</th>\n",
       "      <th>CRITISM</th>\n",
       "      <th>PROMOTION</th>\n",
       "    </tr>\n",
       "  </thead>\n",
       "  <tbody>\n",
       "    <tr>\n",
       "      <th>DISSATIS</th>\n",
       "      <td>1.0000</td>\n",
       "      <td>0.5583</td>\n",
       "      <td>0.5967</td>\n",
       "      <td>0.6692</td>\n",
       "      <td>0.1877</td>\n",
       "      <td>0.2246</td>\n",
       "    </tr>\n",
       "    <tr>\n",
       "      <th>PRIVILEGE</th>\n",
       "      <td>0.5583</td>\n",
       "      <td>1.0000</td>\n",
       "      <td>0.4933</td>\n",
       "      <td>0.4455</td>\n",
       "      <td>0.1472</td>\n",
       "      <td>0.3433</td>\n",
       "    </tr>\n",
       "    <tr>\n",
       "      <th>CHANCE</th>\n",
       "      <td>0.5967</td>\n",
       "      <td>0.4933</td>\n",
       "      <td>1.0000</td>\n",
       "      <td>0.6403</td>\n",
       "      <td>0.1160</td>\n",
       "      <td>0.5316</td>\n",
       "    </tr>\n",
       "    <tr>\n",
       "      <th>ADVANCE</th>\n",
       "      <td>0.6692</td>\n",
       "      <td>0.4455</td>\n",
       "      <td>0.6403</td>\n",
       "      <td>1.0000</td>\n",
       "      <td>0.3769</td>\n",
       "      <td>0.5742</td>\n",
       "    </tr>\n",
       "    <tr>\n",
       "      <th>CRITISM</th>\n",
       "      <td>0.1877</td>\n",
       "      <td>0.1472</td>\n",
       "      <td>0.1160</td>\n",
       "      <td>0.3769</td>\n",
       "      <td>1.0000</td>\n",
       "      <td>0.2833</td>\n",
       "    </tr>\n",
       "    <tr>\n",
       "      <th>PROMOTION</th>\n",
       "      <td>0.2246</td>\n",
       "      <td>0.3433</td>\n",
       "      <td>0.5316</td>\n",
       "      <td>0.5742</td>\n",
       "      <td>0.2833</td>\n",
       "      <td>1.0000</td>\n",
       "    </tr>\n",
       "  </tbody>\n",
       "</table>\n",
       "</div>"
      ],
      "text/plain": [
       "           DISSATIS  PRIVILEGE  CHANCE  ADVANCE  CRITISM  PROMOTION\n",
       "DISSATIS     1.0000     0.5583  0.5967   0.6692   0.1877     0.2246\n",
       "PRIVILEGE    0.5583     1.0000  0.4933   0.4455   0.1472     0.3433\n",
       "CHANCE       0.5967     0.4933  1.0000   0.6403   0.1160     0.5316\n",
       "ADVANCE      0.6692     0.4455  0.6403   1.0000   0.3769     0.5742\n",
       "CRITISM      0.1877     0.1472  0.1160   0.3769   1.0000     0.2833\n",
       "PROMOTION    0.2246     0.3433  0.5316   0.5742   0.2833     1.0000"
      ]
     },
     "execution_count": 6,
     "metadata": {},
     "output_type": "execute_result"
    }
   ],
   "source": [
    "df_raw_x.corr().round(4)"
   ]
  },
  {
   "cell_type": "markdown",
   "id": "6afa1059",
   "metadata": {},
   "source": [
    "# Step 3. 데이터 확인 및 Scaler"
   ]
  },
  {
   "cell_type": "markdown",
   "id": "df43a36e",
   "metadata": {},
   "source": [
    "### 요약 통계량 확인"
   ]
  },
  {
   "cell_type": "code",
   "execution_count": 7,
   "id": "f4811428",
   "metadata": {},
   "outputs": [
    {
     "data": {
      "text/html": [
       "<div>\n",
       "<style scoped>\n",
       "    .dataframe tbody tr th:only-of-type {\n",
       "        vertical-align: middle;\n",
       "    }\n",
       "\n",
       "    .dataframe tbody tr th {\n",
       "        vertical-align: top;\n",
       "    }\n",
       "\n",
       "    .dataframe thead th {\n",
       "        text-align: right;\n",
       "    }\n",
       "</style>\n",
       "<table border=\"1\" class=\"dataframe\">\n",
       "  <thead>\n",
       "    <tr style=\"text-align: right;\">\n",
       "      <th></th>\n",
       "      <th>DISSATIS</th>\n",
       "      <th>PRIVILEGE</th>\n",
       "      <th>CHANCE</th>\n",
       "      <th>ADVANCE</th>\n",
       "      <th>CRITISM</th>\n",
       "      <th>PROMOTION</th>\n",
       "    </tr>\n",
       "  </thead>\n",
       "  <tbody>\n",
       "    <tr>\n",
       "      <th>count</th>\n",
       "      <td>30.0000</td>\n",
       "      <td>30.0000</td>\n",
       "      <td>30.0000</td>\n",
       "      <td>30.0000</td>\n",
       "      <td>30.0000</td>\n",
       "      <td>30.0000</td>\n",
       "    </tr>\n",
       "    <tr>\n",
       "      <th>mean</th>\n",
       "      <td>66.6000</td>\n",
       "      <td>53.1333</td>\n",
       "      <td>56.3667</td>\n",
       "      <td>64.6333</td>\n",
       "      <td>74.7667</td>\n",
       "      <td>42.9333</td>\n",
       "    </tr>\n",
       "    <tr>\n",
       "      <th>std</th>\n",
       "      <td>13.3148</td>\n",
       "      <td>12.2354</td>\n",
       "      <td>11.7370</td>\n",
       "      <td>10.3972</td>\n",
       "      <td>9.8949</td>\n",
       "      <td>10.2887</td>\n",
       "    </tr>\n",
       "    <tr>\n",
       "      <th>min</th>\n",
       "      <td>37.0000</td>\n",
       "      <td>30.0000</td>\n",
       "      <td>34.0000</td>\n",
       "      <td>43.0000</td>\n",
       "      <td>49.0000</td>\n",
       "      <td>25.0000</td>\n",
       "    </tr>\n",
       "    <tr>\n",
       "      <th>25%</th>\n",
       "      <td>58.5000</td>\n",
       "      <td>45.0000</td>\n",
       "      <td>47.0000</td>\n",
       "      <td>58.2500</td>\n",
       "      <td>69.2500</td>\n",
       "      <td>35.0000</td>\n",
       "    </tr>\n",
       "    <tr>\n",
       "      <th>50%</th>\n",
       "      <td>65.0000</td>\n",
       "      <td>51.5000</td>\n",
       "      <td>56.5000</td>\n",
       "      <td>63.5000</td>\n",
       "      <td>77.5000</td>\n",
       "      <td>41.0000</td>\n",
       "    </tr>\n",
       "    <tr>\n",
       "      <th>75%</th>\n",
       "      <td>77.0000</td>\n",
       "      <td>62.5000</td>\n",
       "      <td>66.7500</td>\n",
       "      <td>71.0000</td>\n",
       "      <td>80.0000</td>\n",
       "      <td>47.7500</td>\n",
       "    </tr>\n",
       "    <tr>\n",
       "      <th>max</th>\n",
       "      <td>90.0000</td>\n",
       "      <td>83.0000</td>\n",
       "      <td>75.0000</td>\n",
       "      <td>88.0000</td>\n",
       "      <td>92.0000</td>\n",
       "      <td>72.0000</td>\n",
       "    </tr>\n",
       "  </tbody>\n",
       "</table>\n",
       "</div>"
      ],
      "text/plain": [
       "       DISSATIS  PRIVILEGE   CHANCE  ADVANCE  CRITISM  PROMOTION\n",
       "count   30.0000    30.0000  30.0000  30.0000  30.0000    30.0000\n",
       "mean    66.6000    53.1333  56.3667  64.6333  74.7667    42.9333\n",
       "std     13.3148    12.2354  11.7370  10.3972   9.8949    10.2887\n",
       "min     37.0000    30.0000  34.0000  43.0000  49.0000    25.0000\n",
       "25%     58.5000    45.0000  47.0000  58.2500  69.2500    35.0000\n",
       "50%     65.0000    51.5000  56.5000  63.5000  77.5000    41.0000\n",
       "75%     77.0000    62.5000  66.7500  71.0000  80.0000    47.7500\n",
       "max     90.0000    83.0000  75.0000  88.0000  92.0000    72.0000"
      ]
     },
     "execution_count": 7,
     "metadata": {},
     "output_type": "execute_result"
    }
   ],
   "source": [
    "df_raw_x.describe().round(4)"
   ]
  },
  {
   "cell_type": "markdown",
   "id": "8f24fabe",
   "metadata": {},
   "source": [
    "### Scaler"
   ]
  },
  {
   "cell_type": "code",
   "execution_count": 10,
   "id": "0e009d3d",
   "metadata": {},
   "outputs": [
    {
     "name": "stdout",
     "output_type": "stream",
     "text": [
      "Scaled Data : \n",
      " [[-1.1917 -1.923  -1.5049 -0.3554  1.7714  0.2043]\n",
      " [-0.1986 -0.1773 -0.2051 -0.1598 -0.1816  0.402 ]\n",
      " [ 0.2597  1.2358  1.0948  1.1119  1.1547  0.5009]\n",
      " [-0.275  -0.6761 -0.8117 -1.0402  0.9491 -0.7843]\n",
      " [ 0.8708  0.2383  0.8348  0.6228  0.8463  0.402 ]] \n",
      "\n",
      "Shape : \n",
      " (30, 6)\n"
     ]
    }
   ],
   "source": [
    "# 변수명 저장\n",
    "x_cols = df_raw_x.columns\n",
    "# Scaler\n",
    "scaler = StandardScaler()\n",
    "nd_scaled = scaler.fit_transform(df_raw_x)\n",
    "# Scaler 확인\n",
    "print('Scaled Data : \\n {} \\n'.format(nd_scaled[:5].round(4)))\n",
    "print('Shape : \\n {}'.format(nd_scaled.shape))"
   ]
  },
  {
   "cell_type": "code",
   "execution_count": 11,
   "id": "8b1f3bf2",
   "metadata": {},
   "outputs": [
    {
     "data": {
      "text/html": [
       "<div>\n",
       "<style scoped>\n",
       "    .dataframe tbody tr th:only-of-type {\n",
       "        vertical-align: middle;\n",
       "    }\n",
       "\n",
       "    .dataframe tbody tr th {\n",
       "        vertical-align: top;\n",
       "    }\n",
       "\n",
       "    .dataframe thead th {\n",
       "        text-align: right;\n",
       "    }\n",
       "</style>\n",
       "<table border=\"1\" class=\"dataframe\">\n",
       "  <thead>\n",
       "    <tr style=\"text-align: right;\">\n",
       "      <th></th>\n",
       "      <th>DISSATIS</th>\n",
       "      <th>PRIVILEGE</th>\n",
       "      <th>CHANCE</th>\n",
       "      <th>ADVANCE</th>\n",
       "      <th>CRITISM</th>\n",
       "      <th>PROMOTION</th>\n",
       "    </tr>\n",
       "  </thead>\n",
       "  <tbody>\n",
       "    <tr>\n",
       "      <th>count</th>\n",
       "      <td>30.0000</td>\n",
       "      <td>30.0000</td>\n",
       "      <td>30.0000</td>\n",
       "      <td>30.0000</td>\n",
       "      <td>30.0000</td>\n",
       "      <td>30.0000</td>\n",
       "    </tr>\n",
       "    <tr>\n",
       "      <th>mean</th>\n",
       "      <td>0.0000</td>\n",
       "      <td>-0.0000</td>\n",
       "      <td>-0.0000</td>\n",
       "      <td>-0.0000</td>\n",
       "      <td>0.0000</td>\n",
       "      <td>0.0000</td>\n",
       "    </tr>\n",
       "    <tr>\n",
       "      <th>std</th>\n",
       "      <td>1.0171</td>\n",
       "      <td>1.0171</td>\n",
       "      <td>1.0171</td>\n",
       "      <td>1.0171</td>\n",
       "      <td>1.0171</td>\n",
       "      <td>1.0171</td>\n",
       "    </tr>\n",
       "    <tr>\n",
       "      <th>min</th>\n",
       "      <td>-2.2611</td>\n",
       "      <td>-1.9230</td>\n",
       "      <td>-1.9382</td>\n",
       "      <td>-2.1163</td>\n",
       "      <td>-2.6485</td>\n",
       "      <td>-1.7728</td>\n",
       "    </tr>\n",
       "    <tr>\n",
       "      <th>25%</th>\n",
       "      <td>-0.6187</td>\n",
       "      <td>-0.6761</td>\n",
       "      <td>-0.8117</td>\n",
       "      <td>-0.6244</td>\n",
       "      <td>-0.5671</td>\n",
       "      <td>-0.7843</td>\n",
       "    </tr>\n",
       "    <tr>\n",
       "      <th>50%</th>\n",
       "      <td>-0.1222</td>\n",
       "      <td>-0.1358</td>\n",
       "      <td>0.0116</td>\n",
       "      <td>-0.1109</td>\n",
       "      <td>0.2810</td>\n",
       "      <td>-0.1911</td>\n",
       "    </tr>\n",
       "    <tr>\n",
       "      <th>75%</th>\n",
       "      <td>0.7944</td>\n",
       "      <td>0.7786</td>\n",
       "      <td>0.8998</td>\n",
       "      <td>0.6228</td>\n",
       "      <td>0.5379</td>\n",
       "      <td>0.4762</td>\n",
       "    </tr>\n",
       "    <tr>\n",
       "      <th>max</th>\n",
       "      <td>1.7875</td>\n",
       "      <td>2.4827</td>\n",
       "      <td>1.6147</td>\n",
       "      <td>2.2858</td>\n",
       "      <td>1.7714</td>\n",
       "      <td>2.8734</td>\n",
       "    </tr>\n",
       "  </tbody>\n",
       "</table>\n",
       "</div>"
      ],
      "text/plain": [
       "       DISSATIS  PRIVILEGE   CHANCE  ADVANCE  CRITISM  PROMOTION\n",
       "count   30.0000    30.0000  30.0000  30.0000  30.0000    30.0000\n",
       "mean     0.0000    -0.0000  -0.0000  -0.0000   0.0000     0.0000\n",
       "std      1.0171     1.0171   1.0171   1.0171   1.0171     1.0171\n",
       "min     -2.2611    -1.9230  -1.9382  -2.1163  -2.6485    -1.7728\n",
       "25%     -0.6187    -0.6761  -0.8117  -0.6244  -0.5671    -0.7843\n",
       "50%     -0.1222    -0.1358   0.0116  -0.1109   0.2810    -0.1911\n",
       "75%      0.7944     0.7786   0.8998   0.6228   0.5379     0.4762\n",
       "max      1.7875     2.4827   1.6147   2.2858   1.7714     2.8734"
      ]
     },
     "execution_count": 11,
     "metadata": {},
     "output_type": "execute_result"
    }
   ],
   "source": [
    "# DataFrame 저장\n",
    "df_scaled = pd.DataFrame(nd_scaled, columns = x_cols)\n",
    "df_scaled.head().round(4)\n",
    "# Scaler 변환 데이터 요약 통계량\n",
    "df_scaled.describe().round(4)"
   ]
  },
  {
   "cell_type": "markdown",
   "id": "4fc87129",
   "metadata": {},
   "source": [
    "# Step 4. PCA"
   ]
  },
  {
   "cell_type": "markdown",
   "id": "1c618cf5",
   "metadata": {},
   "source": [
    "### PCA"
   ]
  },
  {
   "cell_type": "code",
   "execution_count": 13,
   "id": "08dccdee",
   "metadata": {},
   "outputs": [
    {
     "name": "stdout",
     "output_type": "stream",
     "text": [
      "PCA Data : \n",
      " [[ 1.67606983 -2.73856419 -0.12843595 -0.50321261  0.24330658  0.22576117]\n",
      " [ 0.21834397 -0.12615302  0.43115839  0.08726221  0.19566103  0.1941439 ]\n",
      " [-2.10515127 -0.51500683 -0.27683087  0.49131136 -0.44691698 -0.63174369]\n",
      " [ 1.35994032 -0.86064574 -0.91799066  0.03173793 -0.40137177  0.44095403]\n",
      " [-1.5120347  -0.35277019 -0.32684445 -0.32877858 -0.32709718  0.21246099]]\n",
      "\n",
      "Shape : \n",
      " (30, 6)\n"
     ]
    }
   ],
   "source": [
    "# 주성분 1 ~ 주성분 6 생성 및 저장\n",
    "pca = PCA(n_components = 6)\n",
    "nd_pca = pca.fit_transform(df_scaled)\n",
    "# 생성된 주성분 점수 확인\n",
    "print('PCA Data : \\n {}\\n'.format(nd_pca[:5]))\n",
    "# 생성된 주성분 점수 Row, Column 개수 확인\n",
    "print('Shape : \\n {}'.format(nd_pca.shape))"
   ]
  },
  {
   "cell_type": "markdown",
   "id": "0e6b7855",
   "metadata": {},
   "source": [
    "### PCA 결과 : 주성분 점수"
   ]
  },
  {
   "cell_type": "code",
   "execution_count": 14,
   "id": "fdf6132c",
   "metadata": {},
   "outputs": [
    {
     "data": {
      "text/html": [
       "<div>\n",
       "<style scoped>\n",
       "    .dataframe tbody tr th:only-of-type {\n",
       "        vertical-align: middle;\n",
       "    }\n",
       "\n",
       "    .dataframe tbody tr th {\n",
       "        vertical-align: top;\n",
       "    }\n",
       "\n",
       "    .dataframe thead th {\n",
       "        text-align: right;\n",
       "    }\n",
       "</style>\n",
       "<table border=\"1\" class=\"dataframe\">\n",
       "  <thead>\n",
       "    <tr style=\"text-align: right;\">\n",
       "      <th></th>\n",
       "      <th>DISSATIS</th>\n",
       "      <th>PRIVILEGE</th>\n",
       "      <th>CHANCE</th>\n",
       "      <th>ADVANCE</th>\n",
       "      <th>CRITISM</th>\n",
       "      <th>PROMOTION</th>\n",
       "      <th>Prin1</th>\n",
       "      <th>Prin2</th>\n",
       "      <th>Prin3</th>\n",
       "      <th>Prin4</th>\n",
       "      <th>Prin5</th>\n",
       "      <th>Prin6</th>\n",
       "    </tr>\n",
       "  </thead>\n",
       "  <tbody>\n",
       "    <tr>\n",
       "      <th>0</th>\n",
       "      <td>-1.191662</td>\n",
       "      <td>-1.923006</td>\n",
       "      <td>-1.504945</td>\n",
       "      <td>-0.355426</td>\n",
       "      <td>1.771410</td>\n",
       "      <td>0.204301</td>\n",
       "      <td>1.676070</td>\n",
       "      <td>-2.738564</td>\n",
       "      <td>-0.128436</td>\n",
       "      <td>-0.503213</td>\n",
       "      <td>0.243307</td>\n",
       "      <td>0.225761</td>\n",
       "    </tr>\n",
       "    <tr>\n",
       "      <th>1</th>\n",
       "      <td>-0.198610</td>\n",
       "      <td>-0.177338</td>\n",
       "      <td>-0.205088</td>\n",
       "      <td>-0.159779</td>\n",
       "      <td>-0.181595</td>\n",
       "      <td>0.402012</td>\n",
       "      <td>0.218344</td>\n",
       "      <td>-0.126153</td>\n",
       "      <td>0.431158</td>\n",
       "      <td>0.087262</td>\n",
       "      <td>0.195661</td>\n",
       "      <td>0.194144</td>\n",
       "    </tr>\n",
       "    <tr>\n",
       "      <th>2</th>\n",
       "      <td>0.259721</td>\n",
       "      <td>1.235822</td>\n",
       "      <td>1.094768</td>\n",
       "      <td>1.111930</td>\n",
       "      <td>1.154672</td>\n",
       "      <td>0.500868</td>\n",
       "      <td>-2.105151</td>\n",
       "      <td>-0.515007</td>\n",
       "      <td>-0.276831</td>\n",
       "      <td>0.491311</td>\n",
       "      <td>-0.446917</td>\n",
       "      <td>-0.631744</td>\n",
       "    </tr>\n",
       "    <tr>\n",
       "      <th>3</th>\n",
       "      <td>-0.274999</td>\n",
       "      <td>-0.676100</td>\n",
       "      <td>-0.811688</td>\n",
       "      <td>-1.040192</td>\n",
       "      <td>0.949092</td>\n",
       "      <td>-0.784254</td>\n",
       "      <td>1.359940</td>\n",
       "      <td>-0.860646</td>\n",
       "      <td>-0.917991</td>\n",
       "      <td>0.031738</td>\n",
       "      <td>-0.401372</td>\n",
       "      <td>0.440954</td>\n",
       "    </tr>\n",
       "    <tr>\n",
       "      <th>4</th>\n",
       "      <td>0.870830</td>\n",
       "      <td>0.238298</td>\n",
       "      <td>0.834797</td>\n",
       "      <td>0.622811</td>\n",
       "      <td>0.846302</td>\n",
       "      <td>0.402012</td>\n",
       "      <td>-1.512035</td>\n",
       "      <td>-0.352770</td>\n",
       "      <td>-0.326844</td>\n",
       "      <td>-0.328779</td>\n",
       "      <td>-0.327097</td>\n",
       "      <td>0.212461</td>\n",
       "    </tr>\n",
       "  </tbody>\n",
       "</table>\n",
       "</div>"
      ],
      "text/plain": [
       "   DISSATIS  PRIVILEGE    CHANCE   ADVANCE   CRITISM  PROMOTION     Prin1  \\\n",
       "0 -1.191662  -1.923006 -1.504945 -0.355426  1.771410   0.204301  1.676070   \n",
       "1 -0.198610  -0.177338 -0.205088 -0.159779 -0.181595   0.402012  0.218344   \n",
       "2  0.259721   1.235822  1.094768  1.111930  1.154672   0.500868 -2.105151   \n",
       "3 -0.274999  -0.676100 -0.811688 -1.040192  0.949092  -0.784254  1.359940   \n",
       "4  0.870830   0.238298  0.834797  0.622811  0.846302   0.402012 -1.512035   \n",
       "\n",
       "      Prin2     Prin3     Prin4     Prin5     Prin6  \n",
       "0 -2.738564 -0.128436 -0.503213  0.243307  0.225761  \n",
       "1 -0.126153  0.431158  0.087262  0.195661  0.194144  \n",
       "2 -0.515007 -0.276831  0.491311 -0.446917 -0.631744  \n",
       "3 -0.860646 -0.917991  0.031738 -0.401372  0.440954  \n",
       "4 -0.352770 -0.326844 -0.328779 -0.327097  0.212461  "
      ]
     },
     "execution_count": 14,
     "metadata": {},
     "output_type": "execute_result"
    }
   ],
   "source": [
    "# 주성분 1 ~ 주성분 6 점수 저장 및 확인\n",
    "df_pca = pd.DataFrame(nd_pca, columns = ['Prin1','Prin2','Prin3','Prin4','Prin5','Prin6'])\n",
    "# 주성분 분석용 데이터와 주성분 점수 결합\n",
    "df_scaled_pca = df_scaled.join(df_pca)\n",
    "df_scaled_pca.head()"
   ]
  },
  {
   "cell_type": "markdown",
   "id": "77e27905",
   "metadata": {},
   "source": [
    "### PCA 결과 : 고유값 확인 및 주성분 개수 결정"
   ]
  },
  {
   "cell_type": "code",
   "execution_count": 16,
   "id": "dc472245",
   "metadata": {},
   "outputs": [
    {
     "data": {
      "text/html": [
       "<div>\n",
       "<style scoped>\n",
       "    .dataframe tbody tr th:only-of-type {\n",
       "        vertical-align: middle;\n",
       "    }\n",
       "\n",
       "    .dataframe tbody tr th {\n",
       "        vertical-align: top;\n",
       "    }\n",
       "\n",
       "    .dataframe thead th {\n",
       "        text-align: right;\n",
       "    }\n",
       "</style>\n",
       "<table border=\"1\" class=\"dataframe\">\n",
       "  <thead>\n",
       "    <tr style=\"text-align: right;\">\n",
       "      <th></th>\n",
       "      <th>PrinNo</th>\n",
       "      <th>EigenValues</th>\n",
       "      <th>EigenValueRatio</th>\n",
       "      <th>CumEigenValueRatio</th>\n",
       "    </tr>\n",
       "  </thead>\n",
       "  <tbody>\n",
       "    <tr>\n",
       "      <th>0</th>\n",
       "      <td>1</td>\n",
       "      <td>3.2785</td>\n",
       "      <td>0.5282</td>\n",
       "      <td>0.5282</td>\n",
       "    </tr>\n",
       "    <tr>\n",
       "      <th>1</th>\n",
       "      <td>2</td>\n",
       "      <td>1.0410</td>\n",
       "      <td>0.1677</td>\n",
       "      <td>0.6959</td>\n",
       "    </tr>\n",
       "    <tr>\n",
       "      <th>2</th>\n",
       "      <td>3</td>\n",
       "      <td>0.7892</td>\n",
       "      <td>0.1272</td>\n",
       "      <td>0.8231</td>\n",
       "    </tr>\n",
       "    <tr>\n",
       "      <th>3</th>\n",
       "      <td>4</td>\n",
       "      <td>0.5716</td>\n",
       "      <td>0.0921</td>\n",
       "      <td>0.9152</td>\n",
       "    </tr>\n",
       "    <tr>\n",
       "      <th>4</th>\n",
       "      <td>5</td>\n",
       "      <td>0.3282</td>\n",
       "      <td>0.0529</td>\n",
       "      <td>0.9680</td>\n",
       "    </tr>\n",
       "    <tr>\n",
       "      <th>5</th>\n",
       "      <td>6</td>\n",
       "      <td>0.1984</td>\n",
       "      <td>0.0320</td>\n",
       "      <td>1.0000</td>\n",
       "    </tr>\n",
       "  </tbody>\n",
       "</table>\n",
       "</div>"
      ],
      "text/plain": [
       "   PrinNo  EigenValues  EigenValueRatio  CumEigenValueRatio\n",
       "0       1       3.2785           0.5282              0.5282\n",
       "1       2       1.0410           0.1677              0.6959\n",
       "2       3       0.7892           0.1272              0.8231\n",
       "3       4       0.5716           0.0921              0.9152\n",
       "4       5       0.3282           0.0529              0.9680\n",
       "5       6       0.1984           0.0320              1.0000"
      ]
     },
     "execution_count": 16,
     "metadata": {},
     "output_type": "execute_result"
    }
   ],
   "source": [
    "# 주성분 분석 통계량\n",
    "df_pca_stat = pd.DataFrame()\n",
    "df_pca_stat['PrinNo'] = [i for i in range(1,7)]\n",
    "df_pca_stat['EigenValues'] = pca.explained_variance_\n",
    "df_pca_stat['EigenValueRatio'] = pca.explained_variance_ratio_\n",
    "df_pca_stat['CumEigenValueRatio'] = np.cumsum(pca.explained_variance_ratio_)\n",
    "df_pca_stat.round(4)"
   ]
  },
  {
   "cell_type": "markdown",
   "id": "548bb145",
   "metadata": {},
   "source": [
    "* 상관계수 기준(고유값 > 1) : 2개\n",
    "* 공분산 기준(고유값 누적비율 > 0.8) : 3개"
   ]
  },
  {
   "cell_type": "markdown",
   "id": "63fd4fdb",
   "metadata": {},
   "source": [
    "### PCA 결과 : Scree Plot 확인 및 주성분 개수 결정"
   ]
  },
  {
   "cell_type": "code",
   "execution_count": 18,
   "id": "b013319f",
   "metadata": {},
   "outputs": [
    {
     "data": {
      "image/png": "[encoded data removed]",
      "text/plain": [
       "<Figure size 432x288 with 1 Axes>"
      ]
     },
     "metadata": {
      "needs_background": "light"
     },
     "output_type": "display_data"
    }
   ],
   "source": [
    "# Scree Plot\n",
    "plt.plot(df_pca_stat['PrinNo'], df_pca_stat['EigenValues'], label = '고유값')\n",
    "plt.ylabel('고유값(EigenValue)')\n",
    "plt.xlabel('주성분 번호')\n",
    "plt.legend(loc = 'best')\n",
    "plt.show()"
   ]
  },
  {
   "cell_type": "code",
   "execution_count": 22,
   "id": "213a5925",
   "metadata": {},
   "outputs": [
    {
     "data": {
      "image/png": "[encoded data removed]",
      "text/plain": [
       "<Figure size 432x288 with 1 Axes>"
      ]
     },
     "metadata": {
      "needs_background": "light"
     },
     "output_type": "display_data"
    }
   ],
   "source": [
    "# 고유값 비율 그래프 생성\n",
    "plt.plot(df_pca_stat['PrinNo'],\n",
    "         df_pca_stat['EigenValueRatio'],\n",
    "         label = '고유값')\n",
    "# 누적된 고유값 비율 그래프 생성\n",
    "plt.plot(df_pca_stat['PrinNo'],\n",
    "         df_pca_stat['CumEigenValueRatio'],\n",
    "         label = '누적 고유값')\n",
    "plt.ylabel('고유값 비율')\n",
    "plt.xlabel('주성분 번호')\n",
    "plt.legend(loc = 'best')\n",
    "plt.show()"
   ]
  },
  {
   "cell_type": "markdown",
   "id": "4e5eefd9",
   "metadata": {},
   "source": [
    "### PCA 결과 : 고유 벡터 확인"
   ]
  },
  {
   "cell_type": "code",
   "execution_count": 23,
   "id": "fe7c7f7f",
   "metadata": {},
   "outputs": [
    {
     "data": {
      "text/html": [
       "<div>\n",
       "<style scoped>\n",
       "    .dataframe tbody tr th:only-of-type {\n",
       "        vertical-align: middle;\n",
       "    }\n",
       "\n",
       "    .dataframe tbody tr th {\n",
       "        vertical-align: top;\n",
       "    }\n",
       "\n",
       "    .dataframe thead th {\n",
       "        text-align: right;\n",
       "    }\n",
       "</style>\n",
       "<table border=\"1\" class=\"dataframe\">\n",
       "  <thead>\n",
       "    <tr style=\"text-align: right;\">\n",
       "      <th></th>\n",
       "      <th>Feature</th>\n",
       "      <th>Prin1</th>\n",
       "      <th>Prin2</th>\n",
       "      <th>Prin3</th>\n",
       "      <th>Prin4</th>\n",
       "      <th>Prin5</th>\n",
       "      <th>Prin6</th>\n",
       "    </tr>\n",
       "  </thead>\n",
       "  <tbody>\n",
       "    <tr>\n",
       "      <th>0</th>\n",
       "      <td>DISSATIS</td>\n",
       "      <td>0.4394</td>\n",
       "      <td>-0.3126</td>\n",
       "      <td>0.4452</td>\n",
       "      <td>0.3160</td>\n",
       "      <td>-0.1915</td>\n",
       "      <td>-0.6119</td>\n",
       "    </tr>\n",
       "    <tr>\n",
       "      <th>1</th>\n",
       "      <td>PRIVILEGE</td>\n",
       "      <td>0.3947</td>\n",
       "      <td>-0.3088</td>\n",
       "      <td>0.2174</td>\n",
       "      <td>-0.8148</td>\n",
       "      <td>-0.0377</td>\n",
       "      <td>0.1903</td>\n",
       "    </tr>\n",
       "    <tr>\n",
       "      <th>2</th>\n",
       "      <td>CHANCE</td>\n",
       "      <td>0.4614</td>\n",
       "      <td>-0.2171</td>\n",
       "      <td>-0.2720</td>\n",
       "      <td>0.2248</td>\n",
       "      <td>0.7756</td>\n",
       "      <td>0.1177</td>\n",
       "    </tr>\n",
       "    <tr>\n",
       "      <th>3</th>\n",
       "      <td>ADVANCE</td>\n",
       "      <td>0.4927</td>\n",
       "      <td>0.1155</td>\n",
       "      <td>0.0056</td>\n",
       "      <td>0.3651</td>\n",
       "      <td>-0.4604</td>\n",
       "      <td>0.6314</td>\n",
       "    </tr>\n",
       "    <tr>\n",
       "      <th>4</th>\n",
       "      <td>CRITISM</td>\n",
       "      <td>0.2248</td>\n",
       "      <td>0.8022</td>\n",
       "      <td>0.4572</td>\n",
       "      <td>-0.0999</td>\n",
       "      <td>0.2889</td>\n",
       "      <td>-0.0578</td>\n",
       "    </tr>\n",
       "    <tr>\n",
       "      <th>5</th>\n",
       "      <td>PROMOTION</td>\n",
       "      <td>0.3808</td>\n",
       "      <td>0.3207</td>\n",
       "      <td>-0.6866</td>\n",
       "      <td>-0.2057</td>\n",
       "      <td>-0.2547</td>\n",
       "      <td>-0.4165</td>\n",
       "    </tr>\n",
       "  </tbody>\n",
       "</table>\n",
       "</div>"
      ],
      "text/plain": [
       "     Feature   Prin1   Prin2   Prin3   Prin4   Prin5   Prin6\n",
       "0   DISSATIS  0.4394 -0.3126  0.4452  0.3160 -0.1915 -0.6119\n",
       "1  PRIVILEGE  0.3947 -0.3088  0.2174 -0.8148 -0.0377  0.1903\n",
       "2     CHANCE  0.4614 -0.2171 -0.2720  0.2248  0.7756  0.1177\n",
       "3    ADVANCE  0.4927  0.1155  0.0056  0.3651 -0.4604  0.6314\n",
       "4    CRITISM  0.2248  0.8022  0.4572 -0.0999  0.2889 -0.0578\n",
       "5  PROMOTION  0.3808  0.3207 -0.6866 -0.2057 -0.2547 -0.4165"
      ]
     },
     "execution_count": 23,
     "metadata": {},
     "output_type": "execute_result"
    }
   ],
   "source": [
    "# 변수 이름\n",
    "x_cols = pd.DataFrame({'Feature' : df_raw_x.columns})\n",
    "# 주성분 1 ~ 주성분 6 고유벡터 저장\n",
    "df_eigenvetor = pd.concat([x_cols, pd.DataFrame(pca.components_.T * -1,\n",
    "                                                columns = ['Prin1','Prin2','Prin3','Prin4','Prin5','Prin6'])], axis = 1)\n",
    "df_eigenvetor.round(4)"
   ]
  },
  {
   "cell_type": "markdown",
   "id": "1aa1af7b",
   "metadata": {},
   "source": [
    "# Step 5. 주성분 상관관계"
   ]
  },
  {
   "cell_type": "markdown",
   "id": "51d59edd",
   "metadata": {},
   "source": [
    "### 산점도 행렬"
   ]
  },
  {
   "cell_type": "code",
   "execution_count": 24,
   "id": "94e52d5f",
   "metadata": {},
   "outputs": [
    {
     "data": {
      "text/plain": [
       "<seaborn.axisgrid.PairGrid at 0x2250ef8be20>"
      ]
     },
     "execution_count": 24,
     "metadata": {},
     "output_type": "execute_result"
    },
    {
     "data": {
      "image/png": "[encoded data removed]",
      "text/plain": [
       "<Figure size 1080x1080 with 42 Axes>"
      ]
     },
     "metadata": {
      "needs_background": "light"
     },
     "output_type": "display_data"
    }
   ],
   "source": [
    "sns.pairplot(df_pca)"
   ]
  },
  {
   "cell_type": "markdown",
   "id": "df547259",
   "metadata": {},
   "source": [
    "### 상관계수"
   ]
  },
  {
   "cell_type": "code",
   "execution_count": 25,
   "id": "b3b3b061",
   "metadata": {},
   "outputs": [
    {
     "data": {
      "text/html": [
       "<div>\n",
       "<style scoped>\n",
       "    .dataframe tbody tr th:only-of-type {\n",
       "        vertical-align: middle;\n",
       "    }\n",
       "\n",
       "    .dataframe tbody tr th {\n",
       "        vertical-align: top;\n",
       "    }\n",
       "\n",
       "    .dataframe thead th {\n",
       "        text-align: right;\n",
       "    }\n",
       "</style>\n",
       "<table border=\"1\" class=\"dataframe\">\n",
       "  <thead>\n",
       "    <tr style=\"text-align: right;\">\n",
       "      <th></th>\n",
       "      <th>Prin1</th>\n",
       "      <th>Prin2</th>\n",
       "      <th>Prin3</th>\n",
       "      <th>Prin4</th>\n",
       "      <th>Prin5</th>\n",
       "      <th>Prin6</th>\n",
       "    </tr>\n",
       "  </thead>\n",
       "  <tbody>\n",
       "    <tr>\n",
       "      <th>Prin1</th>\n",
       "      <td>1.0</td>\n",
       "      <td>0.0</td>\n",
       "      <td>-0.0</td>\n",
       "      <td>-0.0</td>\n",
       "      <td>0.0</td>\n",
       "      <td>0.0</td>\n",
       "    </tr>\n",
       "    <tr>\n",
       "      <th>Prin2</th>\n",
       "      <td>0.0</td>\n",
       "      <td>1.0</td>\n",
       "      <td>0.0</td>\n",
       "      <td>0.0</td>\n",
       "      <td>0.0</td>\n",
       "      <td>-0.0</td>\n",
       "    </tr>\n",
       "    <tr>\n",
       "      <th>Prin3</th>\n",
       "      <td>-0.0</td>\n",
       "      <td>0.0</td>\n",
       "      <td>1.0</td>\n",
       "      <td>0.0</td>\n",
       "      <td>0.0</td>\n",
       "      <td>0.0</td>\n",
       "    </tr>\n",
       "    <tr>\n",
       "      <th>Prin4</th>\n",
       "      <td>-0.0</td>\n",
       "      <td>0.0</td>\n",
       "      <td>0.0</td>\n",
       "      <td>1.0</td>\n",
       "      <td>0.0</td>\n",
       "      <td>0.0</td>\n",
       "    </tr>\n",
       "    <tr>\n",
       "      <th>Prin5</th>\n",
       "      <td>0.0</td>\n",
       "      <td>0.0</td>\n",
       "      <td>0.0</td>\n",
       "      <td>0.0</td>\n",
       "      <td>1.0</td>\n",
       "      <td>0.0</td>\n",
       "    </tr>\n",
       "    <tr>\n",
       "      <th>Prin6</th>\n",
       "      <td>0.0</td>\n",
       "      <td>-0.0</td>\n",
       "      <td>0.0</td>\n",
       "      <td>0.0</td>\n",
       "      <td>0.0</td>\n",
       "      <td>1.0</td>\n",
       "    </tr>\n",
       "  </tbody>\n",
       "</table>\n",
       "</div>"
      ],
      "text/plain": [
       "       Prin1  Prin2  Prin3  Prin4  Prin5  Prin6\n",
       "Prin1    1.0    0.0   -0.0   -0.0    0.0    0.0\n",
       "Prin2    0.0    1.0    0.0    0.0    0.0   -0.0\n",
       "Prin3   -0.0    0.0    1.0    0.0    0.0    0.0\n",
       "Prin4   -0.0    0.0    0.0    1.0    0.0    0.0\n",
       "Prin5    0.0    0.0    0.0    0.0    1.0    0.0\n",
       "Prin6    0.0   -0.0    0.0    0.0    0.0    1.0"
      ]
     },
     "execution_count": 25,
     "metadata": {},
     "output_type": "execute_result"
    }
   ],
   "source": [
    "df_pca.corr().round(4)"
   ]
  },
  {
   "cell_type": "markdown",
   "id": "f32527f2",
   "metadata": {},
   "source": [
    "### 회귀분석 : raw"
   ]
  },
  {
   "cell_type": "code",
   "execution_count": 29,
   "id": "a4001dc6",
   "metadata": {},
   "outputs": [
    {
     "name": "stdout",
     "output_type": "stream",
     "text": [
      "                            OLS Regression Results                            \n",
      "==============================================================================\n",
      "Dep. Variable:                   EVAL   R-squared:                       0.733\n",
      "Model:                            OLS   Adj. R-squared:                  0.663\n",
      "Method:                 Least Squares   F-statistic:                     10.50\n",
      "Date:                Mon, 02 Jan 2023   Prob (F-statistic):           1.24e-05\n",
      "Time:                        09:51:24   Log-Likelihood:                -97.250\n",
      "No. Observations:                  30   AIC:                             208.5\n",
      "Df Residuals:                      23   BIC:                             218.3\n",
      "Df Model:                           6                                         \n",
      "Covariance Type:            nonrobust                                         \n",
      "==============================================================================\n",
      "                 coef    std err          t      P>|t|      [0.025      0.975]\n",
      "------------------------------------------------------------------------------\n",
      "const         10.7871     11.589      0.931      0.362     -13.187      34.761\n",
      "DISSATIS       0.6132      0.161      3.809      0.001       0.280       0.946\n",
      "PRIVILEGE     -0.0731      0.136     -0.538      0.596      -0.354       0.208\n",
      "CHANCE         0.3203      0.169      1.901      0.070      -0.028       0.669\n",
      "ADVANCE        0.0817      0.221      0.369      0.715      -0.376       0.540\n",
      "CRITISM        0.0384      0.147      0.261      0.796      -0.266       0.342\n",
      "PROMOTION     -0.2171      0.178     -1.218      0.236      -0.586       0.152\n",
      "==============================================================================\n",
      "Omnibus:                        2.386   Durbin-Watson:                   1.795\n",
      "Prob(Omnibus):                  0.303   Jarque-Bera (JB):                1.255\n",
      "Skew:                          -0.081   Prob(JB):                        0.534\n",
      "Kurtosis:                       2.011   Cond. No.                     1.34e+03\n",
      "==============================================================================\n",
      "\n",
      "Notes:\n",
      "[1] Standard Errors assume that the covariance matrix of the errors is correctly specified.\n",
      "[2] The condition number is large, 1.34e+03. This might indicate that there are\n",
      "strong multicollinearity or other numerical problems.\n"
     ]
    }
   ],
   "source": [
    "# 절편 추가\n",
    "df_raw_x_const = sm.add_constant(df_raw_x)\n",
    "# 회귀모델 생성\n",
    "reg_model = sm.OLS(df_raw_y, df_raw_x_const)\n",
    "# 회귀모델 적합\n",
    "reg_model = reg_model.fit()\n",
    "# 모델 성능 확인\n",
    "print(reg_model.summary())"
   ]
  },
  {
   "cell_type": "markdown",
   "id": "09cc502c",
   "metadata": {},
   "source": [
    "### 회귀분석 : PCA"
   ]
  },
  {
   "cell_type": "code",
   "execution_count": 33,
   "id": "816e4762",
   "metadata": {},
   "outputs": [
    {
     "name": "stdout",
     "output_type": "stream",
     "text": [
      "                            OLS Regression Results                            \n",
      "==============================================================================\n",
      "Dep. Variable:                   EVAL   R-squared:                       0.624\n",
      "Model:                            OLS   Adj. R-squared:                  0.580\n",
      "Method:                 Least Squares   F-statistic:                     14.36\n",
      "Date:                Mon, 02 Jan 2023   Prob (F-statistic):           1.02e-05\n",
      "Time:                        09:56:23   Log-Likelihood:                -102.38\n",
      "No. Observations:                  30   AIC:                             212.8\n",
      "Df Residuals:                      26   BIC:                             218.4\n",
      "Df Model:                           3                                         \n",
      "Covariance Type:            nonrobust                                         \n",
      "==============================================================================\n",
      "                 coef    std err          t      P>|t|      [0.025      0.975]\n",
      "------------------------------------------------------------------------------\n",
      "const         64.6333      1.440     44.890      0.000      61.674      67.593\n",
      "Prin1         -4.5451      0.809     -5.620      0.000      -6.208      -2.883\n",
      "Prin2          3.3489      1.435      2.333      0.028       0.399       6.299\n",
      "Prin3         -4.0601      1.648     -2.463      0.021      -7.448      -0.672\n",
      "==============================================================================\n",
      "Omnibus:                        1.252   Durbin-Watson:                   2.154\n",
      "Prob(Omnibus):                  0.535   Jarque-Bera (JB):                1.044\n",
      "Skew:                          -0.237   Prob(JB):                        0.593\n",
      "Kurtosis:                       2.219   Cond. No.                         2.04\n",
      "==============================================================================\n",
      "\n",
      "Notes:\n",
      "[1] Standard Errors assume that the covariance matrix of the errors is correctly specified.\n"
     ]
    }
   ],
   "source": [
    "# 주성분 선택\n",
    "x_vars = ['Prin1','Prin2','Prin3']\n",
    "# 절편 추가\n",
    "df_pca_const = sm.add_constant(df_pca[x_vars])\n",
    "# 회귀모델 생성\n",
    "reg_pca_model = sm.OLS(df_raw_y, df_pca_const)\n",
    "# 회귀모델 적합\n",
    "reg_pca_model = reg_pca_model.fit()\n",
    "# 모델 성능 확인\n",
    "print(reg_pca_model.summary())"
   ]
  },
  {
   "cell_type": "markdown",
   "id": "995cc149",
   "metadata": {},
   "source": [
    "* raw 를 이용한 모델보타 주성분 3개를 이용한 회귀무델의 설명력이 11% 정도 낮음\n",
    "* 회귀계수는 모두 유의함"
   ]
  }
 ],
 "metadata": {
  "kernelspec": {
   "display_name": "Python 3 (ipykernel)",
   "language": "python",
   "name": "python3"
  },
  "language_info": {
   "codemirror_mode": {
    "name": "ipython",
    "version": 3
   },
   "file_extension": ".py",
   "mimetype": "text/x-python",
   "name": "python",
   "nbconvert_exporter": "python",
   "pygments_lexer": "ipython3",
   "version": "3.9.12"
  }
 },
 "nbformat": 4,
 "nbformat_minor": 5
}
