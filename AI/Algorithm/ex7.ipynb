{
 "cells": [
  {
   "cell_type": "code",
   "execution_count": 1,
   "id": "1503580b",
   "metadata": {},
   "outputs": [],
   "source": [
    "import heapq"
   ]
  },
  {
   "cell_type": "code",
   "execution_count": 2,
   "id": "87bbe309",
   "metadata": {},
   "outputs": [
    {
     "name": "stdout",
     "output_type": "stream",
     "text": [
      "2\n",
      "1 -1 2 7 3 -1 5 -1 4 -1\n",
      "1 2 3 4 \n",
      "\n",
      "3 4 2 1 5 -1\n",
      "1 \n",
      "\n"
     ]
    }
   ],
   "source": [
    "for _ in range(int(input())) :\n",
    "    hq = []\n",
    "    qry = list(map(int,input().split()))\n",
    "    for q in qry :\n",
    "        if q > 0 :\n",
    "            heapq.heappush(hq,q)\n",
    "        else : \n",
    "            print(heapq.heappop(hq), end = ' ')\n",
    "    print('\\n')"
   ]
  },
  {
   "cell_type": "markdown",
   "id": "4da09c51",
   "metadata": {},
   "source": [
    "# 답안"
   ]
  },
  {
   "cell_type": "code",
   "execution_count": 3,
   "id": "a43c3df8",
   "metadata": {},
   "outputs": [
    {
     "name": "stdout",
     "output_type": "stream",
     "text": [
      "2\n",
      "1 -1 2 7 3 -1 5 -1 4 -1\n",
      "1 2 3 4 \n",
      "3 4 2 1 5 -1\n",
      "1 \n"
     ]
    }
   ],
   "source": [
    "import heapq\n",
    "\n",
    "for _ in range(int(input())) :\n",
    "    hq = []\n",
    "    qry = list(map(int,input().split()))\n",
    "    \n",
    "    for q in qry :\n",
    "        if q > 0 :\n",
    "            heapq.heappush(hq,q)\n",
    "        else :\n",
    "            print(heapq.heappop(hq), end = ' ')\n",
    "    print()"
   ]
  },
  {
   "cell_type": "code",
   "execution_count": null,
   "id": "af61af94",
   "metadata": {},
   "outputs": [],
   "source": []
  }
 ],
 "metadata": {
  "kernelspec": {
   "display_name": "Python 3 (ipykernel)",
   "language": "python",
   "name": "python3"
  },
  "language_info": {
   "codemirror_mode": {
    "name": "ipython",
    "version": 3
   },
   "file_extension": ".py",
   "mimetype": "text/x-python",
   "name": "python",
   "nbconvert_exporter": "python",
   "pygments_lexer": "ipython3",
   "version": "3.8.13"
  }
 },
 "nbformat": 4,
 "nbformat_minor": 5
}
