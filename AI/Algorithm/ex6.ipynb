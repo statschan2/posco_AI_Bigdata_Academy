{
 "cells": [
  {
   "cell_type": "code",
   "execution_count": 10,
   "id": "c5bc9dd5",
   "metadata": {},
   "outputs": [
    {
     "name": "stdout",
     "output_type": "stream",
     "text": [
      "2\n",
      "1 -1 2 7 3 -1 4 -1 5 -1\n",
      "1 2 7 3 \n",
      "\n",
      "3 4 2 1 5 -1\n",
      "3 \n",
      "\n"
     ]
    }
   ],
   "source": [
    "for _ in range(int(input())) :\n",
    "    queue = []\n",
    "    qry = list(map(int,input().split()))\n",
    "    for q in qry :\n",
    "        if q > 0 :\n",
    "            queue.append(q)\n",
    "        else : \n",
    "            print(queue.pop(0), end = ' ')\n",
    "    print('\\n')"
   ]
  },
  {
   "cell_type": "code",
   "execution_count": 1,
   "id": "f7afdba9",
   "metadata": {},
   "outputs": [
    {
     "name": "stdout",
     "output_type": "stream",
     "text": [
      "2\n",
      "1 -1 2 7 3 -1 4 -1 5 -1\n",
      "1 2 7 3 \n",
      "3 4 2 1 5 -1\n",
      "3 \n"
     ]
    }
   ],
   "source": [
    "# 답안\n",
    "import collections\n",
    "\n",
    "for _ in range(int(input())) :\n",
    "    queue = collections.deque([])\n",
    "    qry = list(map(int,input().split()))\n",
    "    \n",
    "    for q in qry :\n",
    "        if q > 0 :\n",
    "            queue.append(q)\n",
    "        else :\n",
    "            print(queue.popleft(), end = ' ')\n",
    "    print()"
   ]
  },
  {
   "cell_type": "code",
   "execution_count": null,
   "id": "9f879148",
   "metadata": {},
   "outputs": [],
   "source": []
  }
 ],
 "metadata": {
  "kernelspec": {
   "display_name": "Python 3 (ipykernel)",
   "language": "python",
   "name": "python3"
  },
  "language_info": {
   "codemirror_mode": {
    "name": "ipython",
    "version": 3
   },
   "file_extension": ".py",
   "mimetype": "text/x-python",
   "name": "python",
   "nbconvert_exporter": "python",
   "pygments_lexer": "ipython3",
   "version": "3.8.13"
  }
 },
 "nbformat": 4,
 "nbformat_minor": 5
}
