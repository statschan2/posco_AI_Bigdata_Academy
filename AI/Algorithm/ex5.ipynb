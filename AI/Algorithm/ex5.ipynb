{
 "cells": [
  {
   "cell_type": "code",
   "execution_count": 3,
   "id": "a68c2bdf",
   "metadata": {},
   "outputs": [
    {
     "name": "stdout",
     "output_type": "stream",
     "text": [
      "2\n",
      "1 -1 2 7 3 -1 4 -1 5 -1\n",
      "1 3 4 5 \n",
      "\n",
      "3 4 2 1 5 -1\n",
      "5 \n",
      "\n"
     ]
    }
   ],
   "source": [
    "for _ in range(int(input())) :\n",
    "    stack = []\n",
    "    qry = list(map(int,input().split()))\n",
    "    for q in qry :\n",
    "        if q > 0 :\n",
    "            stack.append(q)\n",
    "        else : \n",
    "            print(stack.pop(), end = ' ')\n",
    "    print('\\n')"
   ]
  },
  {
   "cell_type": "markdown",
   "id": "3029f13f",
   "metadata": {},
   "source": [
    "# 답안"
   ]
  },
  {
   "cell_type": "code",
   "execution_count": 1,
   "id": "8d09078f",
   "metadata": {},
   "outputs": [
    {
     "name": "stdout",
     "output_type": "stream",
     "text": [
      "2\n",
      "1 -1 2 7 3 -1 4 -1 5 -1\n",
      "1 3 4 5 \n",
      "3 4 2 1 5 -1\n",
      "5 \n"
     ]
    }
   ],
   "source": [
    "for _ in range(int(input())) :\n",
    "    stack = []\n",
    "    qry = list(map(int,input().split()))\n",
    "    \n",
    "    for q in qry :\n",
    "        if q > 0 :\n",
    "            stack.append(q)\n",
    "        else :\n",
    "            print(stack.pop(), end = ' ')\n",
    "    print()"
   ]
  },
  {
   "cell_type": "code",
   "execution_count": null,
   "id": "27608d90",
   "metadata": {},
   "outputs": [],
   "source": []
  }
 ],
 "metadata": {
  "kernelspec": {
   "display_name": "Python 3 (ipykernel)",
   "language": "python",
   "name": "python3"
  },
  "language_info": {
   "codemirror_mode": {
    "name": "ipython",
    "version": 3
   },
   "file_extension": ".py",
   "mimetype": "text/x-python",
   "name": "python",
   "nbconvert_exporter": "python",
   "pygments_lexer": "ipython3",
   "version": "3.8.13"
  }
 },
 "nbformat": 4,
 "nbformat_minor": 5
}
