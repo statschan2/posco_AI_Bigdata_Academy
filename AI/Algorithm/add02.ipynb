{
 "cells": [
  {
   "cell_type": "code",
   "execution_count": 6,
   "id": "88fdcf7f",
   "metadata": {},
   "outputs": [
    {
     "name": "stdout",
     "output_type": "stream",
     "text": [
      "5\n",
      "7 3 5 7 3 5\n",
      "NO\n",
      "11 2 2 11\n",
      "YES\n",
      "3 2 1 3 2 4 4 1\n",
      "YES\n",
      "1 2 5 1 2 3 5 4 3 4\n",
      "NO\n",
      "7 3 9 7 2 9 4 3 2 4\n",
      "YES\n"
     ]
    }
   ],
   "source": [
    "# from collections import deque\n",
    "\n",
    "# t = int(input())\n",
    "\n",
    "# for _ in range(t) :\n",
    "#     car = list(map(int,input().split()))\n",
    "#     queue = deque([])\n",
    "    \n",
    "#     for c in car :\n",
    "#         if c not in queue :\n",
    "#             queue.append(c)\n",
    "#         else :\n",
    "#             queue.popleft()\n",
    "            \n",
    "#     if queue :\n",
    "#         print('YES')\n",
    "#     else :\n",
    "#         print('NO')"
   ]
  },
  {
   "cell_type": "code",
   "execution_count": 1,
   "id": "ab8d330e",
   "metadata": {},
   "outputs": [
    {
     "name": "stdout",
     "output_type": "stream",
     "text": [
      "5\n",
      "7 3 5 7 3 5\n",
      "NO\n",
      "11 2 2 11\n",
      "YES\n",
      "3 2 1 3 2 4 4 1\n",
      "YES\n",
      "1 2 5 1 2 3 5 4 3 4\n",
      "NO\n",
      "7 3 9 7 2 9 4 3 2 4\n",
      "YES\n"
     ]
    }
   ],
   "source": [
    "from collections import deque\n",
    "\n",
    "t = int(input())\n",
    "\n",
    "for _ in range(t) :\n",
    "    car = list(map(int,input().split()))\n",
    "    queue = deque()\n",
    "    \n",
    "    for c in car :\n",
    "        if not queue or queue[0] != c :\n",
    "            queue.append(c)\n",
    "        else : queue.popleft()\n",
    "\n",
    "    if queue :\n",
    "        print('YES')\n",
    "    else :\n",
    "        print('NO')"
   ]
  },
  {
   "cell_type": "code",
   "execution_count": null,
   "id": "460d1014",
   "metadata": {},
   "outputs": [],
   "source": []
  }
 ],
 "metadata": {
  "kernelspec": {
   "display_name": "Python 3 (ipykernel)",
   "language": "python",
   "name": "python3"
  },
  "language_info": {
   "codemirror_mode": {
    "name": "ipython",
    "version": 3
   },
   "file_extension": ".py",
   "mimetype": "text/x-python",
   "name": "python",
   "nbconvert_exporter": "python",
   "pygments_lexer": "ipython3",
   "version": "3.9.12"
  }
 },
 "nbformat": 4,
 "nbformat_minor": 5
}
