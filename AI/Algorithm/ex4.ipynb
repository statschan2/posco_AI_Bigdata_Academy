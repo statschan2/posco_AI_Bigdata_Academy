{
 "cells": [
  {
   "cell_type": "code",
   "execution_count": 3,
   "id": "39a0c706",
   "metadata": {},
   "outputs": [
    {
     "name": "stdout",
     "output_type": "stream",
     "text": [
      "3\n"
     ]
    }
   ],
   "source": [
    "t = int(input())\n",
    "\n",
    "a = []"
   ]
  },
  {
   "cell_type": "code",
   "execution_count": 4,
   "id": "a0c0953d",
   "metadata": {},
   "outputs": [
    {
     "name": "stdout",
     "output_type": "stream",
     "text": [
      "10 37 19 48 2 5\n",
      "-5 -5 -5 -5 -5 -5 -5\n",
      "1 2 3 4 5 6 5 4 3 2 1 0 -1 99 100 -20\n",
      "46\n",
      "0\n",
      "120\n"
     ]
    }
   ],
   "source": [
    "for i in range(t) :\n",
    "    line = []\n",
    "    b = list(map(int,input().split()))\n",
    "    for j in range(len(b)) :\n",
    "        line.append(b[j])\n",
    "    a.append(line)\n",
    "    \n",
    "c = 0\n",
    "\n",
    "for i in range(t) :\n",
    "    c = max(a[i]) - min(a[i])\n",
    "    print(c)\n",
    "    c = 0"
   ]
  },
  {
   "cell_type": "markdown",
   "id": "afb43b13",
   "metadata": {},
   "source": [
    "# 답안"
   ]
  },
  {
   "cell_type": "code",
   "execution_count": 3,
   "id": "dfa701dd",
   "metadata": {},
   "outputs": [
    {
     "name": "stdout",
     "output_type": "stream",
     "text": [
      "3\n",
      "10 37 19 48 2 5\n",
      "46\n",
      "-5 -5 -5 -5 -5 -5 -5\n",
      "0\n",
      "1 2 3 4 5 6 5 4 3 2 1 0 -1 99 100 -20\n",
      "120\n"
     ]
    }
   ],
   "source": [
    "def Max(l) :\n",
    "    m = l[0]\n",
    "    \n",
    "    for i in l :\n",
    "        if m < i :\n",
    "            m = i\n",
    "    return m\n",
    "\n",
    "def Min(l) :\n",
    "    m = l[0]\n",
    "    for i in l :\n",
    "        if m > i :\n",
    "            m = i\n",
    "    return m\n",
    "\n",
    "t = int(input())\n",
    "\n",
    "for _ in range(t) :\n",
    "    l = list(map(int,input().split()))\n",
    "    print(Max(l) - Min(l))"
   ]
  },
  {
   "cell_type": "code",
   "execution_count": null,
   "id": "0e5925ea",
   "metadata": {},
   "outputs": [],
   "source": []
  }
 ],
 "metadata": {
  "kernelspec": {
   "display_name": "Python 3 (ipykernel)",
   "language": "python",
   "name": "python3"
  },
  "language_info": {
   "codemirror_mode": {
    "name": "ipython",
    "version": 3
   },
   "file_extension": ".py",
   "mimetype": "text/x-python",
   "name": "python",
   "nbconvert_exporter": "python",
   "pygments_lexer": "ipython3",
   "version": "3.9.12"
  }
 },
 "nbformat": 4,
 "nbformat_minor": 5
}
