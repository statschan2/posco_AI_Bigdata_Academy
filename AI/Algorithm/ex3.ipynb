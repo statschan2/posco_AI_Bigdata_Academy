{
 "cells": [
  {
   "cell_type": "code",
   "execution_count": 6,
   "id": "b20541ca",
   "metadata": {},
   "outputs": [
    {
     "name": "stdout",
     "output_type": "stream",
     "text": [
      "4\n"
     ]
    }
   ],
   "source": [
    "t = int(input())\n",
    "\n",
    "a = []"
   ]
  },
  {
   "cell_type": "code",
   "execution_count": 8,
   "id": "13756eb2",
   "metadata": {},
   "outputs": [
    {
     "name": "stdout",
     "output_type": "stream",
     "text": [
      "1 2 3 4\n",
      "2 3 4 5\n",
      "3 4 5 6\n",
      "1 3 5 6\n",
      "15\n",
      "17\n",
      "10\n",
      "14\n"
     ]
    }
   ],
   "source": [
    "for i in range(t) :\n",
    "    line = []\n",
    "    b = list(map(int,input().split()))\n",
    "    for j in range(len(b)) :\n",
    "        line.append(b[j])\n",
    "    a.append(line)\n",
    "    \n",
    "c = 0\n",
    "\n",
    "for i in range(t) :\n",
    "    for j in a[i] :\n",
    "        c += j\n",
    "    print(c)\n",
    "    c = 0"
   ]
  },
  {
   "cell_type": "markdown",
   "id": "51c66c35",
   "metadata": {},
   "source": [
    "# 답안"
   ]
  },
  {
   "cell_type": "code",
   "execution_count": 6,
   "id": "51f3c679",
   "metadata": {},
   "outputs": [],
   "source": [
    "def Sum(l) :\n",
    "    s = 0\n",
    "    \n",
    "    for i in l :\n",
    "        s = s + i\n",
    "    return s"
   ]
  },
  {
   "cell_type": "code",
   "execution_count": 8,
   "id": "586dad66",
   "metadata": {},
   "outputs": [
    {
     "name": "stdout",
     "output_type": "stream",
     "text": [
      "3\n",
      "1 5 9 11 12\n",
      "38\n",
      "0 1 0 2 0 3 0 4 0 5\n",
      "15\n",
      "100 120 -20 -30\n",
      "170\n"
     ]
    }
   ],
   "source": [
    "t = int(input())\n",
    "\n",
    "for _ in range(t) :\n",
    "    l = list(map(int,input().split()))\n",
    "    print(Sum(l))"
   ]
  },
  {
   "cell_type": "code",
   "execution_count": null,
   "id": "24eab10b",
   "metadata": {},
   "outputs": [],
   "source": []
  }
 ],
 "metadata": {
  "kernelspec": {
   "display_name": "Python 3 (ipykernel)",
   "language": "python",
   "name": "python3"
  },
  "language_info": {
   "codemirror_mode": {
    "name": "ipython",
    "version": 3
   },
   "file_extension": ".py",
   "mimetype": "text/x-python",
   "name": "python",
   "nbconvert_exporter": "python",
   "pygments_lexer": "ipython3",
   "version": "3.9.12"
  }
 },
 "nbformat": 4,
 "nbformat_minor": 5
}
