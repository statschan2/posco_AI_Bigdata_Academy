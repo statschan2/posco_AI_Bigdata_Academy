{
 "cells": [
  {
   "cell_type": "code",
   "execution_count": 7,
   "id": "fe0389fe",
   "metadata": {},
   "outputs": [
    {
     "name": "stdout",
     "output_type": "stream",
     "text": [
      "3\n"
     ]
    }
   ],
   "source": [
    "a = input()\n",
    "d = []\n",
    "e = []"
   ]
  },
  {
   "cell_type": "code",
   "execution_count": 8,
   "id": "d179f651",
   "metadata": {},
   "outputs": [
    {
     "name": "stdout",
     "output_type": "stream",
     "text": [
      "1 3\n",
      "2 4\n",
      "3 5\n",
      "3\n"
     ]
    }
   ],
   "source": [
    "for i in range(int(a)) :\n",
    "    b, c = input().split()\n",
    "    d.append(b)\n",
    "    e.append(c)"
   ]
  },
  {
   "cell_type": "code",
   "execution_count": 10,
   "id": "5809f015",
   "metadata": {},
   "outputs": [
    {
     "name": "stdout",
     "output_type": "stream",
     "text": [
      "4\n",
      "6\n",
      "8\n"
     ]
    }
   ],
   "source": [
    "for i in range(int(a)) :\n",
    "    print(int(d[i])+int(e[i]))"
   ]
  },
  {
   "cell_type": "markdown",
   "id": "110a8b9e",
   "metadata": {},
   "source": [
    "# 답안"
   ]
  },
  {
   "cell_type": "code",
   "execution_count": null,
   "id": "f76c43da",
   "metadata": {},
   "outputs": [],
   "source": [
    "t = int(input())\n",
    "\n",
    "for _ in range(t) :\n",
    "    a, b = map(int,input().split())\n",
    "    print(a+b)"
   ]
  }
 ],
 "metadata": {
  "kernelspec": {
   "display_name": "Python 3 (ipykernel)",
   "language": "python",
   "name": "python3"
  },
  "language_info": {
   "codemirror_mode": {
    "name": "ipython",
    "version": 3
   },
   "file_extension": ".py",
   "mimetype": "text/x-python",
   "name": "python",
   "nbconvert_exporter": "python",
   "pygments_lexer": "ipython3",
   "version": "3.9.12"
  }
 },
 "nbformat": 4,
 "nbformat_minor": 5
}
