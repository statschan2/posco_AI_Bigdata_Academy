{
 "cells": [
  {
   "cell_type": "code",
   "execution_count": 17,
   "id": "2713341d",
   "metadata": {},
   "outputs": [],
   "source": [
    "def bracket_check(inputValue) :\n",
    "    matching_dict = {'}' : '{',']' : '[',')' : '('}\n",
    "    stack = []\n",
    "    \n",
    "    for i in inputValue :\n",
    "        if i in ('{','[','(') :\n",
    "            stack.append(i)\n",
    "        elif i in ('}',']',')') :\n",
    "            if not stack or stack[len(stack) - 1] != matching_dict[i] :\n",
    "                return print(\"NO\")\n",
    "            stack.pop()\n",
    "        \n",
    "    if stack :\n",
    "        return print(\"NO\")\n",
    "    else :\n",
    "        return print(\"YES\")"
   ]
  },
  {
   "cell_type": "code",
   "execution_count": 18,
   "id": "a217d91a",
   "metadata": {},
   "outputs": [
    {
     "name": "stdout",
     "output_type": "stream",
     "text": [
      "5\n",
      "()()\n",
      "YES\n",
      "({[}])\n",
      "NO\n",
      "({}[(){}])\n",
      "YES\n",
      "(({})\n",
      "NO\n",
      "())))))))(\n",
      "NO\n"
     ]
    }
   ],
   "source": [
    "t = int(input())\n",
    "\n",
    "for i in range(t) :\n",
    "    bracket_check(input())"
   ]
  },
  {
   "cell_type": "code",
   "execution_count": null,
   "id": "678d8b25",
   "metadata": {},
   "outputs": [],
   "source": []
  }
 ],
 "metadata": {
  "kernelspec": {
   "display_name": "Python 3 (ipykernel)",
   "language": "python",
   "name": "python3"
  },
  "language_info": {
   "codemirror_mode": {
    "name": "ipython",
    "version": 3
   },
   "file_extension": ".py",
   "mimetype": "text/x-python",
   "name": "python",
   "nbconvert_exporter": "python",
   "pygments_lexer": "ipython3",
   "version": "3.8.13"
  }
 },
 "nbformat": 4,
 "nbformat_minor": 5
}
